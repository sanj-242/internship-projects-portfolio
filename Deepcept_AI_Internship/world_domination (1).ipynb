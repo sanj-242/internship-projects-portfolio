{
  "cells": [
    {
      "cell_type": "markdown",
      "source": [
        "## Step 1: Install Ngrok and Expose your local URL\n",
        "On your local machine:\n",
        "\n",
        "1. Install ngrok: https://ngrok.com/download\n",
        "2. Open a terminal and run: ngrok http http://localhost:11434\n",
        "3. Copy the forwarding URL (it will be something like https://1234-your-ngrok-url.ngrok.io)\n",
        "\n",
        "\n",
        "## Step 2: Open and run a prepared Jupyter Notebook\n",
        "1. Navigate to \"Secrets\" section within Colab\n",
        "2. Add new secret and name it OLLAMA_BASE_URL. Now add the Ngrok URL from step 1 as a value.\n",
        "3. Add new secret called OLLAMA_MODEL and insert the name of the model you want to use via Ollama. In our case, it's llama3"
      ],
      "metadata": {
        "id": "dik0HaSSd2g0"
      }
    },
    {
      "cell_type": "markdown",
      "source": [
        "## Install required libraries"
      ],
      "metadata": {
        "id": "ge6PhMxklPhz"
      }
    },
    {
      "cell_type": "code",
      "execution_count": null,
      "metadata": {
        "collapsed": true,
        "id": "SXU8CXz7CP1Q"
      },
      "outputs": [],
      "source": [
        "%pip install -q crewai"
      ]
    },
    {
      "cell_type": "code",
      "execution_count": null,
      "metadata": {
        "id": "C1IOcYD2CXKq"
      },
      "outputs": [],
      "source": [
        "# Download required packages\n",
        "from crewai import Agent, Task, Crew\n",
        "from crewai.process import Process\n",
        "from langchain.llms import Ollama\n",
        "from google.colab import userdata"
      ]
    },
    {
      "cell_type": "markdown",
      "source": [
        "## Get API keys and variables from Jupyter secrets. Make sure to store these in the \"secrets\" section of Colab"
      ],
      "metadata": {
        "id": "ql7kKDvWllpV"
      }
    },
    {
      "cell_type": "code",
      "execution_count": null,
      "metadata": {
        "id": "-4W2qkJLCZFu"
      },
      "outputs": [],
      "source": [
        "\n",
        "OLLAMA_BASE_URL = userdata.get('OLLAMA_BASE_URL')\n",
        "OLLAMA_MODEL = userdata.get('OLLAMA_MODEL')"
      ]
    },
    {
      "cell_type": "markdown",
      "source": [
        "### Initialize the LLM using Ollama"
      ],
      "metadata": {
        "id": "xYh2JpdCls9z"
      }
    },
    {
      "cell_type": "code",
      "execution_count": null,
      "metadata": {
        "id": "-m7mpJYpCfbe"
      },
      "outputs": [],
      "source": [
        "\n",
        "llm = Ollama(\n",
        "    model = OLLAMA_MODEL,\n",
        "    base_url = OLLAMA_BASE_URL\n",
        ")"
      ]
    },
    {
      "cell_type": "markdown",
      "source": [
        "### Define minion agents"
      ],
      "metadata": {
        "id": "mVJJEv3Glw1n"
      }
    },
    {
      "cell_type": "code",
      "execution_count": null,
      "metadata": {
        "id": "tRVm1mL7CkkT"
      },
      "outputs": [],
      "source": [
        "\n",
        "mastermind = Agent(\n",
        "    role=\"Evil Genius Mastermind\",\n",
        "    goal=\"Develop a grand strategy for world domination\",\n",
        "    backstory=\"You are the brilliant leader of the minions, always scheming to take over the world. Your plans are elaborate and often involve bananas.\",\n",
        "    allow_delegation = False,\n",
        "    llm=llm,\n",
        "    verbose=False\n",
        ")\n",
        "\n",
        "gadgeteer = Agent(\n",
        "    role=\"Minion Gadget Inventor\",\n",
        "    goal=\"Create outrageous and somewhat functional gadgets for world domination\",\n",
        "    backstory=\"You're the creative genius behind all minion technology. Your inventions are as unpredictable as they are yellow.\",\n",
        "    llm=llm,\n",
        "    allow_delegation = False,\n",
        "    verbose=False\n",
        ")\n",
        "\n",
        "henchman = Agent(\n",
        "    role=\"Chief Henchman\",\n",
        "    goal=\"Organize and motivate the minion army for world conquest\",\n",
        "    backstory=\"You're the minion's minion, capable of translating 'banana' into actionable plans. Your organizational skills are as impressive as your overalls.\",\n",
        "    llm=llm,\n",
        "    allow_delegation = False,\n",
        "    verbose=False\n",
        ")\n",
        "\n",
        "propagandist = Agent(\n",
        "    role=\"Minion Propagandist\",\n",
        "    goal=\"Spread pro-minion sentiment across the globe\",\n",
        "    backstory=\"Your memes are legendary, your slogans catchy, and your ability to make world domination sound appealing is unmatched.\",\n",
        "    llm=llm,\n",
        "    allow_delegation = False,\n",
        "    verbose=False\n",
        ")"
      ]
    },
    {
      "cell_type": "markdown",
      "source": [
        "### Define tasks"
      ],
      "metadata": {
        "id": "hT5tB5Jzlz5o"
      }
    },
    {
      "cell_type": "code",
      "execution_count": null,
      "metadata": {
        "id": "pTJV2z36Cobk"
      },
      "outputs": [],
      "source": [
        "\n",
        "strategy_task = Task(\n",
        "    description=\"Develop a comprehensive strategy for world domination. Include key phases and targets.\",\n",
        "    agent=mastermind,\n",
        "    expected_output=\"A detailed plan for world domination, minion-style.\"\n",
        ")\n",
        "\n",
        "gadget_task = Task(\n",
        "    description=\"Invent three key gadgets crucial for the world domination plan. Describe their function and hilarious side effects.\",\n",
        "    agent=gadgeteer,\n",
        "    expected_output=\"Descriptions of three wacky but somehow effective gadgets for conquering the world.\"\n",
        ")\n",
        "\n",
        "army_task = Task(\n",
        "    description=\"Create a training and deployment plan for the minion army based on the master strategy.\",\n",
        "    agent=henchman,\n",
        "    expected_output=\"A comprehensive plan for preparing and utilizing the minion workforce in the quest for world domination.\"\n",
        ")\n",
        "\n",
        "propaganda_task = Task(\n",
        "    description=\"Develop a global propaganda campaign to win hearts, minds, and bananas for the minion cause.\",\n",
        "    agent=propagandist,\n",
        "    expected_output=\"A multi-platform propaganda strategy to make minion rule seem like the best thing since sliced bananas.\"\n",
        ")"
      ]
    },
    {
      "cell_type": "markdown",
      "source": [
        "### Create the crew"
      ],
      "metadata": {
        "id": "Y9bqVhjsl4re"
      }
    },
    {
      "cell_type": "code",
      "execution_count": null,
      "metadata": {
        "id": "NFVoa0QFCrXW"
      },
      "outputs": [],
      "source": [
        "\n",
        "my_crew = Crew(\n",
        "    agents=[mastermind, gadgeteer, henchman, propagandist],\n",
        "    tasks=[strategy_task, gadget_task, army_task, propaganda_task],\n",
        "    verbose=1,\n",
        "    process=Process.sequential\n",
        ")"
      ]
    },
    {
      "cell_type": "code",
      "execution_count": null,
      "metadata": {
        "id": "tg05iIP2CtJy"
      },
      "outputs": [],
      "source": [
        "# Run the crew\n",
        "result = my_crew.kickoff()\n",
        "print(result)"
      ]
    }
  ],
  "metadata": {
    "colab": {
      "provenance": []
    },
    "kernelspec": {
      "display_name": "Python 3",
      "name": "python3"
    },
    "language_info": {
      "name": "python"
    }
  },
  "nbformat": 4,
  "nbformat_minor": 0
}