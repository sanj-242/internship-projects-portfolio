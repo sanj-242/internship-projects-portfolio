{
  "cells": [
    {
      "cell_type": "markdown",
      "id": "840c4572",
      "metadata": {
        "papermill": {
          "duration": 0.094663,
          "end_time": "2022-04-28T06:45:46.063452",
          "exception": false,
          "start_time": "2022-04-28T06:45:45.968789",
          "status": "completed"
        },
        "tags": [],
        "id": "840c4572"
      },
      "source": [
        "# **Introduction to Natural Language Processing Basics**\n",
        "\n",
        "## **Part 1_Process**\n",
        "\n",
        "### **1. Data Cleaning and Preprocessing:**\n",
        "\n",
        "- Data-Punctuations,stopwords,number,caseconversion (Remove noise)\n",
        "- word normalization(stemming,tokenization,lemmatization,POS,NER)\n",
        "- word standartization(tables,regularexp)--> Clean text data\n",
        "\n",
        "### **2. Text Representation and word_Embedding:**\n",
        "\n",
        "- BOW\n",
        "- TF-IDF\n",
        "- Word-Embedding (word2vec,doc2vec,Glove)\n",
        "- TSNE visualization\n",
        "\n",
        "## **Part 2_Process**\n",
        "\n",
        "### **3. Transformer**\n",
        "\n",
        "- BERT, DEBERT, ROBERT, HUGGINGFACE\n",
        "\n",
        "----------------------------------------------------------------------------------------------------------------------------------------"
      ]
    },
    {
      "cell_type": "markdown",
      "source": [
        "# **Table of Contents**\n",
        "\n",
        "1. [Environment Set up](#scrollTo=OdG_AgOSqGoE)\n",
        "2. [Installing nltk](#scrollTo=UJty9QDetayS)\n",
        "    - [2.1 Verifying if nltk is already installed](#scrollTo=PH8r7zvotlEi)\n",
        "    - [2.2 nltk installing method](#scrollTo=X0xRP53VuMAv)\n",
        "3. [Tokenizing](#scrollTo=a934d3e5)\n",
        "    - [3.1 Sentence Tokenize](#scrollTo=8345c793)\n",
        "    - [3.2 Word Tokenize](#scrollTo=05ea679e)\n",
        "4. [Stopwords](#scrollTo=ceb2d0e1)\n",
        "5. [Stemming](#scrollTo=f12c1037)\n",
        "6. [Parts of Speech Tagging(POS)](#scrollTo=056fdd13)\n",
        "    - [6.1 POS Tag List](#scrollTo=T4CiYMOBDi_t)\n",
        "7. [Chunking](#scrollTo=a31eb6e1)\n",
        "    - [7.1 Regular Expression](#scrollTo=0d595405)\n",
        "8. [Chinking](#scrollTo=5ebd129d)  \n",
        "9. [Named Entity Recognition](#scrollTo=a17178f2)\n",
        "10. [Lemmatization](#scrollTo=60c4528e)\n",
        "11. [Corpora](#scrollTo=20d874a3)\n",
        "12. [WordNet](#scrollTo=ae37f348)\n",
        "13. [Similarity Identification](#scrollTo=2806f916)\n",
        "14. [Applying above knowledge in Simple nltk Corpus data](#scrollTo=eba882d1)\n",
        "     - [14.1 Text Classification](#scrollTo=edERyk3VgMU0)\n",
        "     - [14.2 Converting Words to features](#scrollTo=b92cbefd)\n",
        "     - [14.3 Apply Algorithm and Predict Output](#scrollTo=713eaf50)\n",
        "     - [14.4 Save_Load the Pickle File](#scrollTo=c8ea2ff6)\n",
        "15. [Text Representation](#scrollTo=65a2d4b4)\n",
        "     - [15.1 One Hot Encoding of Text](#scrollTo=6764396e)\n",
        "      - [15.1.1 Manual Function - OHE](#scrollTo=w-ehdUBTlM0v)\n",
        "      - [15.1.2 Scikit-learn pack - OHE](#scrollTo=ec73a188)\n",
        "     - [15.2 Bag of Words](#scrollTo=c55e9c34)\n",
        "     - [15.3 Bag of N-Gram](#scrollTo=41009069)\n",
        "     - [15.4 TF-IDF](#scrollTo=56d7fd98)\n",
        "     - [15.5 Word Embedding](#scrollTo=028903e8)\n",
        "      - [15.5.1 CBOW (Continuous BOW)](#scrollTo=6cc39c16)\n",
        "      - [15.5.2 Skipgram](#scrollTo=6dadbf79)\n",
        "      - [15.5.3 DOC2VEC](#scrollTo=d5cb330d)\n",
        "      - [15.5.4 T-SNE Visualize Embedding](#scrollTo=859fcb29)\n",
        "      - [15.5.5 FastText](#scrollTo=3dcf4dd6)\n",
        "      - [15.5.6 Glove](#scrollTo=e7a1e5a2)\n",
        "16. [Trying Glove embed, Build lstm model and predict output](#scrollTo=1e997c06)\n",
        "     - [16.1 Count the score attribute](#scrollTo=b0843e67)\n",
        "     - [16.2 Feature Selection](#scrollTo=3744dac2)\n",
        "     - [16.3 Tokenize, Pad, Vocb the input](#scrollTo=02caed36)\n",
        "     - [16.4 Initialize Glove 300d input txt file and apply Input data](#scrollTo=700bcd07)\n",
        "     - [16.5 Build the model](#scrollTo=eee6f93e)\n",
        "     - [16.6 Save the model](#scrollTo=0e29f5ac)\n",
        "     - [16.7 Apply Test Data and Predict Output](#scrollTo=bf48f82c)\n",
        "     - [16.8 Generate Output CSV File](#scrollTo=a0eb4669)\n",
        "17. [References](#scrollTo=c535d5ab)\n",
        "      \n",
        "      \n",
        "      \n",
        "      \n",
        "\n",
        "\n",
        "     "
      ],
      "metadata": {
        "id": "qQGn3HnPplKd"
      },
      "id": "qQGn3HnPplKd"
    },
    {
      "cell_type": "markdown",
      "source": [
        "# <a id=\"Environment-Set-up\"></a>**1. Environment Set up**\n",
        "\n",
        "[Go back](#scrollTo=qQGn3HnPplKd)\n",
        "\n",
        "\n",
        "- By running all the cells outlined in this section, it will set up all the required directories where we will execute our NumPy programs.\n",
        "\n",
        " The utilized commands are...\n",
        "\n",
        "\n",
        "\n",
        "\n",
        "\n",
        "\n",
        "\n",
        "1. !pwd-  It is used to print the current working directory\n",
        "2. %cd-  It is used to change the current working directory\n",
        "3. %mkdir- It is used to create a new working directory\n",
        "4. %ls-  is used to list the contents of the current directory\n",
        "\n",
        "- Finally, we will be in the following path, where code execution begins.\n",
        "- /home/Deepcept/numpy/playground"
      ],
      "metadata": {
        "id": "OdG_AgOSqGoE"
      },
      "id": "OdG_AgOSqGoE"
    },
    {
      "cell_type": "code",
      "source": [
        "!pwd"
      ],
      "metadata": {
        "colab": {
          "base_uri": "https://localhost:8080/"
        },
        "id": "C8hV4Ohihr8A",
        "outputId": "4310b0fa-0f2c-4946-9b62-b0a701272329"
      },
      "execution_count": null,
      "outputs": [
        {
          "output_type": "stream",
          "name": "stdout",
          "text": [
            "/content\n"
          ]
        }
      ],
      "id": "C8hV4Ohihr8A"
    },
    {
      "cell_type": "code",
      "execution_count": null,
      "metadata": {
        "id": "ZlRS8jPy0X-n",
        "colab": {
          "base_uri": "https://localhost:8080/"
        },
        "outputId": "053f80c7-e963-401f-c259-b5d271a93cb1"
      },
      "outputs": [
        {
          "output_type": "stream",
          "name": "stdout",
          "text": [
            "/root\n"
          ]
        }
      ],
      "source": [
        "%cd"
      ],
      "id": "ZlRS8jPy0X-n"
    },
    {
      "cell_type": "code",
      "source": [
        "%cd /home"
      ],
      "metadata": {
        "colab": {
          "base_uri": "https://localhost:8080/"
        },
        "id": "BW3zlNdW0qoV",
        "outputId": "9ae07cba-2f67-43aa-fb32-a542f4d19884"
      },
      "execution_count": null,
      "outputs": [
        {
          "output_type": "stream",
          "name": "stdout",
          "text": [
            "/home\n"
          ]
        }
      ],
      "id": "BW3zlNdW0qoV"
    },
    {
      "cell_type": "code",
      "source": [
        "%mkdir Deepcept"
      ],
      "metadata": {
        "id": "cE_3AT_BnK99"
      },
      "execution_count": null,
      "outputs": [],
      "id": "cE_3AT_BnK99"
    },
    {
      "cell_type": "code",
      "source": [
        "%cd Deepcept"
      ],
      "metadata": {
        "colab": {
          "base_uri": "https://localhost:8080/"
        },
        "id": "EJcMzPS4nOAr",
        "outputId": "d4403b01-55e1-4d9d-e045-2275971be8db"
      },
      "execution_count": null,
      "outputs": [
        {
          "output_type": "stream",
          "name": "stdout",
          "text": [
            "/home/Deepcept\n"
          ]
        }
      ],
      "id": "EJcMzPS4nOAr"
    },
    {
      "cell_type": "markdown",
      "source": [
        "# <a id=\"Installing-nltk\"></a>**2. Installing nltk**\n",
        "[Go back](#scrollTo=qQGn3HnPplKd)\n",
        "\n",
        "- In this section, we'll verify the installation of nltk using the grep command. If it's not installed, we'll proceed to install it using the pip command."
      ],
      "metadata": {
        "id": "UJty9QDetayS"
      },
      "id": "UJty9QDetayS"
    },
    {
      "cell_type": "markdown",
      "source": [
        "##**2.1 Verifying if nltk is already installed**##\n",
        "- Current version: 1.25.2"
      ],
      "metadata": {
        "id": "PH8r7zvotlEi"
      },
      "id": "PH8r7zvotlEi"
    },
    {
      "cell_type": "code",
      "source": [
        "!pip3 list | grep nltk"
      ],
      "metadata": {
        "id": "ujrzsiQttA8O"
      },
      "id": "ujrzsiQttA8O",
      "execution_count": null,
      "outputs": []
    },
    {
      "cell_type": "markdown",
      "source": [
        "##**2.2 Nltk installing method**##\n"
      ],
      "metadata": {
        "id": "X0xRP53VuMAv"
      },
      "id": "X0xRP53VuMAv"
    },
    {
      "cell_type": "code",
      "source": [
        "!pip install nltk"
      ],
      "metadata": {
        "id": "FsURXUT-uQUM"
      },
      "id": "FsURXUT-uQUM",
      "execution_count": null,
      "outputs": []
    },
    {
      "cell_type": "code",
      "execution_count": 1,
      "id": "a65c29be",
      "metadata": {
        "execution": {
          "iopub.execute_input": "2022-04-28T06:45:46.447510Z",
          "iopub.status.busy": "2022-04-28T06:45:46.446728Z",
          "iopub.status.idle": "2022-04-28T06:45:47.659924Z",
          "shell.execute_reply": "2022-04-28T06:45:47.659306Z",
          "shell.execute_reply.started": "2022-04-28T06:01:04.233199Z"
        },
        "papermill": {
          "duration": 1.315712,
          "end_time": "2022-04-28T06:45:47.660063",
          "exception": false,
          "start_time": "2022-04-28T06:45:46.344351",
          "status": "completed"
        },
        "tags": [],
        "id": "a65c29be"
      },
      "outputs": [],
      "source": [
        "import numpy as np\n",
        "import pandas as pd\n",
        "import nltk\n",
        "from nltk.tokenize import sent_tokenize, word_tokenize"
      ]
    },
    {
      "cell_type": "code",
      "execution_count": 2,
      "id": "a45f5a42",
      "metadata": {
        "execution": {
          "iopub.execute_input": "2022-04-28T06:45:47.859771Z",
          "iopub.status.busy": "2022-04-28T06:45:47.858789Z",
          "iopub.status.idle": "2022-04-28T06:45:47.860616Z",
          "shell.execute_reply": "2022-04-28T06:45:47.861090Z",
          "shell.execute_reply.started": "2022-04-28T06:01:04.70492Z"
        },
        "papermill": {
          "duration": 0.102487,
          "end_time": "2022-04-28T06:45:47.861238",
          "exception": false,
          "start_time": "2022-04-28T06:45:47.758751",
          "status": "completed"
        },
        "tags": [],
        "id": "a45f5a42"
      },
      "outputs": [],
      "source": [
        "ex_text = \"Hello Mr. VK I am there, how are you doing today? The weather is great and Nltk is awesome. The Nltk is super compare to other library. Its oops based developed.\""
      ]
    },
    {
      "cell_type": "markdown",
      "id": "a934d3e5",
      "metadata": {
        "papermill": {
          "duration": 0.097934,
          "end_time": "2022-04-28T06:45:48.086385",
          "exception": false,
          "start_time": "2022-04-28T06:45:47.988451",
          "status": "completed"
        },
        "tags": [],
        "id": "a934d3e5"
      },
      "source": [
        "# **3. Tokenizing**\n",
        "[Go back](#scrollTo=qQGn3HnPplKd)\n",
        "## **Lexicon and Corporas**\n",
        "\n",
        "- corpus -> A corpus can be defined as a collection of text documents. It can be thought as just a bunch of text files in a directory,               often alongside many other directories of text files\n",
        "- corpora -> body of text, ex: medical journals, presidential speeches, english language\n",
        "- lexicon -> words and their means\n",
        "- Token -> Each \"entity\" that is a part of whatever was split up based on rules. For examples, each word is a token when a sentence is             \"tokenized\" into words. Each sentence can also be a token, if you tokenized the sentences out of a paragraph."
      ]
    },
    {
      "cell_type": "markdown",
      "id": "8345c793",
      "metadata": {
        "papermill": {
          "duration": 0.094127,
          "end_time": "2022-04-28T06:45:48.276971",
          "exception": false,
          "start_time": "2022-04-28T06:45:48.182844",
          "status": "completed"
        },
        "tags": [],
        "id": "8345c793"
      },
      "source": [
        "## **3.1 Sentence_Tokenize**"
      ]
    },
    {
      "cell_type": "code",
      "execution_count": null,
      "id": "d4d2fe7d",
      "metadata": {
        "execution": {
          "iopub.execute_input": "2022-04-28T06:45:48.517150Z",
          "iopub.status.busy": "2022-04-28T06:45:48.516426Z",
          "iopub.status.idle": "2022-04-28T06:45:48.532518Z",
          "shell.execute_reply": "2022-04-28T06:45:48.533105Z",
          "shell.execute_reply.started": "2022-04-28T06:01:05.219048Z"
        },
        "papermill": {
          "duration": 0.160577,
          "end_time": "2022-04-28T06:45:48.533300",
          "exception": false,
          "start_time": "2022-04-28T06:45:48.372723",
          "status": "completed"
        },
        "tags": [],
        "id": "d4d2fe7d",
        "outputId": "f72bccc4-0c66-4355-b049-76a527f22ee7"
      },
      "outputs": [
        {
          "name": "stdout",
          "output_type": "stream",
          "text": [
            "['Hello Mr. VK I am there, how are you doing today?', 'The weather is great and Nltk is awesome.', 'The Nltk is super compare to other library.', 'Its oops based developed.']\n"
          ]
        }
      ],
      "source": [
        "print(sent_tokenize(ex_text))"
      ]
    },
    {
      "cell_type": "markdown",
      "id": "05ea679e",
      "metadata": {
        "papermill": {
          "duration": 0.094484,
          "end_time": "2022-04-28T06:45:48.723866",
          "exception": false,
          "start_time": "2022-04-28T06:45:48.629382",
          "status": "completed"
        },
        "tags": [],
        "id": "05ea679e"
      },
      "source": [
        "## **3.2 Word_Tokenize**"
      ]
    },
    {
      "cell_type": "code",
      "execution_count": null,
      "id": "4a232e7b",
      "metadata": {
        "execution": {
          "iopub.execute_input": "2022-04-28T06:45:48.925310Z",
          "iopub.status.busy": "2022-04-28T06:45:48.924440Z",
          "iopub.status.idle": "2022-04-28T06:45:48.933372Z",
          "shell.execute_reply": "2022-04-28T06:45:48.934422Z",
          "shell.execute_reply.started": "2022-04-28T06:01:05.528861Z"
        },
        "papermill": {
          "duration": 0.114411,
          "end_time": "2022-04-28T06:45:48.934702",
          "exception": false,
          "start_time": "2022-04-28T06:45:48.820291",
          "status": "completed"
        },
        "tags": [],
        "id": "4a232e7b",
        "outputId": "91b0227f-c839-4f16-9001-928762d6781e"
      },
      "outputs": [
        {
          "name": "stdout",
          "output_type": "stream",
          "text": [
            "['Hello', 'Mr.', 'VK', 'I', 'am', 'there', ',', 'how', 'are', 'you', 'doing', 'today', '?', 'The', 'weather', 'is', 'great', 'and', 'Nltk', 'is', 'awesome', '.', 'The', 'Nltk', 'is', 'super', 'compare', 'to', 'other', 'library', '.', 'Its', 'oops', 'based', 'developed', '.']\n"
          ]
        }
      ],
      "source": [
        "print(word_tokenize(ex_text))"
      ]
    },
    {
      "cell_type": "code",
      "execution_count": null,
      "id": "5ca6e061",
      "metadata": {
        "execution": {
          "iopub.execute_input": "2022-04-28T06:45:49.187935Z",
          "iopub.status.busy": "2022-04-28T06:45:49.187083Z",
          "iopub.status.idle": "2022-04-28T06:45:49.193288Z",
          "shell.execute_reply": "2022-04-28T06:45:49.192811Z",
          "shell.execute_reply.started": "2022-04-28T06:01:05.855631Z"
        },
        "papermill": {
          "duration": 0.114869,
          "end_time": "2022-04-28T06:45:49.193411",
          "exception": false,
          "start_time": "2022-04-28T06:45:49.078542",
          "status": "completed"
        },
        "tags": [],
        "id": "5ca6e061",
        "outputId": "7533d8eb-2ccd-4c7a-e8cc-0f7db1e2d4c9"
      },
      "outputs": [
        {
          "name": "stdout",
          "output_type": "stream",
          "text": [
            "Hello\n",
            "Mr.\n",
            "VK\n",
            "I\n",
            "am\n",
            "there\n",
            ",\n",
            "how\n",
            "are\n",
            "you\n",
            "doing\n",
            "today\n",
            "?\n",
            "The\n",
            "weather\n",
            "is\n",
            "great\n",
            "and\n",
            "Nltk\n",
            "is\n",
            "awesome\n",
            ".\n",
            "The\n",
            "Nltk\n",
            "is\n",
            "super\n",
            "compare\n",
            "to\n",
            "other\n",
            "library\n",
            ".\n",
            "Its\n",
            "oops\n",
            "based\n",
            "developed\n",
            ".\n"
          ]
        }
      ],
      "source": [
        "for i in word_tokenize(ex_text):\n",
        "    print(i)"
      ]
    },
    {
      "cell_type": "markdown",
      "id": "ceb2d0e1",
      "metadata": {
        "papermill": {
          "duration": 0.095372,
          "end_time": "2022-04-28T06:45:49.386657",
          "exception": false,
          "start_time": "2022-04-28T06:45:49.291285",
          "status": "completed"
        },
        "tags": [],
        "id": "ceb2d0e1"
      },
      "source": [
        "# **4. Stopwords**\n",
        "[Go back](#scrollTo=qQGn3HnPplKd)\n",
        "\n",
        "Stopwords are the words in any language which does not add much meaning to a sentence. They can safely be ignored without sacrificing the meaning of the sentence. For some search engines, these are some of the most common, short function words, such as the, is, at, which, and on. In this case, stop words can cause problems when searching for phrases that include them, particularly in names such as “The Who” or “Take That”.\n"
      ]
    },
    {
      "cell_type": "code",
      "execution_count": null,
      "id": "765a9903",
      "metadata": {
        "execution": {
          "iopub.execute_input": "2022-04-28T06:45:49.582064Z",
          "iopub.status.busy": "2022-04-28T06:45:49.581193Z",
          "iopub.status.idle": "2022-04-28T06:45:49.583488Z",
          "shell.execute_reply": "2022-04-28T06:45:49.582950Z",
          "shell.execute_reply.started": "2022-04-28T06:01:06.167666Z"
        },
        "papermill": {
          "duration": 0.100868,
          "end_time": "2022-04-28T06:45:49.583601",
          "exception": false,
          "start_time": "2022-04-28T06:45:49.482733",
          "status": "completed"
        },
        "tags": [],
        "id": "765a9903"
      },
      "outputs": [],
      "source": [
        "from nltk.corpus import stopwords"
      ]
    },
    {
      "cell_type": "code",
      "execution_count": null,
      "id": "227cce26",
      "metadata": {
        "execution": {
          "iopub.execute_input": "2022-04-28T06:45:49.776443Z",
          "iopub.status.busy": "2022-04-28T06:45:49.775847Z",
          "iopub.status.idle": "2022-04-28T06:45:49.783730Z",
          "shell.execute_reply": "2022-04-28T06:45:49.783128Z",
          "shell.execute_reply.started": "2022-04-28T06:01:06.490364Z"
        },
        "papermill": {
          "duration": 0.106039,
          "end_time": "2022-04-28T06:45:49.783874",
          "exception": false,
          "start_time": "2022-04-28T06:45:49.677835",
          "status": "completed"
        },
        "tags": [],
        "id": "227cce26",
        "outputId": "1d7de662-8748-4c25-a31b-30919dbc734d"
      },
      "outputs": [
        {
          "name": "stdout",
          "output_type": "stream",
          "text": [
            "{\"hadn't\", \"wasn't\", 'don', \"hasn't\", 'for', 'itself', 'other', 'shan', \"haven't\", 'during', 'off', 'should', 'yourselves', 'in', 'once', 'those', 'down', \"couldn't\", 'theirs', 'same', 'as', 'wouldn', 've', 'few', 'has', 'we', 'he', 'needn', 'ain', 'out', 'both', 'some', 'my', 'when', 'only', 'while', 'this', 'o', 'couldn', 'themselves', 'they', 'not', 'any', 'up', 'of', 'weren', 't', 'these', 'between', 'after', 'than', 'here', 'over', 'does', 'own', 'ours', 'her', 'and', 'having', 'how', 'shouldn', \"wouldn't\", 'am', 'haven', 'before', 'did', 'being', 'where', 'again', 'their', \"she's\", 'who', 'with', 'our', 'on', 'by', 'herself', 'until', \"you'll\", 'ma', 'against', 'more', 'll', 'won', 'under', 'at', 'about', \"don't\", 'isn', 'all', \"should've\", \"that'll\", \"didn't\", 'from', 'into', 'hasn', 'or', \"mightn't\", \"shan't\", 'so', 'himself', \"weren't\", \"doesn't\", \"mustn't\", \"won't\", 'have', 're', \"needn't\", 'i', 'the', 'hers', 'be', 's', 'just', \"you're\", 'which', 'but', 'each', 'further', 'too', 'd', 'she', \"you've\", 'because', 'then', 'very', 'below', \"isn't\", 'mightn', 'will', 'that', 'most', 'm', 'ourselves', 'doesn', 'had', 'your', 'such', \"aren't\", 'mustn', 'above', 'yours', 'a', 'him', 'an', 'now', 'yourself', 'y', 'didn', 'aren', 'myself', 'wasn', 'doing', 'do', 'through', \"shouldn't\", 'it', 'his', 'why', \"you'd\", 'hadn', 'are', 'its', 'can', 'if', 'were', 'there', 'to', 'no', \"it's\", 'is', 'what', 'me', 'them', 'whom', 'was', 'been', 'nor', 'you'}\n"
          ]
        }
      ],
      "source": [
        "stop_words = set(stopwords.words(\"english\"))\n",
        "print(stop_words)"
      ]
    },
    {
      "cell_type": "code",
      "execution_count": null,
      "id": "022067c7",
      "metadata": {
        "execution": {
          "iopub.execute_input": "2022-04-28T06:45:50.047676Z",
          "iopub.status.busy": "2022-04-28T06:45:50.046783Z",
          "iopub.status.idle": "2022-04-28T06:45:50.051463Z",
          "shell.execute_reply": "2022-04-28T06:45:50.052571Z",
          "shell.execute_reply.started": "2022-04-28T06:01:06.866524Z"
        },
        "papermill": {
          "duration": 0.174627,
          "end_time": "2022-04-28T06:45:50.052913",
          "exception": false,
          "start_time": "2022-04-28T06:45:49.878286",
          "status": "completed"
        },
        "tags": [],
        "id": "022067c7",
        "outputId": "f308492e-0668-46ff-8330-99252f82c4fa"
      },
      "outputs": [
        {
          "name": "stdout",
          "output_type": "stream",
          "text": [
            "['Hello', 'Mr.', 'VK', 'I', ',', 'today', '?', 'The', 'weather', 'great', 'Nltk', 'awesome', '.', 'The', 'Nltk', 'super', 'compare', 'library', '.', 'Its', 'oops', 'based', 'developed', '.']\n"
          ]
        }
      ],
      "source": [
        "words = word_tokenize(ex_text)\n",
        "\n",
        "filtered_sentence =[]\n",
        "\n",
        "for w in words:\n",
        "    if w not in stop_words:\n",
        "        filtered_sentence.append(w)\n",
        "\n",
        "print(filtered_sentence)\n",
        "\n",
        "#filtered_sentence = [w for w in words if not w in stop_words]"
      ]
    },
    {
      "cell_type": "markdown",
      "id": "f12c1037",
      "metadata": {
        "papermill": {
          "duration": 0.15841,
          "end_time": "2022-04-28T06:45:50.371439",
          "exception": false,
          "start_time": "2022-04-28T06:45:50.213029",
          "status": "completed"
        },
        "tags": [],
        "id": "f12c1037"
      },
      "source": [
        "# **5. Stemming**\n",
        "[Go back](#scrollTo=qQGn3HnPplKd)\n",
        "\n",
        "The idea of stemming is a sort of normalizing method. Many variations of words carry the same meaning, other than when tense is involved.\n",
        "\n",
        "The reason why we stem is to shorten the lookup, and normalize sentences.\n",
        "\n",
        "\n",
        "\n",
        "eg..\n",
        "i was taking a ride in the car.\n",
        "i was riding in the car.\n",
        "\n",
        "Porterstemmer(1979)"
      ]
    },
    {
      "cell_type": "code",
      "execution_count": null,
      "id": "7e8e93a1",
      "metadata": {
        "execution": {
          "iopub.execute_input": "2022-04-28T06:45:50.613635Z",
          "iopub.status.busy": "2022-04-28T06:45:50.612824Z",
          "iopub.status.idle": "2022-04-28T06:45:50.615034Z",
          "shell.execute_reply": "2022-04-28T06:45:50.615435Z",
          "shell.execute_reply.started": "2022-04-28T06:01:07.247445Z"
        },
        "papermill": {
          "duration": 0.100812,
          "end_time": "2022-04-28T06:45:50.615576",
          "exception": false,
          "start_time": "2022-04-28T06:45:50.514764",
          "status": "completed"
        },
        "tags": [],
        "id": "7e8e93a1"
      },
      "outputs": [],
      "source": [
        "from nltk.stem import PorterStemmer\n",
        "from nltk.tokenize import word_tokenize\n"
      ]
    },
    {
      "cell_type": "code",
      "execution_count": null,
      "id": "08194c56",
      "metadata": {
        "execution": {
          "iopub.execute_input": "2022-04-28T06:45:50.816038Z",
          "iopub.status.busy": "2022-04-28T06:45:50.815386Z",
          "iopub.status.idle": "2022-04-28T06:45:50.818520Z",
          "shell.execute_reply": "2022-04-28T06:45:50.819090Z",
          "shell.execute_reply.started": "2022-04-28T06:01:07.577055Z"
        },
        "papermill": {
          "duration": 0.104293,
          "end_time": "2022-04-28T06:45:50.819275",
          "exception": false,
          "start_time": "2022-04-28T06:45:50.714982",
          "status": "completed"
        },
        "tags": [],
        "id": "08194c56",
        "outputId": "e6cd411e-0e54-45fa-a71b-7947046d583a"
      },
      "outputs": [
        {
          "name": "stdout",
          "output_type": "stream",
          "text": [
            "python\n",
            "python\n",
            "python\n",
            "python\n",
            "pythonli\n"
          ]
        }
      ],
      "source": [
        "ps = PorterStemmer()\n",
        "\n",
        "ex_words = [\"python\",\"pythoner\",\"pythoning\",\"pythoned\",\"pythonly\"]\n",
        "\n",
        "for s in ex_words:\n",
        "    print(ps.stem(s))"
      ]
    },
    {
      "cell_type": "code",
      "execution_count": null,
      "id": "3c8e3813",
      "metadata": {
        "execution": {
          "iopub.execute_input": "2022-04-28T06:45:51.025777Z",
          "iopub.status.busy": "2022-04-28T06:45:51.024528Z",
          "iopub.status.idle": "2022-04-28T06:45:51.030343Z",
          "shell.execute_reply": "2022-04-28T06:45:51.030979Z",
          "shell.execute_reply.started": "2022-04-28T06:01:07.912965Z"
        },
        "papermill": {
          "duration": 0.113284,
          "end_time": "2022-04-28T06:45:51.031169",
          "exception": false,
          "start_time": "2022-04-28T06:45:50.917885",
          "status": "completed"
        },
        "tags": [],
        "id": "3c8e3813",
        "outputId": "15f38094-605d-43a6-e2db-a5d486c7ef90"
      },
      "outputs": [
        {
          "name": "stdout",
          "output_type": "stream",
          "text": [
            "It\n",
            "is\n",
            "veri\n",
            "import\n",
            "to\n",
            "be\n",
            "pythoniy\n",
            "while\n",
            "you\n",
            "are\n",
            "python\n",
            "with\n",
            "python\n",
            ".\n",
            "all\n",
            "python\n",
            "have\n",
            "python\n",
            "poorli\n",
            "atleast\n",
            "onc\n",
            ".\n"
          ]
        }
      ],
      "source": [
        "n_t = \"It is very important to be pythoniy while you are pythoning with python. All pythoners have pythoned poorly atleast once.\"\n",
        "\n",
        "words = word_tokenize(n_t)\n",
        "\n",
        "for st in  words:\n",
        "    print(ps.stem(st))"
      ]
    },
    {
      "cell_type": "markdown",
      "id": "056fdd13",
      "metadata": {
        "papermill": {
          "duration": 0.098423,
          "end_time": "2022-04-28T06:45:51.227096",
          "exception": false,
          "start_time": "2022-04-28T06:45:51.128673",
          "status": "completed"
        },
        "tags": [],
        "id": "056fdd13"
      },
      "source": [
        "# **6. Part of speech tagging**\n",
        "[Go back](#scrollTo=qQGn3HnPplKd)\n",
        "\n",
        "This means labeling words in a sentence as nouns, adjectives, verbs...etc. Even more impressive, it also labels by tense, and more. Here's a list of the tags, what they mean, and some examples:\n",
        "\n"
      ]
    },
    {
      "cell_type": "markdown",
      "source": [
        "#### **6.1 POS tag list:**\n",
        "\n",
        "- CC\tcoordinating conjunction\n",
        "- CD\tcardinal digit\n",
        "- DT\tdeterminer\n",
        "- EX\texistential there (like: \"there is\" ... think of it like \"there exists\")\n",
        "- FW\tforeign word\n",
        "- IN\tpreposition/subordinating conjunction\n",
        "- JJ\tadjective\t'big'\n",
        "- JJR\tadjective, comparative\t'bigger'\n",
        "- JJS\tadjective, superlative\t'biggest'\n",
        "- LS\tlist marker\t1)\n",
        "- MD\tmodal\tcould, will\n",
        "- NN\tnoun, singular 'desk'\n",
        "- NNS\tnoun plural\t'desks'\n",
        "- NNP\tproper noun, singular\t'Harrison'\n",
        "- NNPS\tproper noun, plural\t'Americans'\n",
        "- PDT\tpredeterminer\t'all the kids'\n",
        "- POS\tpossessive ending\tparent\\'s\n",
        "- PRP\tpersonal pronoun\tI, he, she\n",
        "- RB\tadverb\tvery, silently,\n",
        "- RBR\tadverb, comparative\tbetter\n",
        "- RBS\tadverb, superlative\tbest\n",
        "- RP\tparticle\tgive up\n",
        "- TO\tto\tgo 'to' the store.\n",
        "- UH\tinterjection\terrrrrrrrm\n",
        "- VB\tverb, base form\ttake\n",
        "- VBD\tverb, past tense\ttook\n",
        "- VBG\tverb, gerund/present participle\ttaking\n",
        "- VBN\tverb, past participle\ttaken\n",
        "- VBP\tverb, sing. present, non-3d\ttake\n",
        "- VBZ\tverb, 3rd person sing. present\ttakes\n",
        "- WDT\twh-determiner\twhich\n",
        "- WP\twh-pronoun\twho, what\n",
        "- WRB\twh-abverb\twhere, when"
      ],
      "metadata": {
        "id": "T4CiYMOBDi_t"
      },
      "id": "T4CiYMOBDi_t"
    },
    {
      "cell_type": "code",
      "execution_count": null,
      "id": "496ba282",
      "metadata": {
        "execution": {
          "iopub.execute_input": "2022-04-28T06:45:51.428924Z",
          "iopub.status.busy": "2022-04-28T06:45:51.428017Z",
          "iopub.status.idle": "2022-04-28T06:45:51.429899Z",
          "shell.execute_reply": "2022-04-28T06:45:51.430368Z",
          "shell.execute_reply.started": "2022-04-28T06:01:08.294438Z"
        },
        "papermill": {
          "duration": 0.103978,
          "end_time": "2022-04-28T06:45:51.430500",
          "exception": false,
          "start_time": "2022-04-28T06:45:51.326522",
          "status": "completed"
        },
        "tags": [],
        "id": "496ba282"
      },
      "outputs": [],
      "source": [
        "from nltk.corpus import state_union\n",
        "from nltk.tokenize import PunktSentenceTokenizer"
      ]
    },
    {
      "cell_type": "code",
      "execution_count": null,
      "id": "04cebc31",
      "metadata": {
        "execution": {
          "iopub.execute_input": "2022-04-28T06:45:51.630014Z",
          "iopub.status.busy": "2022-04-28T06:45:51.629027Z",
          "iopub.status.idle": "2022-04-28T06:45:51.630911Z",
          "shell.execute_reply": "2022-04-28T06:45:51.631482Z",
          "shell.execute_reply.started": "2022-04-28T06:01:08.672623Z"
        },
        "papermill": {
          "duration": 0.103206,
          "end_time": "2022-04-28T06:45:51.631624",
          "exception": false,
          "start_time": "2022-04-28T06:45:51.528418",
          "status": "completed"
        },
        "tags": [],
        "id": "04cebc31"
      },
      "outputs": [],
      "source": [
        "train_text = \"Engineers, as practitioners of engineering, are professionals who invent, design, analyze, build and test machines, complex systems, structures, gadgets and materials to fulfill functional objectives and requirements while considering the limitations imposed by practicality, regulation, safety and cost.[1][2] The word engineer (Latin ingeniator[3]) is derived from the Latin words ingeniare (to create, generate, contrive, devise and ingenium) (cleverness).[4][5] The foundational qualifications of an engineer typically include a four-year bachelor's degree in an engineering discipline, or in some jurisdictions, a master's degree in an engineering discipline plus four to six years of peer-reviewed professional practice (culminating in a project report or thesis) and passage of engineering board examinations.The work of engineers forms the link between scientific discoveries and their subsequent applications to human and business needs and quality of life.[1]\"\n",
        "sample_text = \"Neuro-linguistic programming (NLP) is a pseudoscientific approach to communication, personal development, and psychotherapy created by Richard Bandler and John Grinder in California, United States, in the 1970s. NLP's creators claim there is a connection between neurological processes (neuro-), language (linguistic) and behavioral patterns learned through experience (programming), and that these can be changed to achieve specific goals in life.[1][2]: 2  Bandler and Grinder also claim that NLP methodology can model the skills of exceptional people, allowing anyone to acquire those skills.[3]: 5–6 [4] They claim as well that, often in a single session, NLP can treat problems such as phobias, depression, tic disorders, psychosomatic illnesses, near-sightedness,[5] allergy, the common cold,[Note 1] and learning disorders.[7][8] NLP has been adopted by some hypnotherapists and also by companies that run seminars marketed as leadership training to businesses and government agencies.[9][10]There is no scientific evidence supporting the claims made by NLP advocates, and it has been discredited as a pseudoscience.[11][12][13] Scientific reviews state that NLP is based on outdated metaphors of how the brain works that are inconsistent with current neurological theory and contain numerous factual errors.[10][14] Reviews also found that all of the supportive research on NLP contained significant methodological flaws and that there were three times as many studies of a much higher quality that failed to reproduce the extraordinary claims made by Bandler, Grinder, and other NLP practitioners.[12][13]\""
      ]
    },
    {
      "cell_type": "code",
      "execution_count": null,
      "id": "c8d546e2",
      "metadata": {
        "execution": {
          "iopub.execute_input": "2022-04-28T06:45:51.830422Z",
          "iopub.status.busy": "2022-04-28T06:45:51.829547Z",
          "iopub.status.idle": "2022-04-28T06:45:51.831502Z",
          "shell.execute_reply": "2022-04-28T06:45:51.831923Z",
          "shell.execute_reply.started": "2022-04-28T06:01:08.97186Z"
        },
        "papermill": {
          "duration": 0.104412,
          "end_time": "2022-04-28T06:45:51.832054",
          "exception": false,
          "start_time": "2022-04-28T06:45:51.727642",
          "status": "completed"
        },
        "tags": [],
        "id": "c8d546e2"
      },
      "outputs": [],
      "source": [
        "# train_text = state_union.raw('train_text.txt')\n",
        "# sample_text = state_union.raw('sample_text.txt')"
      ]
    },
    {
      "cell_type": "code",
      "execution_count": null,
      "id": "5bcebe15",
      "metadata": {
        "execution": {
          "iopub.execute_input": "2022-04-28T06:45:52.034792Z",
          "iopub.status.busy": "2022-04-28T06:45:52.033992Z",
          "iopub.status.idle": "2022-04-28T06:45:52.036712Z",
          "shell.execute_reply": "2022-04-28T06:45:52.036256Z",
          "shell.execute_reply.started": "2022-04-28T06:01:09.414733Z"
        },
        "papermill": {
          "duration": 0.106447,
          "end_time": "2022-04-28T06:45:52.036826",
          "exception": false,
          "start_time": "2022-04-28T06:45:51.930379",
          "status": "completed"
        },
        "tags": [],
        "id": "5bcebe15"
      },
      "outputs": [],
      "source": [
        "custom_sent_tokenizer = PunktSentenceTokenizer(train_text)\n",
        "tokenized = custom_sent_tokenizer.tokenize(sample_text)"
      ]
    },
    {
      "cell_type": "code",
      "execution_count": null,
      "id": "7fc1c281",
      "metadata": {
        "_kg_hide-output": true,
        "execution": {
          "iopub.execute_input": "2022-04-28T06:45:52.239196Z",
          "iopub.status.busy": "2022-04-28T06:45:52.238538Z",
          "iopub.status.idle": "2022-04-28T06:45:52.372002Z",
          "shell.execute_reply": "2022-04-28T06:45:52.371387Z",
          "shell.execute_reply.started": "2022-04-28T06:01:09.736974Z"
        },
        "papermill": {
          "duration": 0.238956,
          "end_time": "2022-04-28T06:45:52.372178",
          "exception": false,
          "start_time": "2022-04-28T06:45:52.133222",
          "status": "completed"
        },
        "tags": [],
        "id": "7fc1c281",
        "outputId": "3d03bb43-a1ed-43bb-bbf8-63ebbf28ba6c"
      },
      "outputs": [
        {
          "name": "stdout",
          "output_type": "stream",
          "text": [
            "[('Neuro-linguistic', 'JJ'), ('programming', 'NN'), ('(', '('), ('NLP', 'NNP'), (')', ')'), ('is', 'VBZ'), ('a', 'DT'), ('pseudoscientific', 'JJ'), ('approach', 'NN'), ('to', 'TO'), ('communication', 'NN'), (',', ','), ('personal', 'JJ'), ('development', 'NN'), (',', ','), ('and', 'CC'), ('psychotherapy', 'RB'), ('created', 'VBN'), ('by', 'IN'), ('Richard', 'NNP'), ('Bandler', 'NNP'), ('and', 'CC'), ('John', 'NNP'), ('Grinder', 'NNP'), ('in', 'IN'), ('California', 'NNP'), (',', ','), ('United', 'NNP'), ('States', 'NNPS'), (',', ','), ('in', 'IN'), ('the', 'DT'), ('1970s', 'CD'), ('.', '.')]\n",
            "[('NLP', 'NNP'), (\"'s\", 'POS'), ('creators', 'NNS'), ('claim', 'VBP'), ('there', 'EX'), ('is', 'VBZ'), ('a', 'DT'), ('connection', 'NN'), ('between', 'IN'), ('neurological', 'JJ'), ('processes', 'NNS'), ('(', '('), ('neuro-', 'JJ'), (')', ')'), (',', ','), ('language', 'NN'), ('(', '('), ('linguistic', 'JJ'), (')', ')'), ('and', 'CC'), ('behavioral', 'JJ'), ('patterns', 'NNS'), ('learned', 'VBD'), ('through', 'IN'), ('experience', 'NN'), ('(', '('), ('programming', 'VBG'), (')', ')'), (',', ','), ('and', 'CC'), ('that', 'IN'), ('these', 'DT'), ('can', 'MD'), ('be', 'VB'), ('changed', 'VBN'), ('to', 'TO'), ('achieve', 'VB'), ('specific', 'JJ'), ('goals', 'NNS'), ('in', 'IN'), ('life', 'NN'), ('.', '.')]\n",
            "[('[', 'RB'), ('1', 'CD'), (']', 'JJ'), ('[', '$'), ('2', 'CD'), (']', 'NN'), (':', ':'), ('2', 'CD'), ('Bandler', 'NNP'), ('and', 'CC'), ('Grinder', 'NNP'), ('also', 'RB'), ('claim', 'VBP'), ('that', 'IN'), ('NLP', 'NNP'), ('methodology', 'NN'), ('can', 'MD'), ('model', 'VB'), ('the', 'DT'), ('skills', 'NNS'), ('of', 'IN'), ('exceptional', 'JJ'), ('people', 'NNS'), (',', ','), ('allowing', 'VBG'), ('anyone', 'NN'), ('to', 'TO'), ('acquire', 'VB'), ('those', 'DT'), ('skills', 'NNS'), ('.', '.')]\n",
            "[('[', 'RB'), ('3', 'CD'), (']', 'NNS'), (':', ':'), ('5–6', 'CD'), ('[', '$'), ('4', 'CD'), (']', 'NN'), ('They', 'PRP'), ('claim', 'VBP'), ('as', 'RB'), ('well', 'RB'), ('that', 'IN'), (',', ','), ('often', 'RB'), ('in', 'IN'), ('a', 'DT'), ('single', 'JJ'), ('session', 'NN'), (',', ','), ('NLP', 'NNP'), ('can', 'MD'), ('treat', 'VB'), ('problems', 'NNS'), ('such', 'JJ'), ('as', 'IN'), ('phobias', 'NNS'), (',', ','), ('depression', 'NN'), (',', ','), ('tic', 'JJ'), ('disorders', 'NNS'), (',', ','), ('psychosomatic', 'JJ'), ('illnesses', 'NNS'), (',', ','), ('near-sightedness', 'JJ'), (',', ','), ('[', 'JJ'), ('5', 'CD'), (']', 'NN'), ('allergy', 'NN'), (',', ','), ('the', 'DT'), ('common', 'JJ'), ('cold', 'NN'), (',', ','), ('[', 'NNP'), ('Note', 'NNP'), ('1', 'CD'), (']', 'NN'), ('and', 'CC'), ('learning', 'NN'), ('disorders', 'NNS'), ('.', '.')]\n",
            "[('[', 'RB'), ('7', 'CD'), (']', 'JJ'), ('[', '$'), ('8', 'CD'), (']', 'NNP'), ('NLP', 'NNP'), ('has', 'VBZ'), ('been', 'VBN'), ('adopted', 'VBN'), ('by', 'IN'), ('some', 'DT'), ('hypnotherapists', 'NNS'), ('and', 'CC'), ('also', 'RB'), ('by', 'IN'), ('companies', 'NNS'), ('that', 'WDT'), ('run', 'VBP'), ('seminars', 'RB'), ('marketed', 'VBN'), ('as', 'IN'), ('leadership', 'NN'), ('training', 'NN'), ('to', 'TO'), ('businesses', 'NNS'), ('and', 'CC'), ('government', 'NN'), ('agencies', 'NNS'), ('.', '.')]\n",
            "[('[', 'RB'), ('9', 'CD'), (']', 'JJ'), ('[', '$'), ('10', 'CD'), (']', 'NN'), ('There', 'EX'), ('is', 'VBZ'), ('no', 'DT'), ('scientific', 'JJ'), ('evidence', 'NN'), ('supporting', 'VBG'), ('the', 'DT'), ('claims', 'NNS'), ('made', 'VBN'), ('by', 'IN'), ('NLP', 'NNP'), ('advocates', 'NNS'), (',', ','), ('and', 'CC'), ('it', 'PRP'), ('has', 'VBZ'), ('been', 'VBN'), ('discredited', 'VBN'), ('as', 'IN'), ('a', 'DT'), ('pseudoscience', 'NN'), ('.', '.')]\n",
            "[('[', 'RB'), ('11', 'CD'), (']', 'JJ'), ('[', '$'), ('12', 'CD'), (']', 'NNP'), ('[', 'VBD'), ('13', 'CD'), (']', 'NNP'), ('Scientific', 'NNP'), ('reviews', 'VBZ'), ('state', 'NN'), ('that', 'IN'), ('NLP', 'NNP'), ('is', 'VBZ'), ('based', 'VBN'), ('on', 'IN'), ('outdated', 'JJ'), ('metaphors', 'NNS'), ('of', 'IN'), ('how', 'WRB'), ('the', 'DT'), ('brain', 'NN'), ('works', 'VBZ'), ('that', 'WDT'), ('are', 'VBP'), ('inconsistent', 'JJ'), ('with', 'IN'), ('current', 'JJ'), ('neurological', 'JJ'), ('theory', 'NN'), ('and', 'CC'), ('contain', 'VBP'), ('numerous', 'JJ'), ('factual', 'JJ'), ('errors', 'NNS'), ('.', '.')]\n",
            "[('[', 'RB'), ('10', 'CD'), (']', 'JJ'), ('[', '$'), ('14', 'CD'), (']', 'NNP'), ('Reviews', 'NNP'), ('also', 'RB'), ('found', 'VBD'), ('that', 'IN'), ('all', 'DT'), ('of', 'IN'), ('the', 'DT'), ('supportive', 'JJ'), ('research', 'NN'), ('on', 'IN'), ('NLP', 'NNP'), ('contained', 'VBD'), ('significant', 'JJ'), ('methodological', 'JJ'), ('flaws', 'NNS'), ('and', 'CC'), ('that', 'IN'), ('there', 'EX'), ('were', 'VBD'), ('three', 'CD'), ('times', 'NNS'), ('as', 'IN'), ('many', 'JJ'), ('studies', 'NNS'), ('of', 'IN'), ('a', 'DT'), ('much', 'JJ'), ('higher', 'JJR'), ('quality', 'NN'), ('that', 'WDT'), ('failed', 'VBD'), ('to', 'TO'), ('reproduce', 'VB'), ('the', 'DT'), ('extraordinary', 'JJ'), ('claims', 'NNS'), ('made', 'VBN'), ('by', 'IN'), ('Bandler', 'NNP'), (',', ','), ('Grinder', 'NNP'), (',', ','), ('and', 'CC'), ('other', 'JJ'), ('NLP', 'NNP'), ('practitioners', 'NNS'), ('.', '.')]\n",
            "[('[', 'RB'), ('12', 'CD'), (']', 'JJ'), ('[', '$'), ('13', 'CD'), (']', 'NN')]\n"
          ]
        }
      ],
      "source": [
        "def process_content():\n",
        "    try:\n",
        "        for i in tokenized:\n",
        "            words = nltk.word_tokenize(i)\n",
        "            tagged = nltk.pos_tag(words)\n",
        "            print(tagged)\n",
        "\n",
        "    except Exception as e:\n",
        "        print(str(e))\n",
        "\n",
        "\n",
        "process_content()"
      ]
    },
    {
      "cell_type": "markdown",
      "id": "a31eb6e1",
      "metadata": {
        "papermill": {
          "duration": 0.096348,
          "end_time": "2022-04-28T06:45:52.564987",
          "exception": false,
          "start_time": "2022-04-28T06:45:52.468639",
          "status": "completed"
        },
        "tags": [],
        "id": "a31eb6e1"
      },
      "source": [
        "# **7. Chunking**\n",
        "[Go back](#scrollTo=qQGn3HnPplKd)\n",
        "\n",
        "Now that we know the parts of speech, we can do what is called chunking, and group words into hopefully meaningful chunks. One of the main goals of chunking is to group into what are known as \"noun phrases.\" These are phrases of one or more words that contain a noun, maybe some descriptive words, maybe a verb, and maybe something like an adverb. The idea is to group nouns with the words that are in relation to them.\n",
        "\n",
        "In order to chunk, we combine the part of speech tags with regular expressions. Mainly from regular expressions, we are going to utilize the following:"
      ]
    },
    {
      "cell_type": "markdown",
      "id": "0d595405",
      "metadata": {
        "papermill": {
          "duration": 0.096407,
          "end_time": "2022-04-28T06:45:52.757262",
          "exception": false,
          "start_time": "2022-04-28T06:45:52.660855",
          "status": "completed"
        },
        "tags": [],
        "id": "0d595405"
      },
      "source": [
        "## **7.1 Regular expression**\n",
        "\n",
        "Here is a quick cheat sheet for various rules in regular expressions:\n",
        "\n",
        "### ***Identifiers:***\n",
        "\n",
        "- \\d = any number\n",
        "- \\D = anything but a number\n",
        "- \\s = space\n",
        "- \\S = anything but a space\n",
        "- \\w = any letter\n",
        "- \\W = anything but a letter\n",
        "- . = any character, except for a new line\n",
        "- \\b = space around whole words\n",
        "- \\. = period. must use backslash, because . normally means any character.\n",
        "\n",
        "### ***Modifiers:***\n",
        "\n",
        "- {1,3} = for digits, u expect 1-3 counts of digits, or \"places\"\n",
        "- + = match 1 or more\n",
        "- ? = match 0 or 1 repetitions.\n",
        "- * = match 0 or MORE repetitions\n",
        "- ^ = matches start of a string\n",
        "- | = matches either/or. Example x|y = will match either x or y\n",
        "- [] = range, or \"variance\"\n",
        "- {x} = expect to see this amount of the preceding code.\n",
        "- {x,y} = expect to see this x-y amounts of the precedng code\n",
        "\n",
        "### ***White Space Charts:***\n",
        "\n",
        "- \\n = new line\n",
        "- \\s = space\n",
        "- \\t = tab\n",
        "- \\e = escape\n",
        "- \\f = form feed\n",
        "- \\r = carriage return\n",
        "\n",
        "***Characters to REMEMBER TO ESCAPE IF USED!***\n",
        "\n",
        "- . + * ? [ ] $ ^ ( ) { } | \\\n",
        "\n",
        "### ***Brackets:***\n",
        "\n",
        "- [] = quant[ia]tative = will find either quantitative, or quantatative.\n",
        "- [a-z] = return any lowercase letter a-z\n",
        "- [1-5a-qA-Z] = return all numbers 1-5, lowercase letters a-q and uppercase A-Z\n",
        "- \"\"\"<RB.?>* = \"0 or more of any tense of adverb,\" followed by:\n",
        "- <VB.?>* = \"0 or more of any tense of verb,\" followed by:\n",
        "- <NNP>+ = \"One or more proper nouns,\" followed by\n",
        "- <NN>? = \"zero or one singular noun.\"\n",
        "- \"\"\""
      ]
    },
    {
      "cell_type": "code",
      "execution_count": null,
      "id": "10679299",
      "metadata": {
        "_kg_hide-output": true,
        "execution": {
          "iopub.execute_input": "2022-04-28T06:45:52.963409Z",
          "iopub.status.busy": "2022-04-28T06:45:52.962575Z",
          "iopub.status.idle": "2022-04-28T06:45:52.996612Z",
          "shell.execute_reply": "2022-04-28T06:45:52.997809Z",
          "shell.execute_reply.started": "2022-04-28T06:01:10.059332Z"
        },
        "papermill": {
          "duration": 0.139491,
          "end_time": "2022-04-28T06:45:52.998219",
          "exception": false,
          "start_time": "2022-04-28T06:45:52.858728",
          "status": "completed"
        },
        "tags": [],
        "id": "10679299",
        "outputId": "cb4e8cfd-0504-4b90-c471-d84be262d081"
      },
      "outputs": [
        {
          "name": "stdout",
          "output_type": "stream",
          "text": [
            "(S\n",
            "  Neuro-linguistic/JJ\n",
            "  programming/NN\n",
            "  (/(\n",
            "  (Chunk NLP/NNP)\n",
            "  )/)\n",
            "  is/VBZ\n",
            "  a/DT\n",
            "  pseudoscientific/JJ\n",
            "  approach/NN\n",
            "  to/TO\n",
            "  communication/NN\n",
            "  ,/,\n",
            "  personal/JJ\n",
            "  development/NN\n",
            "  ,/,\n",
            "  and/CC\n",
            "  psychotherapy/RB\n",
            "  created/VBN\n",
            "  by/IN\n",
            "  (Chunk Richard/NNP Bandler/NNP)\n",
            "  and/CC\n",
            "  (Chunk John/NNP Grinder/NNP)\n",
            "  in/IN\n",
            "  (Chunk California/NNP)\n",
            "  ,/,\n",
            "  (Chunk United/NNP)\n",
            "  States/NNPS\n",
            "  ,/,\n",
            "  in/IN\n",
            "  the/DT\n",
            "  1970s/CD\n",
            "  ./.)\n",
            "(S\n",
            "  (Chunk NLP/NNP)\n",
            "  's/POS\n",
            "  creators/NNS\n",
            "  claim/VBP\n",
            "  there/EX\n",
            "  is/VBZ\n",
            "  a/DT\n",
            "  connection/NN\n",
            "  between/IN\n",
            "  neurological/JJ\n",
            "  processes/NNS\n",
            "  (/(\n",
            "  neuro-/JJ\n",
            "  )/)\n",
            "  ,/,\n",
            "  language/NN\n",
            "  (/(\n",
            "  linguistic/JJ\n",
            "  )/)\n",
            "  and/CC\n",
            "  behavioral/JJ\n",
            "  patterns/NNS\n",
            "  learned/VBD\n",
            "  through/IN\n",
            "  experience/NN\n",
            "  (/(\n",
            "  programming/VBG\n",
            "  )/)\n",
            "  ,/,\n",
            "  and/CC\n",
            "  that/IN\n",
            "  these/DT\n",
            "  can/MD\n",
            "  be/VB\n",
            "  changed/VBN\n",
            "  to/TO\n",
            "  achieve/VB\n",
            "  specific/JJ\n",
            "  goals/NNS\n",
            "  in/IN\n",
            "  life/NN\n",
            "  ./.)\n",
            "(S\n",
            "  [/RB\n",
            "  1/CD\n",
            "  ]/JJ\n",
            "  [/$\n",
            "  2/CD\n",
            "  ]/NN\n",
            "  :/:\n",
            "  2/CD\n",
            "  (Chunk Bandler/NNP)\n",
            "  and/CC\n",
            "  (Chunk Grinder/NNP)\n",
            "  also/RB\n",
            "  claim/VBP\n",
            "  that/IN\n",
            "  (Chunk NLP/NNP methodology/NN)\n",
            "  can/MD\n",
            "  model/VB\n",
            "  the/DT\n",
            "  skills/NNS\n",
            "  of/IN\n",
            "  exceptional/JJ\n",
            "  people/NNS\n",
            "  ,/,\n",
            "  allowing/VBG\n",
            "  anyone/NN\n",
            "  to/TO\n",
            "  acquire/VB\n",
            "  those/DT\n",
            "  skills/NNS\n",
            "  ./.)\n",
            "(S\n",
            "  [/RB\n",
            "  3/CD\n",
            "  ]/NNS\n",
            "  :/:\n",
            "  5–6/CD\n",
            "  [/$\n",
            "  4/CD\n",
            "  ]/NN\n",
            "  They/PRP\n",
            "  claim/VBP\n",
            "  as/RB\n",
            "  well/RB\n",
            "  that/IN\n",
            "  ,/,\n",
            "  often/RB\n",
            "  in/IN\n",
            "  a/DT\n",
            "  single/JJ\n",
            "  session/NN\n",
            "  ,/,\n",
            "  (Chunk NLP/NNP)\n",
            "  can/MD\n",
            "  treat/VB\n",
            "  problems/NNS\n",
            "  such/JJ\n",
            "  as/IN\n",
            "  phobias/NNS\n",
            "  ,/,\n",
            "  depression/NN\n",
            "  ,/,\n",
            "  tic/JJ\n",
            "  disorders/NNS\n",
            "  ,/,\n",
            "  psychosomatic/JJ\n",
            "  illnesses/NNS\n",
            "  ,/,\n",
            "  near-sightedness/JJ\n",
            "  ,/,\n",
            "  [/JJ\n",
            "  5/CD\n",
            "  ]/NN\n",
            "  allergy/NN\n",
            "  ,/,\n",
            "  the/DT\n",
            "  common/JJ\n",
            "  cold/NN\n",
            "  ,/,\n",
            "  (Chunk [/NNP Note/NNP)\n",
            "  1/CD\n",
            "  ]/NN\n",
            "  and/CC\n",
            "  learning/NN\n",
            "  disorders/NNS\n",
            "  ./.)\n",
            "(S\n",
            "  [/RB\n",
            "  7/CD\n",
            "  ]/JJ\n",
            "  [/$\n",
            "  8/CD\n",
            "  (Chunk ]/NNP NLP/NNP)\n",
            "  has/VBZ\n",
            "  been/VBN\n",
            "  adopted/VBN\n",
            "  by/IN\n",
            "  some/DT\n",
            "  hypnotherapists/NNS\n",
            "  and/CC\n",
            "  also/RB\n",
            "  by/IN\n",
            "  companies/NNS\n",
            "  that/WDT\n",
            "  run/VBP\n",
            "  seminars/RB\n",
            "  marketed/VBN\n",
            "  as/IN\n",
            "  leadership/NN\n",
            "  training/NN\n",
            "  to/TO\n",
            "  businesses/NNS\n",
            "  and/CC\n",
            "  government/NN\n",
            "  agencies/NNS\n",
            "  ./.)\n",
            "(S\n",
            "  [/RB\n",
            "  9/CD\n",
            "  ]/JJ\n",
            "  [/$\n",
            "  10/CD\n",
            "  ]/NN\n",
            "  There/EX\n",
            "  is/VBZ\n",
            "  no/DT\n",
            "  scientific/JJ\n",
            "  evidence/NN\n",
            "  supporting/VBG\n",
            "  the/DT\n",
            "  claims/NNS\n",
            "  made/VBN\n",
            "  by/IN\n",
            "  (Chunk NLP/NNP)\n",
            "  advocates/NNS\n",
            "  ,/,\n",
            "  and/CC\n",
            "  it/PRP\n",
            "  has/VBZ\n",
            "  been/VBN\n",
            "  discredited/VBN\n",
            "  as/IN\n",
            "  a/DT\n",
            "  pseudoscience/NN\n",
            "  ./.)\n",
            "(S\n",
            "  [/RB\n",
            "  11/CD\n",
            "  ]/JJ\n",
            "  [/$\n",
            "  12/CD\n",
            "  (Chunk ]/NNP)\n",
            "  [/VBD\n",
            "  13/CD\n",
            "  (Chunk ]/NNP Scientific/NNP)\n",
            "  reviews/VBZ\n",
            "  state/NN\n",
            "  that/IN\n",
            "  (Chunk NLP/NNP)\n",
            "  is/VBZ\n",
            "  based/VBN\n",
            "  on/IN\n",
            "  outdated/JJ\n",
            "  metaphors/NNS\n",
            "  of/IN\n",
            "  how/WRB\n",
            "  the/DT\n",
            "  brain/NN\n",
            "  works/VBZ\n",
            "  that/WDT\n",
            "  are/VBP\n",
            "  inconsistent/JJ\n",
            "  with/IN\n",
            "  current/JJ\n",
            "  neurological/JJ\n",
            "  theory/NN\n",
            "  and/CC\n",
            "  contain/VBP\n",
            "  numerous/JJ\n",
            "  factual/JJ\n",
            "  errors/NNS\n",
            "  ./.)\n",
            "(S\n",
            "  [/RB\n",
            "  10/CD\n",
            "  ]/JJ\n",
            "  [/$\n",
            "  14/CD\n",
            "  (Chunk ]/NNP Reviews/NNP)\n",
            "  also/RB\n",
            "  found/VBD\n",
            "  that/IN\n",
            "  all/DT\n",
            "  of/IN\n",
            "  the/DT\n",
            "  supportive/JJ\n",
            "  research/NN\n",
            "  on/IN\n",
            "  (Chunk NLP/NNP)\n",
            "  contained/VBD\n",
            "  significant/JJ\n",
            "  methodological/JJ\n",
            "  flaws/NNS\n",
            "  and/CC\n",
            "  that/IN\n",
            "  there/EX\n",
            "  were/VBD\n",
            "  three/CD\n",
            "  times/NNS\n",
            "  as/IN\n",
            "  many/JJ\n",
            "  studies/NNS\n",
            "  of/IN\n",
            "  a/DT\n",
            "  much/JJ\n",
            "  higher/JJR\n",
            "  quality/NN\n",
            "  that/WDT\n",
            "  failed/VBD\n",
            "  to/TO\n",
            "  reproduce/VB\n",
            "  the/DT\n",
            "  extraordinary/JJ\n",
            "  claims/NNS\n",
            "  made/VBN\n",
            "  by/IN\n",
            "  (Chunk Bandler/NNP)\n",
            "  ,/,\n",
            "  (Chunk Grinder/NNP)\n",
            "  ,/,\n",
            "  and/CC\n",
            "  other/JJ\n",
            "  (Chunk NLP/NNP)\n",
            "  practitioners/NNS\n",
            "  ./.)\n",
            "(S [/RB 12/CD ]/JJ [/$ 13/CD ]/NN)\n"
          ]
        }
      ],
      "source": [
        "def process_content():\n",
        "    try:\n",
        "        for i in tokenized:\n",
        "            words = nltk.word_tokenize(i)\n",
        "            tagged = nltk.pos_tag(words)\n",
        "            #print(tagged)\n",
        "\n",
        "            chunkGram = r\"\"\"Chunk: {<RB.?>*<VB.?>*<NNP>+<NN>?}\"\"\"\n",
        "\n",
        "            chunkParser = nltk.RegexpParser(chunkGram)\n",
        "            chunked = chunkParser.parse(tagged)\n",
        "            print(chunked)\n",
        "\n",
        "\n",
        "    except Exception as e:\n",
        "        print(str(e))\n",
        "\n",
        "\n",
        "process_content()"
      ]
    },
    {
      "cell_type": "code",
      "execution_count": null,
      "id": "c221d188",
      "metadata": {
        "execution": {
          "iopub.execute_input": "2022-04-28T06:45:53.203102Z",
          "iopub.status.busy": "2022-04-28T06:45:53.202500Z",
          "iopub.status.idle": "2022-04-28T06:45:53.269933Z",
          "shell.execute_reply": "2022-04-28T06:45:53.270531Z",
          "shell.execute_reply.started": "2022-04-28T06:01:10.416575Z"
        },
        "papermill": {
          "duration": 0.173048,
          "end_time": "2022-04-28T06:45:53.270714",
          "exception": false,
          "start_time": "2022-04-28T06:45:53.097666",
          "status": "completed"
        },
        "tags": [],
        "id": "c221d188",
        "outputId": "1846d0d4-0a2f-49d5-c604-b4ef831d352f"
      },
      "outputs": [
        {
          "name": "stdout",
          "output_type": "stream",
          "text": [
            "no display name and no $DISPLAY environment variable\n"
          ]
        }
      ],
      "source": [
        "import matplotlib.pyplot as plt\n",
        "from sklearn import tree\n",
        "import os\n",
        "from IPython.display import Image, display\n",
        "from nltk.draw import TreeWidget\n",
        "from nltk.draw.util import CanvasFrame\n",
        "%matplotlib inline\n",
        "\n",
        "def process_content():\n",
        "    try:\n",
        "        for i in tokenized:\n",
        "            words = nltk.word_tokenize(i)\n",
        "            tagged = nltk.pos_tag(words)\n",
        "            #print(tagged)\n",
        "\n",
        "            chunkGram = r\"\"\"Chunk: {<RB.?>*<VB.?>*<NNP>+<NN>?}\"\"\"\n",
        "\n",
        "            chunkParser = nltk.RegexpParser(chunkGram)\n",
        "            chunked = chunkParser.parse(tagged)\n",
        "            #print(chunked)\n",
        "            chunked.draw()\n",
        "\n",
        "    except Exception as e:\n",
        "        print(str(e))\n",
        "\n",
        "\n",
        "process_content()"
      ]
    },
    {
      "cell_type": "markdown",
      "id": "9b2ae1fa",
      "metadata": {
        "papermill": {
          "duration": 0.097705,
          "end_time": "2022-04-28T06:45:53.468451",
          "exception": false,
          "start_time": "2022-04-28T06:45:53.370746",
          "status": "completed"
        },
        "tags": [],
        "id": "9b2ae1fa"
      },
      "source": [
        "This kind of output is shows! but jupyter got didnot display\n",
        "\n",
        "<img src='https://naadispeaks.files.wordpress.com/2017/02/cap_4.gif'>"
      ]
    },
    {
      "cell_type": "markdown",
      "id": "5ebd129d",
      "metadata": {
        "papermill": {
          "duration": 0.098068,
          "end_time": "2022-04-28T06:45:53.665598",
          "exception": false,
          "start_time": "2022-04-28T06:45:53.567530",
          "status": "completed"
        },
        "tags": [],
        "id": "5ebd129d"
      },
      "source": [
        "# **8. Chinking**\n",
        "[Go back](#scrollTo=qQGn3HnPplKd)\n",
        "\n",
        "Chinking is a lot like chunking, it is basically a way for you to remove a chunk from a chunk. The chunk that you remove from your chunk is your chink."
      ]
    },
    {
      "cell_type": "code",
      "execution_count": null,
      "id": "f2003bd3",
      "metadata": {
        "_kg_hide-output": true,
        "execution": {
          "iopub.execute_input": "2022-04-28T06:45:53.873966Z",
          "iopub.status.busy": "2022-04-28T06:45:53.873156Z",
          "iopub.status.idle": "2022-04-28T06:45:53.904273Z",
          "shell.execute_reply": "2022-04-28T06:45:53.903716Z",
          "shell.execute_reply.started": "2022-04-28T06:01:10.830662Z"
        },
        "papermill": {
          "duration": 0.136981,
          "end_time": "2022-04-28T06:45:53.904393",
          "exception": false,
          "start_time": "2022-04-28T06:45:53.767412",
          "status": "completed"
        },
        "tags": [],
        "id": "f2003bd3",
        "outputId": "4d496a91-596c-4353-b68c-434b7bfb50ed"
      },
      "outputs": [
        {
          "name": "stdout",
          "output_type": "stream",
          "text": [
            "(S\n",
            "  (Chunk Neuro-linguistic/JJ programming/NN (/( NLP/NNP )/))\n",
            "  is/VBZ\n",
            "  a/DT\n",
            "  (Chunk pseudoscientific/JJ approach/NN)\n",
            "  to/TO\n",
            "  (Chunk\n",
            "    communication/NN\n",
            "    ,/,\n",
            "    personal/JJ\n",
            "    development/NN\n",
            "    ,/,\n",
            "    and/CC\n",
            "    psychotherapy/RB)\n",
            "  created/VBN\n",
            "  by/IN\n",
            "  (Chunk Richard/NNP Bandler/NNP and/CC John/NNP Grinder/NNP)\n",
            "  in/IN\n",
            "  (Chunk California/NNP ,/, United/NNP States/NNPS ,/,)\n",
            "  in/IN\n",
            "  the/DT\n",
            "  (Chunk 1970s/CD ./.))\n",
            "(S\n",
            "  (Chunk NLP/NNP 's/POS creators/NNS)\n",
            "  claim/VBP\n",
            "  (Chunk there/EX)\n",
            "  is/VBZ\n",
            "  a/DT\n",
            "  (Chunk connection/NN)\n",
            "  between/IN\n",
            "  (Chunk\n",
            "    neurological/JJ\n",
            "    processes/NNS\n",
            "    (/(\n",
            "    neuro-/JJ\n",
            "    )/)\n",
            "    ,/,\n",
            "    language/NN\n",
            "    (/(\n",
            "    linguistic/JJ\n",
            "    )/)\n",
            "    and/CC\n",
            "    behavioral/JJ\n",
            "    patterns/NNS)\n",
            "  learned/VBD\n",
            "  through/IN\n",
            "  (Chunk experience/NN (/()\n",
            "  programming/VBG\n",
            "  (Chunk )/) ,/, and/CC)\n",
            "  that/IN\n",
            "  these/DT\n",
            "  (Chunk can/MD)\n",
            "  be/VB\n",
            "  changed/VBN\n",
            "  to/TO\n",
            "  achieve/VB\n",
            "  (Chunk specific/JJ goals/NNS)\n",
            "  in/IN\n",
            "  (Chunk life/NN ./.))\n",
            "(S\n",
            "  (Chunk\n",
            "    [/RB\n",
            "    1/CD\n",
            "    ]/JJ\n",
            "    [/$\n",
            "    2/CD\n",
            "    ]/NN\n",
            "    :/:\n",
            "    2/CD\n",
            "    Bandler/NNP\n",
            "    and/CC\n",
            "    Grinder/NNP\n",
            "    also/RB)\n",
            "  claim/VBP\n",
            "  that/IN\n",
            "  (Chunk NLP/NNP methodology/NN can/MD)\n",
            "  model/VB\n",
            "  the/DT\n",
            "  (Chunk skills/NNS)\n",
            "  of/IN\n",
            "  (Chunk exceptional/JJ people/NNS ,/,)\n",
            "  allowing/VBG\n",
            "  (Chunk anyone/NN)\n",
            "  to/TO\n",
            "  acquire/VB\n",
            "  those/DT\n",
            "  (Chunk skills/NNS ./.))\n",
            "(S\n",
            "  (Chunk [/RB 3/CD ]/NNS :/: 5–6/CD [/$ 4/CD ]/NN They/PRP)\n",
            "  claim/VBP\n",
            "  (Chunk as/RB well/RB)\n",
            "  that/IN\n",
            "  (Chunk ,/, often/RB)\n",
            "  in/IN\n",
            "  a/DT\n",
            "  (Chunk single/JJ session/NN ,/, NLP/NNP can/MD)\n",
            "  treat/VB\n",
            "  (Chunk problems/NNS such/JJ)\n",
            "  as/IN\n",
            "  (Chunk\n",
            "    phobias/NNS\n",
            "    ,/,\n",
            "    depression/NN\n",
            "    ,/,\n",
            "    tic/JJ\n",
            "    disorders/NNS\n",
            "    ,/,\n",
            "    psychosomatic/JJ\n",
            "    illnesses/NNS\n",
            "    ,/,\n",
            "    near-sightedness/JJ\n",
            "    ,/,\n",
            "    [/JJ\n",
            "    5/CD\n",
            "    ]/NN\n",
            "    allergy/NN\n",
            "    ,/,)\n",
            "  the/DT\n",
            "  (Chunk\n",
            "    common/JJ\n",
            "    cold/NN\n",
            "    ,/,\n",
            "    [/NNP\n",
            "    Note/NNP\n",
            "    1/CD\n",
            "    ]/NN\n",
            "    and/CC\n",
            "    learning/NN\n",
            "    disorders/NNS\n",
            "    ./.))\n",
            "(S\n",
            "  (Chunk [/RB 7/CD ]/JJ [/$ 8/CD ]/NNP NLP/NNP)\n",
            "  has/VBZ\n",
            "  been/VBN\n",
            "  adopted/VBN\n",
            "  by/IN\n",
            "  some/DT\n",
            "  (Chunk hypnotherapists/NNS and/CC also/RB)\n",
            "  by/IN\n",
            "  (Chunk companies/NNS that/WDT)\n",
            "  run/VBP\n",
            "  (Chunk seminars/RB)\n",
            "  marketed/VBN\n",
            "  as/IN\n",
            "  (Chunk leadership/NN training/NN)\n",
            "  to/TO\n",
            "  (Chunk businesses/NNS and/CC government/NN agencies/NNS ./.))\n",
            "(S\n",
            "  (Chunk [/RB 9/CD ]/JJ [/$ 10/CD ]/NN There/EX)\n",
            "  is/VBZ\n",
            "  no/DT\n",
            "  (Chunk scientific/JJ evidence/NN)\n",
            "  supporting/VBG\n",
            "  the/DT\n",
            "  (Chunk claims/NNS)\n",
            "  made/VBN\n",
            "  by/IN\n",
            "  (Chunk NLP/NNP advocates/NNS ,/, and/CC it/PRP)\n",
            "  has/VBZ\n",
            "  been/VBN\n",
            "  discredited/VBN\n",
            "  as/IN\n",
            "  a/DT\n",
            "  (Chunk pseudoscience/NN ./.))\n",
            "(S\n",
            "  (Chunk [/RB 11/CD ]/JJ [/$ 12/CD ]/NNP)\n",
            "  [/VBD\n",
            "  (Chunk 13/CD ]/NNP Scientific/NNP)\n",
            "  reviews/VBZ\n",
            "  (Chunk state/NN)\n",
            "  that/IN\n",
            "  (Chunk NLP/NNP)\n",
            "  is/VBZ\n",
            "  based/VBN\n",
            "  on/IN\n",
            "  (Chunk outdated/JJ metaphors/NNS)\n",
            "  of/IN\n",
            "  (Chunk how/WRB)\n",
            "  the/DT\n",
            "  (Chunk brain/NN)\n",
            "  works/VBZ\n",
            "  (Chunk that/WDT)\n",
            "  are/VBP\n",
            "  (Chunk inconsistent/JJ)\n",
            "  with/IN\n",
            "  (Chunk current/JJ neurological/JJ theory/NN and/CC)\n",
            "  contain/VBP\n",
            "  (Chunk numerous/JJ factual/JJ errors/NNS ./.))\n",
            "(S\n",
            "  (Chunk [/RB 10/CD ]/JJ [/$ 14/CD ]/NNP Reviews/NNP also/RB)\n",
            "  found/VBD\n",
            "  that/IN\n",
            "  all/DT\n",
            "  of/IN\n",
            "  the/DT\n",
            "  (Chunk supportive/JJ research/NN)\n",
            "  on/IN\n",
            "  (Chunk NLP/NNP)\n",
            "  contained/VBD\n",
            "  (Chunk significant/JJ methodological/JJ flaws/NNS and/CC)\n",
            "  that/IN\n",
            "  (Chunk there/EX)\n",
            "  were/VBD\n",
            "  (Chunk three/CD times/NNS)\n",
            "  as/IN\n",
            "  (Chunk many/JJ studies/NNS)\n",
            "  of/IN\n",
            "  a/DT\n",
            "  (Chunk much/JJ higher/JJR quality/NN that/WDT)\n",
            "  failed/VBD\n",
            "  to/TO\n",
            "  reproduce/VB\n",
            "  the/DT\n",
            "  (Chunk extraordinary/JJ claims/NNS)\n",
            "  made/VBN\n",
            "  by/IN\n",
            "  (Chunk\n",
            "    Bandler/NNP\n",
            "    ,/,\n",
            "    Grinder/NNP\n",
            "    ,/,\n",
            "    and/CC\n",
            "    other/JJ\n",
            "    NLP/NNP\n",
            "    practitioners/NNS\n",
            "    ./.))\n",
            "(S (Chunk [/RB 12/CD ]/JJ [/$ 13/CD ]/NN))\n"
          ]
        }
      ],
      "source": [
        "def process_content():\n",
        "    try:\n",
        "        for i in tokenized:\n",
        "            words = nltk.word_tokenize(i)\n",
        "            tagged = nltk.pos_tag(words)\n",
        "            #print(tagged)\n",
        "\n",
        "            chunkGram = r\"\"\"Chunk: {<.*>+}\n",
        "                                    }<VB.?|IN|DT|TO>+{\"\"\"\n",
        "\n",
        "            chunkParser = nltk.RegexpParser(chunkGram)\n",
        "            chunked = chunkParser.parse(tagged)\n",
        "            print(chunked)\n",
        "            #chunked.draw()\n",
        "\n",
        "    except Exception as e:\n",
        "        print(str(e))\n",
        "\n",
        "\n",
        "process_content()"
      ]
    },
    {
      "cell_type": "markdown",
      "id": "a17178f2",
      "metadata": {
        "papermill": {
          "duration": 0.102825,
          "end_time": "2022-04-28T06:45:54.107536",
          "exception": false,
          "start_time": "2022-04-28T06:45:54.004711",
          "status": "completed"
        },
        "tags": [],
        "id": "a17178f2"
      },
      "source": [
        "# **9. Named Entity Recognition**\n",
        "[Go back](#scrollTo=qQGn3HnPplKd)\n",
        "\n",
        "One of the most major forms of chunking in natural language processing is called \"Named Entity Recognition.\" The idea is to have the machine immediately be able to pull out \"entities\" like people, places, things, locations, monetary figures, and more.\n",
        "\n",
        "\n",
        "#### **Example:**\n",
        "\n",
        "NE Type and Examples\n",
        "\n",
        "1. ORGANIZATION - Georgia-Pacific Corp., WHO\n",
        "2. PERSON - Eddy Bonte, President Obama\n",
        "3. LOCATION - Murray River, Mount Everest\n",
        "4. DATE - June, 2008-06-29\n",
        "5. TIME - two fifty a m, 1:30 p.m.\n",
        "6. MONEY - 175 million Canadian Dollars, GBP 10.40\n",
        "7. PERCENT - twenty pct, 18.75 %\n",
        "8. FACILITY - Washington Monument, Stonehenge\n",
        "9. GPE - South East Asia, Midlothian"
      ]
    },
    {
      "cell_type": "code",
      "execution_count": null,
      "id": "8ffff9da",
      "metadata": {
        "_kg_hide-output": true,
        "execution": {
          "iopub.execute_input": "2022-04-28T06:45:54.312642Z",
          "iopub.status.busy": "2022-04-28T06:45:54.311818Z",
          "iopub.status.idle": "2022-04-28T06:45:54.679253Z",
          "shell.execute_reply": "2022-04-28T06:45:54.680068Z",
          "shell.execute_reply.started": "2022-04-28T06:01:11.059916Z"
        },
        "papermill": {
          "duration": 0.473304,
          "end_time": "2022-04-28T06:45:54.680310",
          "exception": false,
          "start_time": "2022-04-28T06:45:54.207006",
          "status": "completed"
        },
        "tags": [],
        "id": "8ffff9da",
        "outputId": "0fda41ae-d0a8-41bd-835b-e343aa2a7017"
      },
      "outputs": [
        {
          "name": "stdout",
          "output_type": "stream",
          "text": [
            "Go and watch the output like name entity recognition e.g., organization(NNP/NN),....\n",
            "\n",
            "Without Binary NER\n",
            "-----------------------------------------------------------------------------------\n",
            "(S\n",
            "  Neuro-linguistic/JJ\n",
            "  programming/NN\n",
            "  (/(\n",
            "  (ORGANIZATION NLP/NNP)\n",
            "  )/)\n",
            "  is/VBZ\n",
            "  a/DT\n",
            "  pseudoscientific/JJ\n",
            "  approach/NN\n",
            "  to/TO\n",
            "  communication/NN\n",
            "  ,/,\n",
            "  personal/JJ\n",
            "  development/NN\n",
            "  ,/,\n",
            "  and/CC\n",
            "  psychotherapy/RB\n",
            "  created/VBN\n",
            "  by/IN\n",
            "  (PERSON Richard/NNP Bandler/NNP)\n",
            "  and/CC\n",
            "  (PERSON John/NNP Grinder/NNP)\n",
            "  in/IN\n",
            "  (GPE California/NNP)\n",
            "  ,/,\n",
            "  (GPE United/NNP States/NNPS)\n",
            "  ,/,\n",
            "  in/IN\n",
            "  the/DT\n",
            "  1970s/CD\n",
            "  ./.)\n",
            "----------------------------------------------------------------------------------\n",
            "With Binary NER\n",
            "-----------------------------------------------------------------------------------\n",
            "(S\n",
            "  Neuro-linguistic/JJ\n",
            "  programming/NN\n",
            "  (/(\n",
            "  (NE NLP/NNP)\n",
            "  )/)\n",
            "  is/VBZ\n",
            "  a/DT\n",
            "  pseudoscientific/JJ\n",
            "  approach/NN\n",
            "  to/TO\n",
            "  communication/NN\n",
            "  ,/,\n",
            "  personal/JJ\n",
            "  development/NN\n",
            "  ,/,\n",
            "  and/CC\n",
            "  psychotherapy/RB\n",
            "  created/VBN\n",
            "  by/IN\n",
            "  (NE Richard/NNP Bandler/NNP)\n",
            "  and/CC\n",
            "  (NE John/NNP Grinder/NNP)\n",
            "  in/IN\n",
            "  (NE California/NNP)\n",
            "  ,/,\n",
            "  (NE United/NNP States/NNPS)\n",
            "  ,/,\n",
            "  in/IN\n",
            "  the/DT\n",
            "  1970s/CD\n",
            "  ./.)\n",
            "Without Binary NER\n",
            "-----------------------------------------------------------------------------------\n",
            "(S\n",
            "  (ORGANIZATION NLP/NNP)\n",
            "  's/POS\n",
            "  creators/NNS\n",
            "  claim/VBP\n",
            "  there/EX\n",
            "  is/VBZ\n",
            "  a/DT\n",
            "  connection/NN\n",
            "  between/IN\n",
            "  neurological/JJ\n",
            "  processes/NNS\n",
            "  (/(\n",
            "  neuro-/JJ\n",
            "  )/)\n",
            "  ,/,\n",
            "  language/NN\n",
            "  (/(\n",
            "  linguistic/JJ\n",
            "  )/)\n",
            "  and/CC\n",
            "  behavioral/JJ\n",
            "  patterns/NNS\n",
            "  learned/VBD\n",
            "  through/IN\n",
            "  experience/NN\n",
            "  (/(\n",
            "  programming/VBG\n",
            "  )/)\n",
            "  ,/,\n",
            "  and/CC\n",
            "  that/IN\n",
            "  these/DT\n",
            "  can/MD\n",
            "  be/VB\n",
            "  changed/VBN\n",
            "  to/TO\n",
            "  achieve/VB\n",
            "  specific/JJ\n",
            "  goals/NNS\n",
            "  in/IN\n",
            "  life/NN\n",
            "  ./.)\n",
            "----------------------------------------------------------------------------------\n",
            "With Binary NER\n",
            "-----------------------------------------------------------------------------------\n",
            "(S\n",
            "  (NE NLP/NNP)\n",
            "  's/POS\n",
            "  creators/NNS\n",
            "  claim/VBP\n",
            "  there/EX\n",
            "  is/VBZ\n",
            "  a/DT\n",
            "  connection/NN\n",
            "  between/IN\n",
            "  neurological/JJ\n",
            "  processes/NNS\n",
            "  (/(\n",
            "  neuro-/JJ\n",
            "  )/)\n",
            "  ,/,\n",
            "  language/NN\n",
            "  (/(\n",
            "  linguistic/JJ\n",
            "  )/)\n",
            "  and/CC\n",
            "  behavioral/JJ\n",
            "  patterns/NNS\n",
            "  learned/VBD\n",
            "  through/IN\n",
            "  experience/NN\n",
            "  (/(\n",
            "  programming/VBG\n",
            "  )/)\n",
            "  ,/,\n",
            "  and/CC\n",
            "  that/IN\n",
            "  these/DT\n",
            "  can/MD\n",
            "  be/VB\n",
            "  changed/VBN\n",
            "  to/TO\n",
            "  achieve/VB\n",
            "  specific/JJ\n",
            "  goals/NNS\n",
            "  in/IN\n",
            "  life/NN\n",
            "  ./.)\n",
            "Without Binary NER\n",
            "-----------------------------------------------------------------------------------\n",
            "(S\n",
            "  [/RB\n",
            "  1/CD\n",
            "  ]/JJ\n",
            "  [/$\n",
            "  2/CD\n",
            "  ]/NN\n",
            "  :/:\n",
            "  2/CD\n",
            "  (PERSON Bandler/NNP)\n",
            "  and/CC\n",
            "  (PERSON Grinder/NNP)\n",
            "  also/RB\n",
            "  claim/VBP\n",
            "  that/IN\n",
            "  (ORGANIZATION NLP/NNP)\n",
            "  methodology/NN\n",
            "  can/MD\n",
            "  model/VB\n",
            "  the/DT\n",
            "  skills/NNS\n",
            "  of/IN\n",
            "  exceptional/JJ\n",
            "  people/NNS\n",
            "  ,/,\n",
            "  allowing/VBG\n",
            "  anyone/NN\n",
            "  to/TO\n",
            "  acquire/VB\n",
            "  those/DT\n",
            "  skills/NNS\n",
            "  ./.)\n",
            "----------------------------------------------------------------------------------\n",
            "With Binary NER\n",
            "-----------------------------------------------------------------------------------\n",
            "(S\n",
            "  [/RB\n",
            "  1/CD\n",
            "  ]/JJ\n",
            "  [/$\n",
            "  2/CD\n",
            "  ]/NN\n",
            "  :/:\n",
            "  2/CD\n",
            "  Bandler/NNP\n",
            "  and/CC\n",
            "  (NE Grinder/NNP)\n",
            "  also/RB\n",
            "  claim/VBP\n",
            "  that/IN\n",
            "  (NE NLP/NNP)\n",
            "  methodology/NN\n",
            "  can/MD\n",
            "  model/VB\n",
            "  the/DT\n",
            "  skills/NNS\n",
            "  of/IN\n",
            "  exceptional/JJ\n",
            "  people/NNS\n",
            "  ,/,\n",
            "  allowing/VBG\n",
            "  anyone/NN\n",
            "  to/TO\n",
            "  acquire/VB\n",
            "  those/DT\n",
            "  skills/NNS\n",
            "  ./.)\n",
            "Without Binary NER\n",
            "-----------------------------------------------------------------------------------\n",
            "(S\n",
            "  [/RB\n",
            "  3/CD\n",
            "  ]/NNS\n",
            "  :/:\n",
            "  5–6/CD\n",
            "  [/$\n",
            "  4/CD\n",
            "  ]/NN\n",
            "  They/PRP\n",
            "  claim/VBP\n",
            "  as/RB\n",
            "  well/RB\n",
            "  that/IN\n",
            "  ,/,\n",
            "  often/RB\n",
            "  in/IN\n",
            "  a/DT\n",
            "  single/JJ\n",
            "  session/NN\n",
            "  ,/,\n",
            "  (ORGANIZATION NLP/NNP)\n",
            "  can/MD\n",
            "  treat/VB\n",
            "  problems/NNS\n",
            "  such/JJ\n",
            "  as/IN\n",
            "  phobias/NNS\n",
            "  ,/,\n",
            "  depression/NN\n",
            "  ,/,\n",
            "  tic/JJ\n",
            "  disorders/NNS\n",
            "  ,/,\n",
            "  psychosomatic/JJ\n",
            "  illnesses/NNS\n",
            "  ,/,\n",
            "  near-sightedness/JJ\n",
            "  ,/,\n",
            "  [/JJ\n",
            "  5/CD\n",
            "  ]/NN\n",
            "  allergy/NN\n",
            "  ,/,\n",
            "  the/DT\n",
            "  common/JJ\n",
            "  cold/NN\n",
            "  ,/,\n",
            "  [/NNP\n",
            "  Note/NNP\n",
            "  1/CD\n",
            "  ]/NN\n",
            "  and/CC\n",
            "  learning/NN\n",
            "  disorders/NNS\n",
            "  ./.)\n",
            "----------------------------------------------------------------------------------\n",
            "With Binary NER\n",
            "-----------------------------------------------------------------------------------\n",
            "(S\n",
            "  [/RB\n",
            "  3/CD\n",
            "  ]/NNS\n",
            "  :/:\n",
            "  5–6/CD\n",
            "  [/$\n",
            "  4/CD\n",
            "  ]/NN\n",
            "  They/PRP\n",
            "  claim/VBP\n",
            "  as/RB\n",
            "  well/RB\n",
            "  that/IN\n",
            "  ,/,\n",
            "  often/RB\n",
            "  in/IN\n",
            "  a/DT\n",
            "  single/JJ\n",
            "  session/NN\n",
            "  ,/,\n",
            "  (NE NLP/NNP)\n",
            "  can/MD\n",
            "  treat/VB\n",
            "  problems/NNS\n",
            "  such/JJ\n",
            "  as/IN\n",
            "  phobias/NNS\n",
            "  ,/,\n",
            "  depression/NN\n",
            "  ,/,\n",
            "  tic/JJ\n",
            "  disorders/NNS\n",
            "  ,/,\n",
            "  psychosomatic/JJ\n",
            "  illnesses/NNS\n",
            "  ,/,\n",
            "  near-sightedness/JJ\n",
            "  ,/,\n",
            "  [/JJ\n",
            "  5/CD\n",
            "  ]/NN\n",
            "  allergy/NN\n",
            "  ,/,\n",
            "  the/DT\n",
            "  common/JJ\n",
            "  cold/NN\n",
            "  ,/,\n",
            "  [/NNP\n",
            "  Note/NNP\n",
            "  1/CD\n",
            "  ]/NN\n",
            "  and/CC\n",
            "  learning/NN\n",
            "  disorders/NNS\n",
            "  ./.)\n",
            "Without Binary NER\n",
            "-----------------------------------------------------------------------------------\n",
            "(S\n",
            "  [/RB\n",
            "  7/CD\n",
            "  ]/JJ\n",
            "  [/$\n",
            "  8/CD\n",
            "  ]/NNP\n",
            "  NLP/NNP\n",
            "  has/VBZ\n",
            "  been/VBN\n",
            "  adopted/VBN\n",
            "  by/IN\n",
            "  some/DT\n",
            "  hypnotherapists/NNS\n",
            "  and/CC\n",
            "  also/RB\n",
            "  by/IN\n",
            "  companies/NNS\n",
            "  that/WDT\n",
            "  run/VBP\n",
            "  seminars/RB\n",
            "  marketed/VBN\n",
            "  as/IN\n",
            "  leadership/NN\n",
            "  training/NN\n",
            "  to/TO\n",
            "  businesses/NNS\n",
            "  and/CC\n",
            "  government/NN\n",
            "  agencies/NNS\n",
            "  ./.)\n",
            "----------------------------------------------------------------------------------\n",
            "With Binary NER\n",
            "-----------------------------------------------------------------------------------\n",
            "(S\n",
            "  [/RB\n",
            "  7/CD\n",
            "  ]/JJ\n",
            "  [/$\n",
            "  8/CD\n",
            "  ]/NNP\n",
            "  NLP/NNP\n",
            "  has/VBZ\n",
            "  been/VBN\n",
            "  adopted/VBN\n",
            "  by/IN\n",
            "  some/DT\n",
            "  hypnotherapists/NNS\n",
            "  and/CC\n",
            "  also/RB\n",
            "  by/IN\n",
            "  companies/NNS\n",
            "  that/WDT\n",
            "  run/VBP\n",
            "  seminars/RB\n",
            "  marketed/VBN\n",
            "  as/IN\n",
            "  leadership/NN\n",
            "  training/NN\n",
            "  to/TO\n",
            "  businesses/NNS\n",
            "  and/CC\n",
            "  government/NN\n",
            "  agencies/NNS\n",
            "  ./.)\n",
            "Without Binary NER\n",
            "-----------------------------------------------------------------------------------\n",
            "(S\n",
            "  [/RB\n",
            "  9/CD\n",
            "  ]/JJ\n",
            "  [/$\n",
            "  10/CD\n",
            "  ]/NN\n",
            "  There/EX\n",
            "  is/VBZ\n",
            "  no/DT\n",
            "  scientific/JJ\n",
            "  evidence/NN\n",
            "  supporting/VBG\n",
            "  the/DT\n",
            "  claims/NNS\n",
            "  made/VBN\n",
            "  by/IN\n",
            "  (ORGANIZATION NLP/NNP)\n",
            "  advocates/NNS\n",
            "  ,/,\n",
            "  and/CC\n",
            "  it/PRP\n",
            "  has/VBZ\n",
            "  been/VBN\n",
            "  discredited/VBN\n",
            "  as/IN\n",
            "  a/DT\n",
            "  pseudoscience/NN\n",
            "  ./.)\n",
            "----------------------------------------------------------------------------------\n",
            "With Binary NER\n",
            "-----------------------------------------------------------------------------------\n",
            "(S\n",
            "  [/RB\n",
            "  9/CD\n",
            "  ]/JJ\n",
            "  [/$\n",
            "  10/CD\n",
            "  ]/NN\n",
            "  There/EX\n",
            "  is/VBZ\n",
            "  no/DT\n",
            "  scientific/JJ\n",
            "  evidence/NN\n",
            "  supporting/VBG\n",
            "  the/DT\n",
            "  claims/NNS\n",
            "  made/VBN\n",
            "  by/IN\n",
            "  (NE NLP/NNP)\n",
            "  advocates/NNS\n",
            "  ,/,\n",
            "  and/CC\n",
            "  it/PRP\n",
            "  has/VBZ\n",
            "  been/VBN\n",
            "  discredited/VBN\n",
            "  as/IN\n",
            "  a/DT\n",
            "  pseudoscience/NN\n",
            "  ./.)\n",
            "Without Binary NER\n",
            "-----------------------------------------------------------------------------------\n",
            "(S\n",
            "  [/RB\n",
            "  11/CD\n",
            "  ]/JJ\n",
            "  [/$\n",
            "  12/CD\n",
            "  ]/NNP\n",
            "  [/VBD\n",
            "  13/CD\n",
            "  ]/NNP\n",
            "  Scientific/NNP\n",
            "  reviews/VBZ\n",
            "  state/NN\n",
            "  that/IN\n",
            "  (ORGANIZATION NLP/NNP)\n",
            "  is/VBZ\n",
            "  based/VBN\n",
            "  on/IN\n",
            "  outdated/JJ\n",
            "  metaphors/NNS\n",
            "  of/IN\n",
            "  how/WRB\n",
            "  the/DT\n",
            "  brain/NN\n",
            "  works/VBZ\n",
            "  that/WDT\n",
            "  are/VBP\n",
            "  inconsistent/JJ\n",
            "  with/IN\n",
            "  current/JJ\n",
            "  neurological/JJ\n",
            "  theory/NN\n",
            "  and/CC\n",
            "  contain/VBP\n",
            "  numerous/JJ\n",
            "  factual/JJ\n",
            "  errors/NNS\n",
            "  ./.)\n",
            "----------------------------------------------------------------------------------\n",
            "With Binary NER\n",
            "-----------------------------------------------------------------------------------\n",
            "(S\n",
            "  [/RB\n",
            "  11/CD\n",
            "  ]/JJ\n",
            "  [/$\n",
            "  12/CD\n",
            "  ]/NNP\n",
            "  [/VBD\n",
            "  13/CD\n",
            "  ]/NNP\n",
            "  Scientific/NNP\n",
            "  reviews/VBZ\n",
            "  state/NN\n",
            "  that/IN\n",
            "  (NE NLP/NNP)\n",
            "  is/VBZ\n",
            "  based/VBN\n",
            "  on/IN\n",
            "  outdated/JJ\n",
            "  metaphors/NNS\n",
            "  of/IN\n",
            "  how/WRB\n",
            "  the/DT\n",
            "  brain/NN\n",
            "  works/VBZ\n",
            "  that/WDT\n",
            "  are/VBP\n",
            "  inconsistent/JJ\n",
            "  with/IN\n",
            "  current/JJ\n",
            "  neurological/JJ\n",
            "  theory/NN\n",
            "  and/CC\n",
            "  contain/VBP\n",
            "  numerous/JJ\n",
            "  factual/JJ\n",
            "  errors/NNS\n",
            "  ./.)\n",
            "Without Binary NER\n",
            "-----------------------------------------------------------------------------------\n",
            "(S\n",
            "  [/RB\n",
            "  10/CD\n",
            "  ]/JJ\n",
            "  [/$\n",
            "  14/CD\n",
            "  ]/NNP\n",
            "  (PERSON Reviews/NNP)\n",
            "  also/RB\n",
            "  found/VBD\n",
            "  that/IN\n",
            "  all/DT\n",
            "  of/IN\n",
            "  the/DT\n",
            "  supportive/JJ\n",
            "  research/NN\n",
            "  on/IN\n",
            "  (ORGANIZATION NLP/NNP)\n",
            "  contained/VBD\n",
            "  significant/JJ\n",
            "  methodological/JJ\n",
            "  flaws/NNS\n",
            "  and/CC\n",
            "  that/IN\n",
            "  there/EX\n",
            "  were/VBD\n",
            "  three/CD\n",
            "  times/NNS\n",
            "  as/IN\n",
            "  many/JJ\n",
            "  studies/NNS\n",
            "  of/IN\n",
            "  a/DT\n",
            "  much/JJ\n",
            "  higher/JJR\n",
            "  quality/NN\n",
            "  that/WDT\n",
            "  failed/VBD\n",
            "  to/TO\n",
            "  reproduce/VB\n",
            "  the/DT\n",
            "  extraordinary/JJ\n",
            "  claims/NNS\n",
            "  made/VBN\n",
            "  by/IN\n",
            "  (PERSON Bandler/NNP)\n",
            "  ,/,\n",
            "  (PERSON Grinder/NNP)\n",
            "  ,/,\n",
            "  and/CC\n",
            "  other/JJ\n",
            "  (ORGANIZATION NLP/NNP)\n",
            "  practitioners/NNS\n",
            "  ./.)\n",
            "----------------------------------------------------------------------------------\n",
            "With Binary NER\n",
            "-----------------------------------------------------------------------------------\n",
            "(S\n",
            "  [/RB\n",
            "  10/CD\n",
            "  ]/JJ\n",
            "  [/$\n",
            "  14/CD\n",
            "  ]/NNP\n",
            "  Reviews/NNP\n",
            "  also/RB\n",
            "  found/VBD\n",
            "  that/IN\n",
            "  all/DT\n",
            "  of/IN\n",
            "  the/DT\n",
            "  supportive/JJ\n",
            "  research/NN\n",
            "  on/IN\n",
            "  (NE NLP/NNP)\n",
            "  contained/VBD\n",
            "  significant/JJ\n",
            "  methodological/JJ\n",
            "  flaws/NNS\n",
            "  and/CC\n",
            "  that/IN\n",
            "  there/EX\n",
            "  were/VBD\n",
            "  three/CD\n",
            "  times/NNS\n",
            "  as/IN\n",
            "  many/JJ\n",
            "  studies/NNS\n",
            "  of/IN\n",
            "  a/DT\n",
            "  much/JJ\n",
            "  higher/JJR\n",
            "  quality/NN\n",
            "  that/WDT\n",
            "  failed/VBD\n",
            "  to/TO\n",
            "  reproduce/VB\n",
            "  the/DT\n",
            "  extraordinary/JJ\n",
            "  claims/NNS\n",
            "  made/VBN\n",
            "  by/IN\n",
            "  (NE Bandler/NNP)\n",
            "  ,/,\n",
            "  (NE Grinder/NNP)\n",
            "  ,/,\n",
            "  and/CC\n",
            "  other/JJ\n",
            "  NLP/NNP\n",
            "  practitioners/NNS\n",
            "  ./.)\n",
            "Without Binary NER\n",
            "-----------------------------------------------------------------------------------\n",
            "(S [/RB 12/CD ]/JJ [/$ 13/CD ]/NN)\n",
            "----------------------------------------------------------------------------------\n",
            "With Binary NER\n",
            "-----------------------------------------------------------------------------------\n",
            "(S [/RB 12/CD ]/JJ [/$ 13/CD ]/NN)\n"
          ]
        }
      ],
      "source": [
        "def process_content():\n",
        "    try:\n",
        "        for i in tokenized:\n",
        "            words = nltk.word_tokenize(i)\n",
        "            tagged = nltk.pos_tag(words)\n",
        "\n",
        "            print('Without Binary NER')\n",
        "            print('-----------------------------------------------------------------------------------')\n",
        "            # Try without apply binary=True\n",
        "            namedEntity = nltk.ne_chunk(tagged)\n",
        "            #namedEntity.draw()\n",
        "            print(namedEntity)\n",
        "            print('----------------------------------------------------------------------------------')\n",
        "\n",
        "            print('With Binary NER')\n",
        "            print('-----------------------------------------------------------------------------------')\n",
        "            # try with apply binary= True\n",
        "            namedEntity_Bin = nltk.ne_chunk(tagged,binary=True)\n",
        "            print(namedEntity_Bin)\n",
        "\n",
        "    except Exception as e:\n",
        "        print(str(e))\n",
        "\n",
        "print(\"Go and watch the output like name entity recognition e.g., organization(NNP/NN),....\")\n",
        "print('')\n",
        "process_content()\n"
      ]
    },
    {
      "cell_type": "markdown",
      "id": "60c4528e",
      "metadata": {
        "papermill": {
          "duration": 0.109894,
          "end_time": "2022-04-28T06:45:54.899201",
          "exception": false,
          "start_time": "2022-04-28T06:45:54.789307",
          "status": "completed"
        },
        "tags": [],
        "id": "60c4528e"
      },
      "source": [
        "# ***10. Lemmatization***\n",
        "[Go back](#scrollTo=qQGn3HnPplKd)\n",
        "\n",
        "A very similar operation to stemming is called lemmatizing. The major difference between these is, as you saw earlier, stemming can often create non-existent words, whereas lemmas are actual words.\n",
        "\n",
        "So, your root stem, meaning the word you end up with, is not something you can just look up in a dictionary, but you can look up a lemma.\n",
        "\n"
      ]
    },
    {
      "cell_type": "code",
      "execution_count": null,
      "id": "a1d8c9f6",
      "metadata": {
        "execution": {
          "iopub.execute_input": "2022-04-28T06:45:55.116557Z",
          "iopub.status.busy": "2022-04-28T06:45:55.115592Z",
          "iopub.status.idle": "2022-04-28T06:45:55.117440Z",
          "shell.execute_reply": "2022-04-28T06:45:55.117969Z",
          "shell.execute_reply.started": "2022-04-28T06:01:11.376571Z"
        },
        "papermill": {
          "duration": 0.113078,
          "end_time": "2022-04-28T06:45:55.118110",
          "exception": false,
          "start_time": "2022-04-28T06:45:55.005032",
          "status": "completed"
        },
        "tags": [],
        "id": "a1d8c9f6"
      },
      "outputs": [],
      "source": [
        "from nltk.stem import WordNetLemmatizer\n",
        "\n",
        "lemmatizer = WordNetLemmatizer()"
      ]
    },
    {
      "cell_type": "code",
      "execution_count": null,
      "id": "3b09d9ba",
      "metadata": {
        "execution": {
          "iopub.execute_input": "2022-04-28T06:45:55.327422Z",
          "iopub.status.busy": "2022-04-28T06:45:55.326796Z",
          "iopub.status.idle": "2022-04-28T06:45:57.180587Z",
          "shell.execute_reply": "2022-04-28T06:45:57.181021Z",
          "shell.execute_reply.started": "2022-04-28T06:01:11.894185Z"
        },
        "papermill": {
          "duration": 1.960172,
          "end_time": "2022-04-28T06:45:57.181185",
          "exception": false,
          "start_time": "2022-04-28T06:45:55.221013",
          "status": "completed"
        },
        "tags": [],
        "id": "3b09d9ba",
        "outputId": "07a9bef8-0791-4b0b-d336-4b7f8bd465ea"
      },
      "outputs": [
        {
          "name": "stdout",
          "output_type": "stream",
          "text": [
            "cat\n",
            "cactus\n",
            "dog\n",
            "corpus\n",
            "goose\n",
            "rock\n",
            "python\n"
          ]
        }
      ],
      "source": [
        "print(lemmatizer.lemmatize(\"cats\"))\n",
        "print(lemmatizer.lemmatize(\"cacti\"))\n",
        "print(lemmatizer.lemmatize(\"dogs\"))\n",
        "print(lemmatizer.lemmatize(\"corpora\"))\n",
        "print(lemmatizer.lemmatize(\"geese\"))\n",
        "print(lemmatizer.lemmatize(\"rocks\"))\n",
        "print(lemmatizer.lemmatize(\"python\"))"
      ]
    },
    {
      "cell_type": "code",
      "execution_count": null,
      "id": "ac7b4144",
      "metadata": {
        "execution": {
          "iopub.execute_input": "2022-04-28T06:45:57.396604Z",
          "iopub.status.busy": "2022-04-28T06:45:57.395920Z",
          "iopub.status.idle": "2022-04-28T06:45:57.399154Z",
          "shell.execute_reply": "2022-04-28T06:45:57.399731Z",
          "shell.execute_reply.started": "2022-04-28T06:01:12.17628Z"
        },
        "papermill": {
          "duration": 0.114727,
          "end_time": "2022-04-28T06:45:57.399906",
          "exception": false,
          "start_time": "2022-04-28T06:45:57.285179",
          "status": "completed"
        },
        "tags": [],
        "id": "ac7b4144",
        "outputId": "18419ec4-e0ef-40f7-ba57-308e6fc68bf4"
      },
      "outputs": [
        {
          "name": "stdout",
          "output_type": "stream",
          "text": [
            "General_lemma: worst\n",
            "Adjective_change_lemma -> worst to : bad\n",
            "Adjective_change_lemma -> better to: good\n",
            "lemma_v: run\n",
            "lemma_verb_initiated: run\n"
          ]
        }
      ],
      "source": [
        "# different approach based on noun,adjective,verb\n",
        "\n",
        "#general\n",
        "print('General_lemma:',lemmatizer.lemmatize(\"worst\"))\n",
        "\n",
        "# Adjective\n",
        "print('Adjective_change_lemma -> worst to :',lemmatizer.lemmatize(\"worst\", pos='a'))\n",
        "print('Adjective_change_lemma -> better to:',lemmatizer.lemmatize(\"better\",pos='a'))\n",
        "\n",
        "#verb\n",
        "print('lemma_v:',lemmatizer.lemmatize(\"run\"))\n",
        "print('lemma_verb_initiated:',lemmatizer.lemmatize(\"run\",pos='v'))\n"
      ]
    },
    {
      "cell_type": "markdown",
      "id": "20d874a3",
      "metadata": {
        "papermill": {
          "duration": 0.100756,
          "end_time": "2022-04-28T06:45:57.600504",
          "exception": false,
          "start_time": "2022-04-28T06:45:57.499748",
          "status": "completed"
        },
        "tags": [],
        "id": "20d874a3"
      },
      "source": [
        "# **11. Corpora**\n",
        "[Go back](#scrollTo=qQGn3HnPplKd)\n",
        "\n",
        "Corpus - Simply said that corpus means inbuilt data of text\n",
        "\n",
        "Almost all of the files in the NLTK corpus follow the same rules for accessing them by using the NLTK module, but nothing is magical about them. These files are plain text files for the most part, some are XML and some are other formats, but they are all accessible by you manually, or via the module and Python"
      ]
    },
    {
      "cell_type": "code",
      "execution_count": null,
      "id": "ed8a2d8d",
      "metadata": {
        "execution": {
          "iopub.execute_input": "2022-04-28T06:45:57.809055Z",
          "iopub.status.busy": "2022-04-28T06:45:57.808292Z",
          "iopub.status.idle": "2022-04-28T06:45:57.811215Z",
          "shell.execute_reply": "2022-04-28T06:45:57.811775Z",
          "shell.execute_reply.started": "2022-04-28T06:01:12.496876Z"
        },
        "papermill": {
          "duration": 0.109248,
          "end_time": "2022-04-28T06:45:57.811976",
          "exception": false,
          "start_time": "2022-04-28T06:45:57.702728",
          "status": "completed"
        },
        "tags": [],
        "id": "ed8a2d8d",
        "outputId": "15865c91-8c7d-49b6-a113-ef6b3a8305a8"
      },
      "outputs": [
        {
          "name": "stdout",
          "output_type": "stream",
          "text": [
            "/opt/conda/lib/python3.7/site-packages/nltk/__init__.py\n"
          ]
        }
      ],
      "source": [
        "import nltk\n",
        "from nltk.corpus import gutenberg\n",
        "from nltk.tokenize import sent_tokenize\n",
        "\n",
        "print(nltk.__file__)"
      ]
    },
    {
      "cell_type": "code",
      "execution_count": null,
      "id": "db389313",
      "metadata": {
        "execution": {
          "iopub.execute_input": "2022-04-28T06:45:58.037440Z",
          "iopub.status.busy": "2022-04-28T06:45:58.036562Z",
          "iopub.status.idle": "2022-04-28T06:45:59.635504Z",
          "shell.execute_reply": "2022-04-28T06:45:59.634741Z",
          "shell.execute_reply.started": "2022-04-28T06:01:12.832784Z"
        },
        "papermill": {
          "duration": 1.708931,
          "end_time": "2022-04-28T06:45:59.635652",
          "exception": false,
          "start_time": "2022-04-28T06:45:57.926721",
          "status": "completed"
        },
        "tags": [],
        "id": "db389313",
        "outputId": "7de307bd-a7f9-4f41-b789-07edf2b1a8e9"
      },
      "outputs": [
        {
          "name": "stdout",
          "output_type": "stream",
          "text": [
            "['1:5 And God called the light Day, and the darkness he called Night.', 'And the evening and the morning were the first day.', '1:6 And God said, Let there be a firmament in the midst of the waters,\\nand let it divide the waters from the waters.', '1:7 And God made the firmament, and divided the waters which were\\nunder the firmament from the waters which were above the firmament:\\nand it was so.', '1:8 And God called the firmament Heaven.', 'And the evening and the\\nmorning were the second day.', '1:9 And God said, Let the waters under the heaven be gathered together\\nunto one place, and let the dry land appear: and it was so.', '1:10 And God called the dry land Earth; and the gathering together of\\nthe waters called he Seas: and God saw that it was good.', '1:11 And God said, Let the earth bring forth grass, the herb yielding\\nseed, and the fruit tree yielding fruit after his kind, whose seed is\\nin itself, upon the earth: and it was so.', '1:12 And the earth brought forth grass, and herb yielding seed after\\nhis kind, and the tree yielding fruit, whose seed was in itself, after\\nhis kind: and God saw that it was good.']\n"
          ]
        }
      ],
      "source": [
        "sample = gutenberg.raw(\"bible-kjv.txt\")\n",
        "tok = sent_tokenize(sample)\n",
        "print(tok[5:15])"
      ]
    },
    {
      "cell_type": "markdown",
      "id": "ae37f348",
      "metadata": {
        "papermill": {
          "duration": 0.102765,
          "end_time": "2022-04-28T06:45:59.842258",
          "exception": false,
          "start_time": "2022-04-28T06:45:59.739493",
          "status": "completed"
        },
        "tags": [],
        "id": "ae37f348"
      },
      "source": [
        "# **12. WordNet**\n",
        "[Go back](#scrollTo=qQGn3HnPplKd)\n",
        "\n",
        "WordNet is a lexical database for the English language, which was created by Princeton, and is part of the NLTK corpus.\n",
        "\n",
        "You can use WordNet alongside the NLTK module to find the meanings of words, synonyms, antonyms, and more"
      ]
    },
    {
      "cell_type": "code",
      "execution_count": null,
      "id": "67ab7f67",
      "metadata": {
        "execution": {
          "iopub.execute_input": "2022-04-28T06:46:00.075397Z",
          "iopub.status.busy": "2022-04-28T06:46:00.074552Z",
          "iopub.status.idle": "2022-04-28T06:46:00.076878Z",
          "shell.execute_reply": "2022-04-28T06:46:00.076363Z",
          "shell.execute_reply.started": "2022-04-28T06:01:14.368248Z"
        },
        "papermill": {
          "duration": 0.119342,
          "end_time": "2022-04-28T06:46:00.076987",
          "exception": false,
          "start_time": "2022-04-28T06:45:59.957645",
          "status": "completed"
        },
        "tags": [],
        "id": "67ab7f67"
      },
      "outputs": [],
      "source": [
        "from nltk.corpus import wordnet"
      ]
    },
    {
      "cell_type": "code",
      "execution_count": null,
      "id": "0e399828",
      "metadata": {
        "execution": {
          "iopub.execute_input": "2022-04-28T06:46:00.295621Z",
          "iopub.status.busy": "2022-04-28T06:46:00.295071Z",
          "iopub.status.idle": "2022-04-28T06:46:00.312602Z",
          "shell.execute_reply": "2022-04-28T06:46:00.313313Z",
          "shell.execute_reply.started": "2022-04-28T06:01:14.374241Z"
        },
        "papermill": {
          "duration": 0.129832,
          "end_time": "2022-04-28T06:46:00.313489",
          "exception": false,
          "start_time": "2022-04-28T06:46:00.183657",
          "status": "completed"
        },
        "tags": [],
        "id": "0e399828",
        "outputId": "f1780a93-919f-4c92-ded8-6e5b214cc38c"
      },
      "outputs": [
        {
          "name": "stdout",
          "output_type": "stream",
          "text": [
            "All kind of syns: [Synset('plan.n.01'), Synset('program.n.02'), Synset('broadcast.n.02'), Synset('platform.n.02'), Synset('program.n.05'), Synset('course_of_study.n.01'), Synset('program.n.07'), Synset('program.n.08'), Synset('program.v.01'), Synset('program.v.02')]\n"
          ]
        }
      ],
      "source": [
        "syns = wordnet.synsets(\"program\")\n",
        "print('All kind of syns:',syns)"
      ]
    },
    {
      "cell_type": "code",
      "execution_count": null,
      "id": "f7284d2c",
      "metadata": {
        "execution": {
          "iopub.execute_input": "2022-04-28T06:46:00.522326Z",
          "iopub.status.busy": "2022-04-28T06:46:00.521517Z",
          "iopub.status.idle": "2022-04-28T06:46:00.530101Z",
          "shell.execute_reply": "2022-04-28T06:46:00.529704Z",
          "shell.execute_reply.started": "2022-04-28T06:01:14.388294Z"
        },
        "papermill": {
          "duration": 0.111857,
          "end_time": "2022-04-28T06:46:00.530240",
          "exception": false,
          "start_time": "2022-04-28T06:46:00.418383",
          "status": "completed"
        },
        "tags": [],
        "id": "f7284d2c",
        "outputId": "ab4982a4-26ef-4450-a000-50a7c4655925"
      },
      "outputs": [
        {
          "name": "stdout",
          "output_type": "stream",
          "text": [
            "Only first index of synset: Synset('plan.n.01')\n",
            "------------------------------------\n",
            "Apply lemmas in first index of synset: [Lemma('plan.n.01.plan'), Lemma('plan.n.01.program'), Lemma('plan.n.01.programme')]\n",
            "------------------------------------\n",
            "Name of synset: plan\n",
            "------------------------------------\n",
            "Definition of synsets: a series of steps to be carried out or goals to be accomplished\n",
            "------------------------------------\n",
            "Example of synsets: ['they drew up a six-step plan', 'they discussed plans for a new bond issue']\n",
            "------------------------------------\n"
          ]
        }
      ],
      "source": [
        "#synset\n",
        "print('Only first index of synset:',syns[0])\n",
        "print('------------------------------------')\n",
        "\n",
        "# lemmas\n",
        "print('Apply lemmas in first index of synset:',syns[0].lemmas())\n",
        "print('------------------------------------')\n",
        "# just the one word\n",
        "print('Name of synset:',syns[0].lemmas()[0].name())\n",
        "print('------------------------------------')\n",
        "# definition of particular word (eg.. plan)\n",
        "print('Definition of synsets:',syns[0].definition())\n",
        "print('------------------------------------')\n",
        "#examples\n",
        "print('Example of synsets:',syns[0].examples())\n",
        "print('------------------------------------')"
      ]
    },
    {
      "cell_type": "code",
      "execution_count": null,
      "id": "db0b75f4",
      "metadata": {
        "execution": {
          "iopub.execute_input": "2022-04-28T06:46:00.740923Z",
          "iopub.status.busy": "2022-04-28T06:46:00.740284Z",
          "iopub.status.idle": "2022-04-28T06:46:00.753257Z",
          "shell.execute_reply": "2022-04-28T06:46:00.753865Z",
          "shell.execute_reply.started": "2022-04-28T06:01:14.453854Z"
        },
        "papermill": {
          "duration": 0.122163,
          "end_time": "2022-04-28T06:46:00.754041",
          "exception": false,
          "start_time": "2022-04-28T06:46:00.631878",
          "status": "completed"
        },
        "tags": [],
        "id": "db0b75f4",
        "outputId": "7093da1e-2021-4074-e133-18831565b0c9"
      },
      "outputs": [
        {
          "name": "stdout",
          "output_type": "stream",
          "text": [
            "Synonyms: {'unknown_quantity', 'unknown_region', 'alien', 'strange', 'unknown', 'stranger', 'terra_incognita', 'obscure', 'unnamed', 'unsung', 'unidentified', 'nameless'}\n",
            "----------------------------------------------------\n",
            "antonyms: {'known', 'acquaintance'}\n",
            "----------------------------------------------------\n"
          ]
        }
      ],
      "source": [
        "# Synonyms and Antonyms\n",
        "\n",
        "synonyms = []\n",
        "antonyms = []\n",
        "\n",
        "for syn in wordnet.synsets(\"unknown\"):\n",
        "    for l in syn.lemmas(): #lemmas means synonyms of word\n",
        "#         print(\"l:\",l) # meaning of words in nltk library is lot\n",
        "#         print('---------------------------------------------')\n",
        "        synonyms.append(l.name())\n",
        "\n",
        "        if l.antonyms(): #opposite of meaning\n",
        "            antonyms.append(l.antonyms()[0].name())\n",
        "\n",
        "print('Synonyms:',set(synonyms))\n",
        "print('----------------------------------------------------')\n",
        "print('antonyms:',set(antonyms))\n",
        "print('----------------------------------------------------')"
      ]
    },
    {
      "cell_type": "markdown",
      "id": "2806f916",
      "metadata": {
        "papermill": {
          "duration": 0.154673,
          "end_time": "2022-04-28T06:46:01.012371",
          "exception": false,
          "start_time": "2022-04-28T06:46:00.857698",
          "status": "completed"
        },
        "tags": [],
        "id": "2806f916"
      },
      "source": [
        "# **13. Similarity Identification**\n",
        "[Go back](#scrollTo=qQGn3HnPplKd)"
      ]
    },
    {
      "cell_type": "code",
      "execution_count": null,
      "id": "bdf20f7d",
      "metadata": {
        "execution": {
          "iopub.execute_input": "2022-04-28T06:46:01.369477Z",
          "iopub.status.busy": "2022-04-28T06:46:01.368656Z",
          "iopub.status.idle": "2022-04-28T06:46:01.543291Z",
          "shell.execute_reply": "2022-04-28T06:46:01.543836Z",
          "shell.execute_reply.started": "2022-04-28T06:01:14.834499Z"
        },
        "papermill": {
          "duration": 0.357569,
          "end_time": "2022-04-28T06:46:01.544028",
          "exception": false,
          "start_time": "2022-04-28T06:46:01.186459",
          "status": "completed"
        },
        "tags": [],
        "id": "bdf20f7d",
        "outputId": "19c3b22f-4f78-488f-dd54-381b884c7201"
      },
      "outputs": [
        {
          "name": "stdout",
          "output_type": "stream",
          "text": [
            "Similarity_Score of first_second words:  0.75\n",
            "Similarity_Score of Third_fourth words:  0.125\n",
            "Similarity_Score of fifth_sixth words:  0.4444444444444444\n",
            "Similarity_Score of seventh_eigth words:  0.9090909090909091\n"
          ]
        }
      ],
      "source": [
        "#Similarity identification\n",
        "\n",
        "#\"Wu and Palmer method: WordNet::Similarity::wup - Perl module for computing semantic relatedness of word senses using the edge counting method of the of Wu & Palmer (1994)\"\n",
        "#Resnik (1999) revises the Wu & Palmer (1994) method of measuring semantic relatedness. Resnik uses use an edge distance method by taking into account the most specific node subsuming the two concepts. Here we have implemented the original Wu & Palmer method, which uses node-counting.\n",
        "# If you want more details refer this one: \"https://metacpan.org/release/TPEDERSE/WordNet-Similarity-1.03/view/lib/WordNet/Similarity/wup.pm'\n",
        "\n",
        "\n",
        "word1 = wordnet.synset(\"computer.n.01\") # n means Noun\n",
        "word2 = wordnet.synset(\"system.n.01\")\n",
        "\n",
        "word3 = wordnet.synset(\"cycle.n.01\") # n means Noun\n",
        "word4 = wordnet.synset(\"bike.n.01\")\n",
        "\n",
        "word5 = wordnet.synset(\"ship.n.01\") # n means Noun\n",
        "word6 = wordnet.synset(\"person.n.01\")\n",
        "\n",
        "word7 = wordnet.synset(\"ship.n.01\") # n means Noun\n",
        "word8 = wordnet.synset(\"boat.n.01\")\n",
        "\n",
        "\n",
        "\n",
        "print('Similarity_Score of first_second words: ',word1.wup_similarity(word2))\n",
        "print('Similarity_Score of Third_fourth words: ',word3.wup_similarity(word4))\n",
        "print('Similarity_Score of fifth_sixth words: ',word5.wup_similarity(word6))\n",
        "print('Similarity_Score of seventh_eigth words: ',word7.wup_similarity(word8))"
      ]
    },
    {
      "cell_type": "markdown",
      "id": "eba882d1",
      "metadata": {
        "papermill": {
          "duration": 0.103297,
          "end_time": "2022-04-28T06:46:01.753985",
          "exception": false,
          "start_time": "2022-04-28T06:46:01.650688",
          "status": "completed"
        },
        "tags": [],
        "id": "eba882d1"
      },
      "source": [
        "# **14. Apply above knowledge in simple nltk corpus data(Movie Review)**\n",
        "\n",
        "[Go back](#scrollTo=qQGn3HnPplKd)"
      ]
    },
    {
      "cell_type": "markdown",
      "source": [
        "## **14.1 Text_Classification**\n",
        "\n",
        "- Text classification can be pretty broad. Maybe we're trying to classify text as about politics or the military,Culture, stock etc...\n",
        "- Maybe we're trying to classify it by the gender of the author who wrote it. In our case, we're going to try to create a sentiment analysis algorithm.\n",
        "\n",
        "1. Taken the Movie review data\n",
        "2. Identify the common negative words (convert word to features)\n",
        "3. Apply naive bayes algo (How to works?)"
      ],
      "metadata": {
        "id": "edERyk3VgMU0"
      },
      "id": "edERyk3VgMU0"
    },
    {
      "cell_type": "code",
      "execution_count": null,
      "id": "035169f8",
      "metadata": {
        "execution": {
          "iopub.execute_input": "2022-04-28T06:46:01.967416Z",
          "iopub.status.busy": "2022-04-28T06:46:01.966799Z",
          "iopub.status.idle": "2022-04-28T06:46:01.970753Z",
          "shell.execute_reply": "2022-04-28T06:46:01.970166Z",
          "shell.execute_reply.started": "2022-04-28T06:01:15.141485Z"
        },
        "papermill": {
          "duration": 0.114627,
          "end_time": "2022-04-28T06:46:01.970888",
          "exception": false,
          "start_time": "2022-04-28T06:46:01.856261",
          "status": "completed"
        },
        "tags": [],
        "id": "035169f8"
      },
      "outputs": [],
      "source": [
        "# Now I am trying to movie review(sentimental analysis)\n",
        "import nltk\n",
        "import random\n",
        "from nltk.corpus import movie_reviews"
      ]
    },
    {
      "cell_type": "code",
      "execution_count": null,
      "id": "4c55ec99",
      "metadata": {
        "_kg_hide-output": true,
        "execution": {
          "iopub.execute_input": "2022-04-28T06:46:02.192290Z",
          "iopub.status.busy": "2022-04-28T06:46:02.191712Z",
          "iopub.status.idle": "2022-04-28T06:46:06.054226Z",
          "shell.execute_reply": "2022-04-28T06:46:06.053747Z",
          "shell.execute_reply.started": "2022-04-28T06:01:15.467532Z"
        },
        "papermill": {
          "duration": 3.972601,
          "end_time": "2022-04-28T06:46:06.054360",
          "exception": false,
          "start_time": "2022-04-28T06:46:02.081759",
          "status": "completed"
        },
        "tags": [],
        "id": "4c55ec99",
        "outputId": "b1ac8be9-c4b2-41f6-9ab7-1a169764b580"
      },
      "outputs": [
        {
          "name": "stdout",
          "output_type": "stream",
          "text": [
            "(['fantastically', 'over', 'hyped', ',', 'godzila', 'finally', 'lumbers', 'onto', 'the', 'big', 'screen', '.', 'the', 'film', 'opens', 'with', 'footage', 'of', 'nuclear', 'testing', 'on', 'the', 'french', 'polynesian', 'islands', ',', 'then', 'an', 'attack', 'on', 'a', 'boat', 'from', 'some', 'beast', ',', 'and', 'finally', 'we', 'join', 'dr', '.', 'nick', 'tatopoulos', '(', 'broderick', 'looking', 'about', '17', 'years', 'old', ')', 'doing', 'some', 'research', 'in', 'chernobyl', '.', 'some', 'shady', 'u', '.', 's', 'government', 'guys', 'appear', ',', 'and', 'ask', 'him', 'to', 'come', 'to', 'an', 'island', 'where', 'they', 'have', 'massive', 'footprints', ',', 'from', 'what', 'looks', 'like', 'a', 'giant', 'lizard', '.', 'and', 'what', \"'\", 's', 'more', ',', 'this', 'beast', 'is', 'heading', 'for', 'new', 'york', '.', 'gulp', '!', 'although', 'godzilla', 'should', 'be', 'a', 'non', 'stop', 'roller', 'coaster', 'ride', ',', 'and', 'at', 'some', 'points', 'it', 'is', ',', 'there', 'is', 'something', 'curiously', 'uninvolving', 'and', 'unexciting', 'about', 'this', 'movie', '.', 'the', 'main', 'faults', 'lie', 'with', 'the', 'acting', 'and', 'writing', ',', 'common', 'problems', 'with', \"'\", 'summer', 'blockbuster', \"'\", 'movies', '.', 'broderick', 'is', 'pretty', 'useless', 'as', 'the', 'hero', ',', 'with', 'no', 'humour', 'or', 'a', \"'\", 'tough', 'guy', \"'\", 'image', '.', 'while', 'emmerich', \"'\", 's', 'previous', 'summer', 'flick', ',', 'independence', 'day', '(', '1996', ')', 'had', 'wisecracks', 'and', 'action', 'from', 'jeff', 'goldblum', 'and', 'will', 'smith', ',', 'this', 'has', 'neither', '.', 'also', ',', 'maria', 'pitillo', ',', 'as', 'broderick', \"'\", 's', 'former', 'girlfriend', ',', 'is', 'just', 'as', 'useless', ',', 'with', 'a', 'chronic', 'disability', 'in', 'acting', '.', 'she', \"'\", 's', 'incapable', 'of', 'showing', 'emotion', ',', 'speaks', 'every', 'line', 'in', 'the', 'same', 'way', ',', 'and', 'basically', 'she', \"'\", 's', 'total', 'crap', '.', 'it', \"'\", 's', 'up', 'to', 'french', 'actor', 'jean', 'reno', 'to', 'save', 'the', 'day', ',', 'and', 'indeed', 'he', 'does', ',', 'turning', 'in', 'a', 'campy', 'performance', 'as', 'a', 'french', 'secret', 'agent', '.', 'shame', 'he', 'has', 'such', 'little', 'screen', 'time', 'in', 'such', 'a', 'overlong', 'film', '.', 'hank', 'azaria', 'also', 'turns', 'up', 'as', 'a', 'crazy', 'cameraman', 'named', \"'\", 'animal', \"'\", ',', 'and', 'he', 'adds', 'a', 'little', 'life', 'to', 'the', 'picture', '.', 'also', 'making', 'an', 'appearance', 'is', 'harry', 'shearer', '(', 'probably', 'best', 'know', 'for', 'doing', 'voices', 'in', 'the', 'simpsons', ')', 'as', 'a', 'slimy', 'news', 'reporter', '.', 'o', '.', 'k', ',', 'so', 'the', 'acting', 'is', 'not', 'up', 'to', 'par', ',', 'but', 'it', 'never', 'is', 'in', 'these', 'movies', '.', 'but', 'what', 'about', 'the', 'script', '?', 'well', ',', 'that', \"'\", 's', 'not', 'up', 'to', 'par', 'either', '.', 'emmerich', 'and', 'screenwriting', 'pal', 'dean', 'devlin', 'seem', 'so', 'caught', 'in', 'the', 'destruction', 'of', 'new', 'york', 'city', 'that', 'they', 'forgot', 'to', 'write', 'a', 'script', '.', 'the', 'dialogue', 'is', 'banal', '(', 'broderick', 'looks', 'at', 'a', 'lot', 'of', 'fish', 'and', 'utters', \"'\", 'that', \"'\", 's', 'a', 'lot', 'of', 'fish', '.', \"'\", ')', ',', 'and', 'the', 'character', 'development', 'is', 'non', 'existent', '(', 'reno', 'plays', 'the', 'typical', 'frenchman', '(', \"'\", 'no', 'croissant', '?', \"'\", ')', ',', 'broderick', 'forever', 'remains', 'a', 'geeky', 'scientist', '.', ')', 'also', ',', 'the', 'film', 'is', 'seriously', 'lacking', 'a', 'sense', 'of', 'humour', '.', 'the', 'jokes', 'that', 'are', 'uttered', 'are', 'pathetic', ',', 'and', 'there', \"'\", 's', 'an', \"'\", 'hilarious', \"'\", 'running', 'gag', 'about', 'siskel', 'and', 'ebert', '.', '(', 'the', 'mayor', 'is', 'mayor', 'ebert', ',', 'and', 'is', 'assistant', 'is', 'called', 'gene', '!', 'ha', 'ha', 'ha', 'ha', '!', '.', ')', 'the', 'plot', 'is', 'dire', ',', 'and', 'in', 'the', 'end', 'just', 'rips', 'off', 'jurassic', 'park', '(', '1993', ')', 'by', 'having', 'lots', 'of', 'baby', 'godzilla', \"'\", 's', '(', 'i', '.', 'e', '.', 'velicorapters', ')', 'running', 'around', 'new', 'york', '.', 'right', ',', 'so', 'the', 'script', 'and', 'acting', 'suck', '.', 'but', 'what', 'about', 'the', 'special', 'effects', '?', 'thankfully', ',', 'they', \"'\", 're', 'are', 'quite', 'good', '.', 'godzilla', 'is', 'an', 'impressive', 'piece', 'of', 'cgi', ',', 'although', 'we', 'don', \"'\", 't', 'see', 'much', 'of', 'him', 'because', 'the', 'movie', 'is', 'so', 'dark', '.', 'the', 'destruction', 'of', 'new', 'york', 'is', 'pretty', 'well', 'done', 'aswell', '.', 'but', 'although', 'they', 'are', 'impressive', ',', 'they', 'can', \"'\", 't', 'save', 'godzilla', 'from', 'being', 'an', 'hugely', 'disappointing', 'and', 'boring', 'movie', '.', 'the', 'movie', 'goes', 'on', 'for', 'far', 'too', 'long', 'aswell', ',', 'and', 'it', 'can', \"'\", 't', 'seem', 'to', 'decide', 'on', 'a', 'ending', '.', 'and', 'of', 'course', ',', 'the', 'ending', 'itself', 'leaves', 'possibility', 'for', 'a', 'sequel', '.', 'let', \"'\", 's', 'just', 'hope', 'one', 'never', 'arrives', '.'], 'neg')\n"
          ]
        }
      ],
      "source": [
        "# documents_review = []\n",
        "\n",
        "# for category in movie_reviews.categories():\n",
        "#     for fileid in movie_reviews.categories():\n",
        "#         documents_review.append(list(movie_reviews.words(fileid)),category)\n",
        "\n",
        "\n",
        "documents = [(list(movie_reviews.words(fileid)),category)\n",
        "            for category in movie_reviews.categories()\n",
        "            for fileid in movie_reviews.fileids(category)]\n",
        "\n",
        "random.shuffle(documents)\n",
        "print(documents[1])"
      ]
    },
    {
      "cell_type": "code",
      "execution_count": null,
      "id": "cb937093",
      "metadata": {
        "_kg_hide-input": true,
        "execution": {
          "iopub.execute_input": "2022-04-28T06:46:06.271925Z",
          "iopub.status.busy": "2022-04-28T06:46:06.271153Z",
          "iopub.status.idle": "2022-04-28T06:46:09.649161Z",
          "shell.execute_reply": "2022-04-28T06:46:09.649918Z",
          "shell.execute_reply.started": "2022-04-28T06:01:18.918216Z"
        },
        "papermill": {
          "duration": 3.488463,
          "end_time": "2022-04-28T06:46:09.650161",
          "exception": false,
          "start_time": "2022-04-28T06:46:06.161698",
          "status": "completed"
        },
        "tags": [],
        "id": "cb937093",
        "outputId": "fee3e3ba-69af-49ec-f35a-c19c6fe33831"
      },
      "outputs": [
        {
          "name": "stdout",
          "output_type": "stream",
          "text": [
            "[(',', 77717), ('the', 76529), ('.', 65876), ('a', 38106), ('and', 35576), ('of', 34123), ('to', 31937), (\"'\", 30585), ('is', 25195), ('in', 21822), ('s', 18513), ('\"', 17612), ('it', 16107), ('that', 15924), ('-', 15595)]\n"
          ]
        }
      ],
      "source": [
        "all_words = []\n",
        "for w in movie_reviews.words():\n",
        "    all_words.append(w.lower())\n",
        "\n",
        "# Print Most common words in the movie reviews (15) - How many time used\n",
        "all_words = nltk.FreqDist(all_words)\n",
        "print(all_words.most_common(15))"
      ]
    },
    {
      "cell_type": "code",
      "execution_count": null,
      "id": "72f30d3b",
      "metadata": {
        "execution": {
          "iopub.execute_input": "2022-04-28T06:46:09.987605Z",
          "iopub.status.busy": "2022-04-28T06:46:09.986140Z",
          "iopub.status.idle": "2022-04-28T06:46:09.990042Z",
          "shell.execute_reply": "2022-04-28T06:46:09.986842Z",
          "shell.execute_reply.started": "2022-04-28T06:01:22.208356Z"
        },
        "papermill": {
          "duration": 0.179716,
          "end_time": "2022-04-28T06:46:09.990233",
          "exception": false,
          "start_time": "2022-04-28T06:46:09.810517",
          "status": "completed"
        },
        "tags": [],
        "id": "72f30d3b",
        "outputId": "0e55b9af-079d-431e-b12d-a4055be89068"
      },
      "outputs": [
        {
          "name": "stdout",
          "output_type": "stream",
          "text": [
            "How many time word \"happy\" comes in movie reviews:  215\n"
          ]
        }
      ],
      "source": [
        "print('How many time word \"happy\" comes in movie reviews: ',all_words[\"happy\"])"
      ]
    },
    {
      "cell_type": "markdown",
      "id": "b92cbefd",
      "metadata": {
        "papermill": {
          "duration": 0.173335,
          "end_time": "2022-04-28T06:46:10.353162",
          "exception": false,
          "start_time": "2022-04-28T06:46:10.179827",
          "status": "completed"
        },
        "tags": [],
        "id": "b92cbefd"
      },
      "source": [
        "## **14.2 Converting Words to features**"
      ]
    },
    {
      "cell_type": "code",
      "execution_count": null,
      "id": "75ae004b",
      "metadata": {
        "_kg_hide-input": true,
        "execution": {
          "iopub.execute_input": "2022-04-28T06:46:10.707920Z",
          "iopub.status.busy": "2022-04-28T06:46:10.707077Z",
          "iopub.status.idle": "2022-04-28T06:46:17.460230Z",
          "shell.execute_reply": "2022-04-28T06:46:17.459735Z",
          "shell.execute_reply.started": "2022-04-28T06:01:22.217173Z"
        },
        "papermill": {
          "duration": 6.932422,
          "end_time": "2022-04-28T06:46:17.460372",
          "exception": false,
          "start_time": "2022-04-28T06:46:10.527950",
          "status": "completed"
        },
        "tags": [],
        "id": "75ae004b"
      },
      "outputs": [],
      "source": [
        "# Already we know this below code only change is visualize the 3000 common words\n",
        "documents = [(list(movie_reviews.words(fileid)), category)\n",
        "             for category in movie_reviews.categories()\n",
        "             for fileid in movie_reviews.fileids(category)]\n",
        "\n",
        "random.shuffle(documents)\n",
        "\n",
        "all_words = []\n",
        "\n",
        "for w in movie_reviews.words():\n",
        "    all_words.append(w.lower())\n",
        "\n",
        "all_words = nltk.FreqDist(all_words)\n",
        "\n",
        "word_features = list(all_words.keys())[:3000]"
      ]
    },
    {
      "cell_type": "code",
      "execution_count": null,
      "id": "f384f46d",
      "metadata": {
        "_kg_hide-output": true,
        "execution": {
          "iopub.execute_input": "2022-04-28T06:46:17.711357Z",
          "iopub.status.busy": "2022-04-28T06:46:17.674930Z",
          "iopub.status.idle": "2022-04-28T06:46:18.893753Z",
          "shell.execute_reply": "2022-04-28T06:46:18.892751Z",
          "shell.execute_reply.started": "2022-04-28T06:01:28.807023Z"
        },
        "papermill": {
          "duration": 1.328905,
          "end_time": "2022-04-28T06:46:18.893905",
          "exception": false,
          "start_time": "2022-04-28T06:46:17.565000",
          "status": "completed"
        },
        "tags": [],
        "id": "f384f46d",
        "outputId": "a98ae836-b5bf-41f8-a1df-d2acdae650d9"
      },
      "outputs": [
        {
          "name": "stdout",
          "output_type": "stream",
          "text": [
            "{'plot': True, ':': True, 'two': True, 'teen': True, 'couples': True, 'go': True, 'to': True, 'a': True, 'church': True, 'party': True, ',': True, 'drink': True, 'and': True, 'then': True, 'drive': True, '.': True, 'they': True, 'get': True, 'into': True, 'an': True, 'accident': True, 'one': True, 'of': True, 'the': True, 'guys': True, 'dies': True, 'but': True, 'his': True, 'girlfriend': True, 'continues': True, 'see': True, 'him': True, 'in': True, 'her': True, 'life': True, 'has': True, 'nightmares': True, 'what': True, \"'\": True, 's': True, 'deal': True, '?': True, 'watch': True, 'movie': True, '\"': True, 'sorta': True, 'find': True, 'out': True, 'critique': True, 'mind': True, '-': True, 'fuck': True, 'for': True, 'generation': True, 'that': True, 'touches': True, 'on': True, 'very': True, 'cool': True, 'idea': True, 'presents': True, 'it': True, 'bad': True, 'package': True, 'which': True, 'is': True, 'makes': True, 'this': True, 'review': True, 'even': True, 'harder': True, 'write': True, 'since': True, 'i': True, 'generally': True, 'applaud': True, 'films': True, 'attempt': True, 'break': True, 'mold': True, 'mess': True, 'with': True, 'your': True, 'head': True, 'such': True, '(': True, 'lost': True, 'highway': True, '&': True, 'memento': True, ')': True, 'there': True, 'are': True, 'good': True, 'ways': True, 'making': True, 'all': True, 'types': True, 'these': True, 'folks': True, 'just': True, 'didn': True, 't': True, 'snag': True, 'correctly': True, 'seem': True, 'have': True, 'taken': True, 'pretty': True, 'neat': True, 'concept': True, 'executed': True, 'terribly': True, 'so': True, 'problems': True, 'well': True, 'its': True, 'main': True, 'problem': True, 'simply': True, 'too': True, 'jumbled': True, 'starts': True, 'off': True, 'normal': True, 'downshifts': True, 'fantasy': True, 'world': True, 'you': True, 'as': True, 'audience': True, 'member': True, 'no': True, 'going': True, 'dreams': True, 'characters': True, 'coming': True, 'back': True, 'from': True, 'dead': True, 'others': True, 'who': True, 'look': True, 'like': True, 'strange': True, 'apparitions': True, 'disappearances': True, 'looooot': True, 'chase': True, 'scenes': True, 'tons': True, 'weird': True, 'things': True, 'happen': True, 'most': True, 'not': True, 'explained': True, 'now': True, 'personally': True, 'don': True, 'trying': True, 'unravel': True, 'film': True, 'every': True, 'when': True, 'does': True, 'give': True, 'me': True, 'same': True, 'clue': True, 'over': True, 'again': True, 'kind': True, 'fed': True, 'up': True, 'after': True, 'while': True, 'biggest': True, 'obviously': True, 'got': True, 'big': True, 'secret': True, 'hide': True, 'seems': True, 'want': True, 'completely': True, 'until': True, 'final': True, 'five': True, 'minutes': True, 'do': True, 'make': True, 'entertaining': True, 'thrilling': True, 'or': True, 'engaging': True, 'meantime': True, 'really': True, 'sad': True, 'part': True, 'arrow': True, 'both': True, 'dig': True, 'flicks': True, 'we': True, 'actually': True, 'figured': True, 'by': True, 'half': True, 'way': True, 'point': True, 'strangeness': True, 'did': True, 'start': True, 'little': True, 'bit': True, 'sense': True, 'still': True, 'more': True, 'guess': True, 'bottom': True, 'line': True, 'movies': True, 'should': True, 'always': True, 'sure': True, 'before': True, 'given': True, 'password': True, 'enter': True, 'understanding': True, 'mean': True, 'showing': True, 'melissa': True, 'sagemiller': True, 'running': True, 'away': True, 'visions': True, 'about': True, '20': True, 'throughout': True, 'plain': True, 'lazy': True, '!': True, 'okay': True, 'people': True, 'chasing': True, 'know': True, 'need': True, 'how': True, 'giving': True, 'us': True, 'different': True, 'offering': True, 'further': True, 'insight': True, 'down': True, 'apparently': True, 'studio': True, 'took': True, 'director': True, 'chopped': True, 'themselves': True, 'shows': True, 'might': True, 've': True, 'been': True, 'decent': True, 'here': True, 'somewhere': True, 'suits': True, 'decided': True, 'turning': True, 'music': True, 'video': True, 'edge': True, 'would': True, 'actors': True, 'although': True, 'wes': True, 'bentley': True, 'seemed': True, 'be': True, 'playing': True, 'exact': True, 'character': True, 'he': True, 'american': True, 'beauty': True, 'only': True, 'new': True, 'neighborhood': True, 'my': True, 'kudos': True, 'holds': True, 'own': True, 'entire': True, 'feeling': True, 'unraveling': True, 'overall': True, 'doesn': True, 'stick': True, 'because': True, 'entertain': True, 'confusing': True, 'rarely': True, 'excites': True, 'feels': True, 'redundant': True, 'runtime': True, 'despite': True, 'ending': True, 'explanation': True, 'craziness': True, 'came': True, 'oh': True, 'horror': True, 'slasher': True, 'flick': True, 'packaged': True, 'someone': True, 'assuming': True, 'genre': True, 'hot': True, 'kids': True, 'also': True, 'wrapped': True, 'production': True, 'years': True, 'ago': True, 'sitting': True, 'shelves': True, 'ever': True, 'whatever': True, 'skip': True, 'where': True, 'joblo': True, 'nightmare': True, 'elm': True, 'street': True, '3': True, '7': True, '/': True, '10': True, 'blair': True, 'witch': True, '2': True, 'crow': True, '9': True, 'salvation': True, '4': True, 'stir': True, 'echoes': True, '8': True, 'happy': False, 'bastard': False, 'quick': False, 'damn': False, 'y2k': False, 'bug': False, 'starring': False, 'jamie': False, 'lee': False, 'curtis': False, 'another': False, 'baldwin': False, 'brother': False, 'william': False, 'time': False, 'story': False, 'regarding': False, 'crew': False, 'tugboat': False, 'comes': False, 'across': False, 'deserted': False, 'russian': False, 'tech': False, 'ship': False, 'kick': False, 'power': False, 'within': False, 'gore': False, 'bringing': False, 'few': False, 'action': False, 'sequences': False, 'virus': False, 'empty': False, 'flash': False, 'substance': False, 'why': False, 'was': False, 'middle': False, 'nowhere': False, 'origin': False, 'pink': False, 'flashy': False, 'thing': False, 'hit': False, 'mir': False, 'course': False, 'donald': False, 'sutherland': False, 'stumbling': False, 'around': False, 'drunkenly': False, 'hey': False, 'let': False, 'some': False, 'robots': False, 'acting': False, 'below': False, 'average': False, 'likes': False, 're': False, 'likely': False, 'work': False, 'halloween': False, 'h20': False, 'wasted': False, 'real': False, 'star': False, 'stan': False, 'winston': False, 'robot': False, 'design': False, 'schnazzy': False, 'cgi': False, 'occasional': False, 'shot': False, 'picking': False, 'brain': False, 'if': False, 'body': False, 'parts': False, 'turn': False, 'otherwise': False, 'much': False, 'sunken': False, 'jaded': False, 'viewer': False, 'thankful': False, 'invention': False, 'timex': False, 'indiglo': False, 'based': False, 'late': False, '1960': False, 'television': False, 'show': False, 'name': False, 'mod': False, 'squad': False, 'tells': False, 'tale': False, 'three': False, 'reformed': False, 'criminals': False, 'under': False, 'employ': False, 'police': False, 'undercover': False, 'however': False, 'wrong': False, 'evidence': False, 'gets': False, 'stolen': False, 'immediately': False, 'suspicion': False, 'ads': False, 'cuts': False, 'claire': False, 'dane': False, 'nice': False, 'hair': False, 'cute': False, 'outfits': False, 'car': False, 'chases': False, 'stuff': False, 'blowing': False, 'sounds': False, 'first': False, 'fifteen': False, 'quickly': False, 'becomes': False, 'apparent': False, 'certainly': False, 'slick': False, 'looking': False, 'complete': False, 'costumes': False, 'isn': False, 'enough': False, 'best': False, 'described': False, 'cross': False, 'between': False, 'hour': False, 'long': False, 'cop': False, 'stretched': False, 'span': False, 'single': False, 'clich': False, 'matter': False, 'elements': False, 'recycled': False, 'everything': False, 'already': False, 'seen': False, 'nothing': False, 'spectacular': False, 'sometimes': False, 'bordering': False, 'wooden': False, 'danes': False, 'omar': False, 'epps': False, 'deliver': False, 'their': False, 'lines': False, 'bored': False, 'transfers': False, 'onto': False, 'escape': False, 'relatively': False, 'unscathed': False, 'giovanni': False, 'ribisi': False, 'plays': False, 'resident': False, 'crazy': False, 'man': False, 'ultimately': False, 'being': False, 'worth': False, 'watching': False, 'unfortunately': False, 'save': False, 'convoluted': False, 'apart': False, 'occupying': False, 'screen': False, 'young': False, 'cast': False, 'clothes': False, 'hip': False, 'soundtrack': False, 'appears': False, 'geared': False, 'towards': False, 'teenage': False, 'mindset': False, 'r': False, 'rating': False, 'content': False, 'justify': False, 'juvenile': False, 'older': False, 'information': False, 'literally': False, 'spoon': False, 'hard': False, 'instead': False, 'telling': False, 'dialogue': False, 'poorly': False, 'written': False, 'extremely': False, 'predictable': False, 'progresses': False, 'won': False, 'care': False, 'heroes': False, 'any': False, 'jeopardy': False, 'll': False, 'aren': False, 'basing': False, 'nobody': False, 'remembers': False, 'questionable': False, 'wisdom': False, 'especially': False, 'considers': False, 'target': False, 'fact': False, 'number': False, 'memorable': False, 'can': False, 'counted': False, 'hand': False, 'missing': False, 'finger': False, 'times': False, 'checked': False, 'six': False, 'clear': False, 'indication': False, 'them': False, 'than': False, 'cash': False, 'spending': False, 'dollar': False, 'judging': False, 'rash': False, 'awful': False, 'seeing': False, 'avoid': False, 'at': False, 'costs': False, 'quest': False, 'camelot': False, 'warner': False, 'bros': False, 'feature': False, 'length': False, 'fully': False, 'animated': False, 'steal': False, 'clout': False, 'disney': False, 'cartoon': False, 'empire': False, 'mouse': False, 'reason': False, 'worried': False, 'other': False, 'recent': False, 'challenger': False, 'throne': False, 'last': False, 'fall': False, 'promising': False, 'flawed': False, '20th': False, 'century': False, 'fox': False, 'anastasia': False, 'hercules': False, 'lively': False, 'colorful': False, 'palate': False, 'had': False, 'beat': False, 'hands': False, 'crown': False, '1997': False, 'piece': False, 'animation': False, 'year': False, 'contest': False, 'arrival': False, 'magic': False, 'kingdom': False, 'mediocre': False, '--': False, 'd': False, 'pocahontas': False, 'those': False, 'keeping': False, 'score': False, 'nearly': False, 'dull': False, 'revolves': False, 'adventures': False, 'free': False, 'spirited': False, 'kayley': False, 'voiced': False, 'jessalyn': False, 'gilsig': False, 'early': False, 'daughter': False, 'belated': False, 'knight': False, 'king': False, 'arthur': False, 'round': False, 'table': False, 'dream': False, 'follow': False, 'father': False, 'footsteps': False, 'she': False, 'chance': False, 'evil': False, 'warlord': False, 'ruber': False, 'gary': False, 'oldman': False, 'ex': False, 'gone': False, 'steals': False, 'magical': False, 'sword': False, 'excalibur': False, 'accidentally': False, 'loses': False, 'dangerous': False, 'booby': False, 'trapped': False, 'forest': False, 'help': False, 'hunky': False, 'blind': False, 'timberland': False, 'dweller': False, 'garrett': False, 'carey': False, 'elwes': False, 'headed': False, 'dragon': False, 'eric': False, 'idle': False, 'rickles': False, 'arguing': False, 'itself': False, 'able': False, 'medieval': False, 'sexist': False, 'prove': False, 'fighter': False, 'side': False, 'pure': False, 'showmanship': False, 'essential': False, 'element': False, 'expected': False, 'climb': False, 'high': False, 'ranks': False, 'differentiates': False, 'something': False, 'saturday': False, 'morning': False, 'subpar': False, 'instantly': False, 'forgettable': False, 'songs': False, 'integrated': False, 'computerized': False, 'footage': False, 'compare': False, 'run': False, 'angry': False, 'ogre': False, 'herc': False, 'battle': False, 'hydra': False, 'rest': False, 'case': False, 'stink': False, 'none': False, 'remotely': False, 'interesting': False, 'race': False, 'bland': False, 'end': False, 'tie': False, 'win': False, 'comedy': False, 'shtick': False, 'awfully': False, 'cloying': False, 'least': False, 'signs': False, 'pulse': False, 'fans': False, \"-'\": False, '90s': False, 'tgif': False, 'will': False, 'thrilled': False, 'jaleel': False, 'urkel': False, 'white': False, 'bronson': False, 'balki': False, 'pinchot': False, 'sharing': False, 'nicely': False, 'realized': False, 'though': False, 'm': False, 'loss': False, 'recall': False, 'specific': False, 'providing': False, 'voice': False, 'talent': False, 'enthusiastic': False, 'paired': False, 'singers': False, 'sound': False, 'musical': False, 'moments': False, 'jane': False, 'seymour': False, 'celine': False, 'dion': False, 'must': False, 'strain': False, 'through': False, 'aside': False, 'children': False, 'probably': False, 'adults': False, 'grievous': False, 'error': False, 'lack': False, 'personality': False, 'learn': False, 'goes': False, 'synopsis': False, 'mentally': False, 'unstable': False, 'undergoing': False, 'psychotherapy': False, 'saves': False, 'boy': False, 'potentially': False, 'fatal': False, 'falls': False, 'love': False, 'mother': False, 'fledgling': False, 'restauranteur': False, 'unsuccessfully': False, 'attempting': False, 'gain': False, 'woman': False, 'favor': False, 'takes': False, 'pictures': False, 'kills': False, 'comments': False, 'stalked': False, 'yet': False, 'seemingly': False, 'endless': False, 'string': False, 'spurned': False, 'psychos': False, 'getting': False, 'revenge': False, 'type': False, 'stable': False, 'category': False, '1990s': False, 'industry': False, 'theatrical': False, 'direct': False, 'proliferation': False, 'may': False, 'due': False, 'typically': False, 'inexpensive': False, 'produce': False, 'special': False, 'effects': False, 'stars': False, 'serve': False, 'vehicles': False, 'nudity': False, 'allowing': False, 'frequent': False, 'night': False, 'cable': False, 'wavers': False, 'slightly': False, 'norm': False, 'respect': False, 'psycho': False, 'never': False, 'affair': False, ';': False, 'contrary': False, 'rejected': False, 'rather': False, 'lover': False, 'wife': False, 'husband': False, 'entry': False, 'doomed': False, 'collect': False, 'dust': False, 'viewed': False, 'midnight': False, 'provide': False, 'suspense': False, 'sets': False, 'interspersed': False, 'opening': False, 'credits': False, 'instance': False, 'serious': False, 'sounding': False, 'narrator': False, 'spouts': False, 'statistics': False, 'stalkers': False, 'ponders': False, 'cause': False, 'stalk': False, 'implicitly': False, 'implied': False, 'men': False, 'shown': False, 'snapshot': False, 'actor': False, 'jay': False, 'underwood': False, 'states': False, 'daryl': False, 'gleason': False, 'stalker': False, 'brooke': False, 'daniels': False, 'meant': False, 'called': False, 'guesswork': False, 'required': False, 'proceeds': False, 'begins': False, 'obvious': False, 'sequence': False, 'contrived': False, 'quite': False, 'brings': False, 'victim': False, 'together': False, 'obsesses': False, 'follows': False, 'tries': False, 'woo': False, 'plans': False, 'become': False, 'desperate': False, 'elaborate': False, 'include': False, 'cliche': False, 'murdered': False, 'pet': False, 'require': False, 'found': False, 'exception': False, 'cat': False, 'shower': False, 'events': False, 'lead': False, 'inevitable': False, 'showdown': False, 'survives': False, 'invariably': False, 'conclusion': False, 'turkey': False, 'uniformly': False, 'adequate': False, 'anything': False, 'home': False, 'either': False, 'turns': False, 'toward': False, 'melodrama': False, 'overdoes': False, 'words': False, 'manages': False, 'creepy': False, 'pass': False, 'demands': False, 'maryam': False, 'abo': False, 'close': False, 'played': False, 'bond': False, 'chick': False, 'living': False, 'daylights': False, 'equally': False, 'title': False, 'ditzy': False, 'strong': False, 'independent': False, 'business': False, 'owner': False, 'needs': False, 'proceed': False, 'example': False, 'suspicions': False, 'ensure': False, 'use': False, 'excuse': False, 'decides': False, 'return': False, 'toolbox': False, 'left': False, 'place': False, 'house': False, 'leave': False, 'door': False, 'answers': False, 'opens': False, 'wanders': False, 'returns': False, 'enters': False, 'our': False, 'heroine': False, 'danger': False, 'somehow': False, 'parked': False, 'front': False, 'right': False, 'oblivious': False, 'presence': False, 'inside': False, 'whole': False, 'episode': False, 'places': False, 'incredible': False, 'suspension': False, 'disbelief': False, 'questions': False, 'validity': False, 'intelligence': False, 'receives': False, 'highly': False, 'derivative': False, 'somewhat': False, 'boring': False, 'cannot': False, 'watched': False, 'rated': False, 'mostly': False, 'several': False, 'murder': False, 'brief': False, 'strip': False, 'bar': False, 'offensive': False, 'many': False, 'thrillers': False, 'mood': False, 'stake': False, 'else': False, 'capsule': False, '2176': False, 'planet': False, 'mars': False, 'taking': False, 'custody': False, 'accused': False, 'murderer': False, 'face': False, 'menace': False, 'lot': False, 'fighting': False, 'john': False, 'carpenter': False, 'reprises': False, 'ideas': False, 'previous': False, 'assault': False, 'precinct': False, '13': False, 'homage': False, 'himself': False, '0': False, '+': False, 'believes': False, 'fight': False, 'horrible': False, 'writer': False, 'supposedly': False, 'expert': False, 'mistake': False, 'ghosts': False, 'drawn': False, 'humans': False, 'surprisingly': False, 'low': False, 'powered': False, 'alien': False, 'addition': False, 'anybody': False, 'made': False, 'grounds': False, 'sue': False, 'chock': False, 'full': False, 'pieces': False, 'prince': False, 'darkness': False, 'surprising': False, 'managed': False, 'fit': False, 'admittedly': False, 'novel': False, 'science': False, 'fiction': False, 'experience': False, 'terraformed': False, 'walk': False, 'surface': False, 'without': False, 'breathing': False, 'gear': False, 'budget': False, 'mentioned': False, 'gravity': False, 'increased': False, 'earth': False, 'easier': False, 'society': False, 'changed': False, 'advanced': False, 'culture': False, 'women': False, 'positions': False, 'control': False, 'view': False, 'stagnated': False, 'female': False, 'beyond': False, 'minor': False, 'technological': False, 'advances': False, 'less': False, '175': False, 'expect': False, 'change': False, 'ten': False, 'basic': False, 'common': False, 'except': False, 'yes': False, 'replaced': False, 'tacky': False, 'rundown': False, 'martian': False, 'mining': False, 'colony': False, 'having': False, 'criminal': False, 'napolean': False, 'wilson': False, 'desolation': False, 'williams': False, 'facing': False, 'hoodlums': False, 'automatic': False, 'weapons': False, 'nature': False, 'behave': False, 'manner': False, 'essentially': False, 'human': False, 'savages': False, 'lapse': False, 'imagination': False, 'told': False, 'flashback': False, 'entirely': False, 'filmed': False, 'almost': False, 'tones': False, 'red': False, 'yellow': False, 'black': False, 'powerful': False, 'scene': False, 'train': False, 'rushing': False, 'heavy': False, 'sadly': False, 'buildup': False, 'terror': False, 'creates': False, 'looks': False, 'fugitive': False, 'wannabes': False, 'rock': False, 'band': False, 'kiss': False, 'building': False, 'bunch': False, 'sudden': False, 'jump': False, 'sucker': False, 'thinking': False, 'scary': False, 'happening': False, 'standard': False, 'haunted': False, 'shock': False, 'great': False, 'newer': False, 'unimpressive': False, 'digital': False, 'decapitations': False, 'fights': False, 'short': False, 'stretch': False, 'release': False, 'mission': False, 'panned': False, 'reviewers': False, 'better': False, 'rate': False, 'scale': False, 'following': False, 'showed': False, 'liked': False, 'moderately': False, 'classic': False, 'comment': False, 'twice': False, 'ask': False, 'yourself': False, '8mm': False, 'eight': False, 'millimeter': False, 'wholesome': False, 'surveillance': False, 'sight': False, 'values': False, 'becoming': False, 'enmeshed': False, 'seedy': False, 'sleazy': False, 'underworld': False, 'hardcore': False, 'pornography': False, 'bubbling': False, 'beneath': False, 'town': False, 'americana': False, 'sordid': False, 'sick': False, 'depraved': False, 'necessarily': False, 'stop': False, 'order': False, 'satisfy': False, 'twisted': False, 'desires': False, 'position': False, 'influence': False, 'kinds': False, 'demented': False, 'talking': False, 'snuff': False, 'supposed': False, 'documentaries': False, 'victims': False, 'brutalized': False, 'killed': False, 'camera': False, 'joel': False, 'schumacher': False, 'credit': False, 'batman': False, 'robin': False, 'kill': False, 'forever': False, 'client': False, 'thirds': False, 'unwind': False, 'fairly': False, 'conventional': False, 'persons': False, 'drama': False, 'albeit': False, 'particularly': False, 'unsavory': False, 'core': False, 'threatening': False, 'along': False, 'explodes': False, 'violence': False, 'think': False, 'finally': False, 'tags': False, 'ridiculous': False, 'self': False, 'righteous': False, 'finale': False, 'drags': False, 'unpleasant': False, 'trust': False, 'waste': False, 'hours': False, 'nicolas': False, 'snake': False, 'eyes': False, 'cage': False, 'private': False, 'investigator': False, 'tom': False, 'welles': False, 'hired': False, 'wealthy': False, 'philadelphia': False, 'widow': False, 'determine': False, 'whether': False, 'reel': False, 'safe': False, 'documents': False, 'girl': False, 'assignment': False, 'factly': False, 'puzzle': False, 'neatly': False, 'specialized': False, 'skills': False, 'training': False, 'easy': False, 'cops': False, 'toilet': False, 'tanks': False, 'clues': False, 'deeper': False, 'digs': False, 'investigation': False, 'obsessed': False, 'george': False, 'c': False, 'scott': False, 'paul': False, 'schrader': False, 'occasionally': False, 'flickering': False, 'whirs': False, 'sprockets': False, 'winding': False, 'projector': False, 'reminding': False, 'task': False, 'hints': False, 'toll': False, 'lovely': False, 'catherine': False, 'keener': False, 'frustrated': False, 'cleveland': False, 'ugly': False, 'split': False, 'level': False, 'harrisburg': False, 'pa': False, 'condemn': False, 'condone': False, 'subject': False, 'exploits': False, 'irony': False, 'seven': False, 'scribe': False, 'andrew': False, 'kevin': False, 'walker': False, 'vision': False, 'lane': False, 'limited': False, 'hollywood': False, 'product': False, 'snippets': False, 'covering': False, 'later': False, 'joaquin': False, 'phoenix': False, 'far': False, 'adult': False, 'bookstore': False, 'flunky': False, 'max': False, 'california': False, 'cover': False, 'horrid': False, 'screened': False, 'familiar': False, 'revelation': False, 'sexual': False, 'deviants': False, 'indeed': False, 'monsters': False, 'everyday': False, 'neither': False, 'super': False, 'nor': False, 'shocking': False, 'banality': False, 'exactly': False, 'felt': False, 'weren': False, 'nine': False, 'laughs': False, 'months': False, 'terrible': False, 'mr': False, 'hugh': False, 'grant': False, 'huge': False, 'dork': False, 'oral': False, 'sex': False, 'prostitution': False, 'referring': False, 'bugs': False, 'annoying': False, 'adam': False, 'sandler': False, 'jim': False, 'carrey': False, 'eye': False, 'flutters': False, 'nervous': False, 'smiles': False, 'slapstick': False, 'fistfight': False, 'delivery': False, 'room': False, 'culminating': False, 'joan': False, 'cusack': False, 'lap': False, 'paid': False, '$': False, '60': False, 'included': False, 'obscene': False, 'double': False, 'entendres': False, 'obstetrician': False, 'pregnant': False, 'pussy': False, 'size': False, 'hairs': False, 'coat': False, 'nonetheless': False, 'exchange': False, 'cookie': False, 'cutter': False, 'originality': False, 'humor': False, 'successful': False, 'child': False, 'psychiatrist': False, 'psychologist': False, 'scriptwriters': False, 'could': False, 'inject': False, 'unfunny': False, 'kid': False, 'dad': False, 'asshole': False, 'eyelashes': False, 'offers': False, 'smile': False, 'responds': False, 'english': False, 'accent': False, 'attitude': False, 'possibly': False, '_huge_': False, 'beside': False, 'includes': False, 'needlessly': False, 'stupid': False, 'jokes': False, 'olds': False, 'everyone': False, 'shakes': False, 'anyway': False, 'finds': False, 'usual': False, 'reaction': False, 'fluttered': False, 'paves': False, 'possible': False, 'pregnancy': False, 'birth': False, 'gag': False, 'book': False, 'friend': False, 'arnold': False, 'provides': False, 'cacophonous': False, 'funny': False, 'beats': False, 'costumed': False, 'arnie': False, 'dinosaur': False, 'draw': False, 'parallels': False, 'toy': False, 'store': False, 'jeff': False, 'goldblum': False, 'hid': False, 'dreadful': False, 'hideaway': False, 'artist': False, 'fear': False, 'simultaneous': False, 'longing': False, 'commitment': False, 'doctor': False, 'recently': False, 'switch': False, 'veterinary': False, 'medicine': False, 'obstetrics': False, 'joke': False, 'old': False, 'foreign': False, 'guy': False, 'mispronounces': False, 'stereotype': False, 'say': False, 'yakov': False, 'smirnov': False, 'favorite': False, 'vodka': False, 'hence': False, 'take': False, 'volvo': False, 'nasty': False, 'unamusing': False, 'heads': False, 'simultaneously': False, 'groan': False, 'failure': False, 'loud': False, 'failed': False, 'uninspired': False, 'lunacy': False, 'sunset': False, 'boulevard': False, 'arrest': False, 'please': False, 'caught': False, 'pants': False, 'bring': False, 'theaters': False, 'faces': False, '90': False, 'forced': False, 'unauthentic': False, 'anyone': False, 'q': False, '80': False, 'sorry': False, 'money': False, 'unfulfilled': False, 'desire': False, 'spend': False, 'bucks': False, 'call': False, 'road': False, 'trip': False, 'walking': False, 'wounded': False, 'stellan': False, 'skarsg': False, 'rd': False, 'convincingly': False, 'zombified': False, 'drunken': False, 'loser': False, 'difficult': False, 'smelly': False, 'boozed': False, 'reliable': False, 'swedish': False, 'adds': False, 'depth': False, 'significance': False, 'plodding': False, 'aberdeen': False, 'sentimental': False, 'painfully': False, 'mundane': False, 'european': False, 'playwright': False, 'august': False, 'strindberg': False, 'built': False, 'career': False, 'families': False, 'relationships': False, 'paralyzed': False, 'secrets': False, 'unable': False, 'express': False, 'longings': False, 'accurate': False, 'reflection': False, 'strives': False, 'focusing': False, 'pairing': False, 'alcoholic': False, 'tomas': False, 'alienated': False, 'openly': False, 'hostile': False, 'yuppie': False, 'kaisa': False, 'lena': False, 'headey': False, 'gossip': False, 'haven': False, 'spoken': False, 'wouldn': False, 'norway': False, 'scotland': False, 'automobile': False, 'charlotte': False, 'rampling': False, 'sand': False, 'rotting': False, 'hospital': False, 'bed': False, 'cancer': False, 'soap': False, 'opera': False, 'twist': False, 'days': False, 'live': False, 'blitzed': False, 'step': False, 'foot': False, 'plane': False, 'hits': False, 'open': False, 'loathing': False, 'each': False, 'periodic': False, 'stops': False, 'puke': False, 'dashboard': False, 'whenever': False, 'muttering': False, 'rotten': False, 'turned': False, 'sloshed': False, 'viewpoint': False, 'recognizes': False, 'apple': False, 'hasn': False, 'fallen': False, 'tree': False, 'nosebleeds': False, 'snorting': False, 'coke': False, 'sabotages': False, 'personal': False, 'indifference': False, 'restrain': False, 'vindictive': False, 'temper': False, 'ain': False, 'pair': False, 'true': False, 'notes': False, 'unspoken': False, 'familial': False, 'empathy': False, 'note': False, 'repetitively': False, 'bitchy': False, 'screenwriters': False, 'kristin': False, 'amundsen': False, 'hans': False, 'petter': False, 'moland': False, 'fabricate': False, 'series': False, 'contrivances': False, 'propel': False, 'forward': False, 'roving': False, 'hooligans': False, 'drunks': False, 'nosy': False, 'flat': False, 'tires': False, 'figure': False, 'schematic': False, 'convenient': False, 'narrative': False, 'reach': False, 'unveil': False, 'dark': False, 'past': False, 'simplistic': False, 'devices': False, 'trivialize': False, 'conflict': False, 'mainstays': False, 'wannabe': False, 'exists': False, 'purely': False, 'sake': False, 'weak': False, 'unimaginative': False, 'casting': False, 'thwarts': False, 'pivotal': False, 'role': False, 'were': False, 'stronger': False, 'actress': False, 'perhaps': False, 'coast': False, 'performances': False, 'moody': False, 'haunting': False, 'cinematography': False, 'rendering': False, 'pastoral': False, 'ghost': False, 'reference': False, 'certain': False, 'superior': False, 'indie': False, 'intentional': False, 'busy': False, 'using': False, 'furrowed': False, 'brow': False, 'convey': False, 'twitch': False, 'insouciance': False, 'paying': False, 'attention': False, 'maybe': False, 'doing': False, 'reveal': False, 'worthwhile': False, 'earlier': False, 'released': False, '2001': False, 'jonathan': False, 'nossiter': False, 'captivating': False, 'wonders': False, 'disturbed': False, 'parental': False, 'figures': False, 'bound': False, 'ceremonial': False, 'wedlock': False, 'differences': False, 'presented': False, 'significant': False, 'luminous': False, 'diva': False, 'preening': False, 'static': False, 'solid': False, 'performance': False, 'pathetic': False, 'drunk': False, 'emote': False, 'besides': False, 'catatonic': False, 'sorrow': False, 'genuine': False, 'ferocity': False, 'sexually': False, 'charged': False, 'frisson': False, 'during': False, 'understated': False, 'confrontations': False, 'suggest': False, 'gray': False, 'zone': False, 'complications': False, 'accompany': False, 'torn': False, 'romance': False, 'stifled': False, 'curiosity': False, 'thoroughly': False, 'explores': False, 'neurotic': False, 'territory': False, 'delving': False, 'americanization': False, 'greece': False, 'mysticism': False, 'illusion': False, 'deflect': False, 'pain': False, 'overloaded': False, 'willing': False, 'come': False, 'traditional': False, 'ambitious': False, 'sleepwalk': False, 'rhythms': False, 'timing': False, 'driven': False, 'stories': False, 'complexities': False, 'depressing': False, 'answer': False, 'lawrence': False, 'kasdan': False, 'trite': False, 'useful': False, 'grand': False, 'canyon': False, 'steve': False, 'martin': False, 'mogul': False, 'pronounces': False, 'riddles': False, 'answered': False, 'advice': False, 'heart': False, 'french': False, 'sees': False, 'parents': False, 'tim': False, 'roth': False, 'oops': False, 'vows': False, 'taught': False, 'musketeer': False, 'dude': False, 'used': False, 'fourteen': False, 'arrgh': False, 'swish': False, 'zzzzzzz': False, 'original': False, 'lacks': False, 'energy': False, 'next': False, 'hmmmm': False, 'justin': False, 'chambers': False, 'basically': False, 'uncharismatic': False, 'version': False, 'chris': False, 'o': False, 'donnell': False, 'range': False, 'mena': False, 'suvari': False, 'thora': False, 'birch': False, 'dungeons': False, 'dragons': False, 'miscast': False, 'deliveries': False, 'piss': False, 'poor': False, 'ms': False, 'fault': False, 'definitely': False, 'higher': False, 'semi': False, 'saving': False, 'grace': False, 'wise': False, 'irrepressible': False, 'once': False, 'thousand': False, 'god': False, 'beg': False, 'agent': False, 'marketplace': False, 'modern': False, 'day': False, 'roles': False, 'romantic': False, 'gunk': False, 'alright': False, 'yeah': False, 'yikes': False, 'notches': False, 'fellas': False, 'blares': False, 'ear': False, 'accentuate': False, 'annoy': False, 'important': False, 'behind': False, 'recognize': False, 'epic': False, 'fluffy': False, 'rehashed': False, 'cake': False, 'created': False, 'shrewd': False, 'advantage': False, 'kung': False, 'fu': False, 'phenomenon': False, 'test': False, 'dudes': False, 'keep': False, 'reading': False, 'editing': False, 'shoddy': False, 'banal': False, 'stilted': False, 'plentiful': False, 'top': False, 'horse': False, 'carriage': False, 'stand': False, 'opponent': False, 'scampering': False, 'cut': False, 'mouseketeer': False, 'rope': False, 'tower': False, 'jumping': False, 'chords': False, 'hanging': False, 'says': False, '14': False, 'shirt': False, 'strayed': False, 'championing': False, 'fun': False, 'stretches': False, 'atrocious': False, 'lake': False, 'reminded': False, 'school': False, 'cringe': False, 'musketeers': False, 'fat': False, 'raison': False, 'etre': False, 'numbers': False, 'hoping': False, 'packed': False, 'stuntwork': False, 'promoted': False, 'trailer': False, 'major': False, 'swashbuckling': False, 'beginning': False, 'finishes': False, 'juggling': False, 'ladders': False, 'ladder': False, 'definite': False, 'keeper': False, 'regurgitated': False, 'crap': False, 'tell': False, 'deneuve': False, 'placed': False, 'hullo': False, 'barely': False, 'ugh': False, 'small': False, 'annoyed': False, 'trash': False, 'gang': False, 'vow': False, 'stay': False, 'thank': False, 'outlaws': False, '5': False, 'crouching': False, 'tiger': False, 'hidden': False, 'matrix': False, 'replacement': False, 'killers': False, '6': False, 'romeo': False, 'die': False, 'shanghai': False, 'noon': False, 'remembered': False, 'dr': False, 'hannibal': False, 'lecter': False, 'michael': False, 'mann': False, 'forensics': False, 'thriller': False, 'manhunter': False, 'scottish': False, 'brian': False, 'cox': False, 'works': False, 'usually': False, 'schlock': False, 'halfway': False, 'goodnight': False, 'meaty': False, 'substantial': False, 'brilliant': False, 'check': False, 'dogged': False, 'inspector': False, 'opposite': False, 'frances': False, 'mcdormand': False, 'ken': False, 'loach': False, 'agenda': False, 'harrigan': False, 'disturbing': False, 'l': False, 'e': False, '47': False, 'picked': False, 'sundance': False, 'distributors': False, 'scared': False, 'budge': False, 'dares': False, 'speak': False, 'expresses': False, 'seeking': False, 'adolescents': False, 'pad': False, 'bothered': False, 'members': False, 'presentation': False, 'oddly': False, 'empathetic': False, 'light': False, 'tempered': False, 'robust': False, 'listens': False, 'opposed': False, 'friends': False, 'wire': False, 'act': False, 'confused': False, 'lives': False, 'pay': False, 'courtship': False, 'charming': False, 'temptations': False, 'grown': False, 'stands': False, 'island': False, 'expressway': False, 'slices': False, 'malls': False, 'class': False, 'homes': False, 'suburbia': False, 'filmmaker': False, 'cuesta': False, 'uses': False, 'transparent': False, 'metaphor': False, '15': False, 'protagonist': False, 'howie': False, 'franklin': False, 'dano': False, 'reveals': False, 'morbid': False, 'preoccupation': False, 'death': False, 'citing': False, 'deaths': False, 'alan': False, 'j': False, 'pakula': False, 'songwriter': False, 'harry': False, 'chapin': False, 'exit': False, '52': False, 'fascinated': False, 'feelings': False, 'projected': False, 'bright': False, 'move': False, 'force': False, 'complex': False, 'molesters': False, 'beast': False, 'ashamed': False, 'worked': False, 'ill': False, 'advised': False, 'foray': False, 'unnecessary': False, 'padding': False, 'miserable': False, 'bruce': False, 'altman': False, 'seat': False, 'collar': False, 'crime': False, 'degenerate': False, 'youngsters': False, 'kicks': False, 'robbing': False, 'houses': False, 'homoerotic': False, 'shenanigans': False, 'ass': False, 'terrio': False, 'billy': False, 'kay': False, 'handsome': False, 'artful': False, 'dodger': False, 'add': False, 'themes': False, 'suburban': False, 'ennui': False, 'needed': False, 'awkward': False, 'subplots': False, 'concurrently': False, 'relationship': False, 'evenly': False, 'paced': False, 'exceptionally': False, 'acted': False, 'sporting': False, 'baseball': False, 'cap': False, 'faded': False, 'marine': False, 'tattoo': False, 'bluff': False, 'bluster': False, 'quiet': False, 'glance': False, 'withdrawn': False, 'whose': False, 'dramatic': False, 'choices': False, 'broad': False, 'calling': False, 'haley': False, 'restraint': False, 'admirable': False, 'screenplay': False, 'material': False, 'reads': False, 'walt': False, 'whitman': False, 'poem': False, 'moment': False, 'precious': False, 'lingers': False, 'ecstatic': False, 'hearing': False, 'glenn': False, 'gould': False, 'performing': False, 'bach': False, 'goldberg': False, 'variations': False, 'involving': False, 'walter': False, 'masterson': False, 'jealous': False, 'newbie': False, 'thread': False, 'predictably': False, 'leads': False, 'observational': False, 'portrait': False, 'alienation': False, 'royally': False, 'screwed': False, 'terry': False, 'zwigoff': False, 'superb': False, 'confidence': False, 'ambivalent': False, 'typical': False, 'cinema': False, 'wrap': False, 'bullet': False, 'sparing': False, 'writers': False, 'philosophical': False, 'regard': False, 'countless': False, 'share': False, 'blockbuster': False, 'solved': False, 'obstacle': False, 'removed': False, 'often': False, 'extend': False, 'question': False, 'striving': False, 'realism': False, 'destroy': False, 'janeane': False, 'garofalo': False, 'couple': False, 'truth': False, 'cats': False, 'dogs': False, 'excruciating': False, 'matchmaker': False, 'books': False, 'plods': False, 'predestined': False, 'surprises': False, 'jumps': False, 'popular': False, 'political': False, 'satire': False, 'bandwagon': False, 'campaign': False, 'aide': False, 'massacusetts': False, 'senator': False, 'sanders': False, 'reelection': False, 'denis': False, 'leary': False, 'stereotypical': False, 'strategist': False, 'ethics': False, 'scandal': False, 'plagued': False, 'play': False, 'irish': False, 'roots': False, 'boston': False, 'roman': False, 'catholic': False, 'democrat': False, 'contingent': False, 'kennedy': False, 'family': False, 'orders': False, 'ireland': False, 'relatives': False, 'exploit': False, 'soon': False, 'learns': False, 'said': False, 'done': False, 'mantra': False, 'tiny': False, 'misses': False, 'bus': False, 'hotel': False, 'ends': False, 'smallest': False, 'trashiest': False, 'dog': False, 'luggage': False, 'roger': False, 'ebert': False, 'calls': False, 'meet': False, 'happens': False, 'unconventional': False, 'cinematic': False, 'walks': False, 'bathroom': False, 'nude': False, 'sean': False, 'david': False, 'hara': False, 'bathtub': False, 'points': False, 'guessing': False, 'water': False, 'hates': False, 'instant': False, 'saw': False, 'irishman': False, 'hate': False, 'awhile': False, 'succumb': False, 'charms': False, 'happily': False, 'superficial': False, 'detail': False, 'throw': False, 'turmoil': False, 'reconcile': False, 'tune': False, 'annual': False, 'matchmaking': False, 'festival': False, 'lonely': False, 'county': False, 'future': False, 'bliss': False, 'milo': False, 'shea': False, 'snyder': False, 'pops': False, 'onscreen': False, 'spew': False, 'souls': False, 'assured': False, 'match': False, 'utter': False, 'predictability': False, 'message': False, 'respectable': False, 'person': False, 'comedic': False, 'distinction': False, 'sell': False, 'script': False, 'excited': False, 'stays': False, 'stateside': False, 'yelling': False, 'phone': False, 'undoes': False, 'microphone': False, 'speech': False, 'known': False, 'flying': False, 'hong': False, 'kong': False, 'style': False, 'filmmaking': False, 'classics': False, 'nod': False, 'asia': False, 'france': False, 'lukewarm': False, 'dumas': False, 'asian': False, 'stunt': False, 'coordinator': False, 'xing': False, 'xiong': False, 'prior': False, 'attempts': False, 'choreography': False, 'laughable': False, 'van': False, 'damme': False, 'vehicle': False, 'team': False, 'dennis': False, 'rodman': False, 'simon': False, 'sez': False, 'thrown': False, 'air': False, 'result': False, 'tepid': False, 'adventure': False, 'rip': False, 'stinks': False, 'indiana': False, 'jones': False, 'simple': False, 'grandmother': False, 'adapted': False, 'artagnan': False, 'vengeful': False, 'son': False, 'slain': False, 'travels': False, 'paris': False, 'join': False, 'royal': False, 'meets': False, 'cunning': False, 'cardinal': False, 'richelieu': False, 'stephen': False, 'rea': False, 'overthrow': False, 'associate': False, 'febre': False, 'killer': False, 'disbanded': False, 'rounds': False, 'aramis': False, 'nick': False, 'moran': False, 'athos': False, 'jan': False, 'gregor': False, 'kremp': False, 'porthos': False, 'steven': False, 'spiers': False, 'wrongfully': False, 'imprisoned': False, 'leader': False, 'treville': False, 'prison': False, 'frisky': False, 'interest': False, 'chambermaid': False, 'francesca': False, 'footsy': False, 'coo': False, 'hunts': False, 'queen': False, 'captured': False, 'menancing': False, 'forcing': False, 'regroup': False, 'leading': False, 'charge': False, 'peter': False, 'hyams': False, 'wanted': False, 'blend': False, 'eastern': False, 'western': False, 'styles': False, 'disaster': False, 'reality': False, 'ones': False, 'jet': False, 'li': False, 'risk': False, 'ironically': False, 'swordplay': False, 'spread': False, 'carry': False, 'bulk': False, '30': False, 'minute': False, 'picture': False, 'weighs': False, 'monotonous': False, 'gene': False, 'quintano': False, 'prosaic': False, 'wedding': False, 'planner': False, 'mousy': False, 'artangnan': False, 'hyam': False, 'candles': False, 'torches': False, 'grime': False, 'filth': False, '17th': False, 'noted': False, 'standout': False, 'mortal': False, 'kombat': False, 'annihilation': False, 'reviewed': False, 'multiple': False, 'levels': False, 'rampant': False, 'usage': False, 'randian': False, 'subtext': False, 'pervades': False, 'occasionaly': False, 'ironic': False, 'depreciating': False, 'remark': False, 'tosses': False, 'clearly': False, 'marxist': False, 'imagery': False, 'kidding': False, 'seriousness': False, 'fair': False, '*': False, 'necessary': False, 'viewpoints': False, 'watcher': False, 'unfamiliar': False, 'marginally': False, 'fan': False, 'games': False, '1995': False, 'concerned': False, 'martial': False, 'arts': False, 'tournament': False, 'decide': False, 'fate': False, 'billion': False, 'inhabitants': False, 'mortals': False, 'theory': False, 'prevented': False, 'emperor': False, 'shao': False, 'khan': False, 'arriving': False, 'ready': False, 'assumed': False, 'stance': False, 'extraordinarily': False, 'myself': False, 'game': False, 'enjoyed': False, 'directors': False, 'knew': False, 'limitations': False, 'try': False, 'overachieve': False, 'accompanying': False, 'intersperesed': False, 'distracting': False, 'non': False, 'intrusive': False, 'bits': False, 'fluff': False, 'passing': False, 'smashing': False, 'success': False, 'box': False, 'office': False, 'picks': False, 'precisely': False, 'introductory': False, 'exposition': False, 'anyways': False, 'hell': False, 'silly': False, 'rule': False, 'winning': False, 'thereafter': False, 'approximately': False, '85': False, 'alternates': False, 'general': False, 'impression': False, 'producers': False, 'thought': False, 'formula': False, 'volumes': False, 'truly': False, 'sandra': False, 'hess': False, 'sonya': False, 'blade': False, 'execrable': False, 'convince': False, 'loved': False, 'johnny': False, 'greased': False, 'worst': False, 'mis': False, 'james': False, 'remar': False, 'raiden': False, 'thunder': False, 'christopher': False, 'lambert': False, 'japanese': False, 'revered': False, 'chinese': False, 'mystics': False, 'against': False, 'lister': False, 'jr': False, 'president': False, 'u': False, 'fifth': False, 'utility': False, 'totally': False, 'luxury': False, 'amused': False, 'awareness': False, 'introduced': False, 'meaningless': False, 'sidetracks': False, 'including': False, 'muddled': False, 'liu': False, 'kang': False, 'shou': False, 'seeks': False, 'nightwolf': False, 'litefoot': False, 'mystical': False, 'hallucination': False, 'jade': False, 'irina': False, 'pantaeva': False, 'reasons': False, 'unless': False, 'critiques': False, 'apply': False, 'worse': False, 'bridgette': False, 'convincing': False, 'looked': False, 'mimicing': False, 'movements': False, 'choreographer': False, 'knows': False, 'puts': False, 'believable': False, 'jax': False, 'earthquake': False, 'animality': False, 'bonus': False, 'similar': False, 'moves': False, 'mistakenly': False, 'hang': False, 'lamest': False, 'involved': False, 'mud': False, 'wrestling': False, 'lame': False, 'politically': False, 'incorrect': False, 'noticed': False, 'remarked': False, 'upon': False, 'emporer': False, 'perform': False, 'animalities': False, 'motaro': False, 'sheeva': False, 'lifelike': False, 'goro': False, 'enjoy': False, 'femme': False, 'la': False, 'nikita': False, 'backdraft': False, 'sliver': False, 'cindy': False, 'crawford': False, 'anne': False, 'parillaud': False, 'conspire': False, 'shattered': False, 'image': False, 'hooey': False, 'stallone': False, 'stone': False, 'specialist': False, 'poses': False, 'recurring': False, 'assassin': False, 'honeymooning': False, 'jamaica': False, 'believe': False, 'runs': False, 'painful': False, 'pedestrian': False, 'siouxsie': False, 'sioux': False, 'wig': False, 'emotionless': False, 'leather': False, 'clothing': False, 'seattle': False, 'moping': False, 'karen': False, 'endlessly': False, 'complicated': False, 'plots': False, 'helps': False, 'crisp': False, 'modicum': False, 'shakespearean': False, 'begin': False, 'saddled': False, 'leaden': False, 'zero': False, 'breaking': False, 'cardboard': False, 'confines': False, 'insist': False, 'couldn': False, 'huh': False, 'wonderful': False, 'interchange': False, 'charm': False, 'faster': False, 'learned': False, 'cereal': False, 'crybaby': False, 'imagines': False, 'stranger': False, 'sends': False, 'flowers': False, 'chromium': False, 'tough': False, 'nails': False, 'crack': False, 'killing': False, 'machine': False, 'shoots': False, 'mirrors': False, 'stock': False, 'interested': False, 'nest': False, 'egg': False, 'pave': False, 'paradise': False, 'put': False, 'parking': False, 'graham': False, 'greene': False, 'barbet': False, 'schroeder': False, 'reversal': False, 'fortune': False, 'co': False, 'produced': False, 'agonizingly': False, 'b': False, 'york': False, 'vampires': False, 'latest': False, 'opus': False, 'bent': False, 'outing': False, 'aptly': False, 'titled': False, 'suppose': False, 'went': False, 'prefixed': False, 'possessive': False, 'unashamed': False, 'punctuated': False, 'above': False, 'storyline': False, 'borders': False, 'idiotic': False, 'chaotic': False, 'dormant': False, 'martians': False, 'swirling': False, 'gases': False, 'awakened': False, 'meddling': False, 'possess': False, 'hapless': False, 'colonists': False, 'testy': False, 'marilyn': False, 'manson': False, 'lookalikes': False, 'pooh': False, 'bah': False, 'counsel': False, 'official': False, 'melanie': False, 'ballard': False, 'natasha': False, 'henstridge': False, 'sub': False, 'species': False, 'returnee': False, 'officer': False, 'incarcerated': False, 'felon': False, 'second': False, 'blonde': False, 'pulled': False, 'tightly': False, 'awkwardly': False, 'ponytail': False, 'ice': False, 'cube': False, 'appropriately': False, 'named': False, 'pam': False, 'grier': False, 'briefly': False, 'whom': False, 'wonder': False, 'host': False, 'extras': False, 'therefore': False, 'bird': False, 'shots': False, 'sprawling': False, 'metropolis': False, 'reddish': False, 'state': False, 'art': False, 'trademark': False, 'finding': False, 'department': False, 'lock': False, 'laughing': False, 'barrel': False, 'fare': False, 'dingy': False, 'interiors': False, 'cluttered': False, 'exteriors': False, 'inane': False, 'lots': False, 'scarred': False, 'crazed': False, 'aliens': False, 'weaponry': False, 'warfare': False, 'warning': False, 'spontaneously': False, 'stupidly': False, 'villains': False, 'border': False, 'conflicts': False, 'shootouts': False, 'minus': False, 'hissing': False, 'plissken': False, 'miss': False, 'dubbed': False, 'minimalist': False, 'soundtracks': False, 'graduated': False, 'effective': False, 'scoring': False, 'highlighting': False, 'screeching': False, 'guitar': False, 'fortunately': False, 'drowns': False, 'er': False, 'audible': False, 'priceless': False, 'proven': False, 'infertile': False, 'breeding': False, 'ground': False, 'stillborn': False, 'val': False, 'kilmer': False, 'disappointing': False, 'weekend': False, 'overshadowed': False, 'sequels': False, 'among': False, 'pie': False, 'rush': False, 'absent': False, 'references': False, 'set': False, 'perth': False, 'amboys': False, 'closest': False, 'neighbor': False, 'slap': False, 'upside': False, '1': False, 'keeps': False, 'miraculously': False, 'pretend': False, 'means': False, 'intelligent': False, 'grade': False, 'sci': False, 'fi': False, 'singularly': False, 'luck': False, 'starting': False, 'alicia': False, 'silverstone': False, 'beautiful': False, 'creatures': False, 'green': False, 'critic': False, 'large': False, 'choosing': False, 'strikes': False, 'crush': False, 'slow': False, 'moving': False, 'horrific': False, 'adaptation': False, 'clueless': False, 'mailed': False, 'saying': False, 'theater': False, 'expecting': False, 'preview': False, 'crazymadinlove': False, 'whiny': False, 'unlikable': False, 'wasn': False, 'yelled': False, 'f': False, '$&#': False, 'laugh': False, 'agreement': False, 'walked': False, 'babysitter': False, 'inner': False, 'compulsion': False, 'understand': False, 'rent': False, 'regret': False, 'paragraph': False, 'competition': False, 'criticizing': False, 'thin': False, 'shred': False, 'slower': False, 'glacier': False, 'writing': False, 'appeal': False, 'whatsoever': False, 'pointlessly': False, 'concluded': False, 'violent': False, 'plus': False, 'equals': False, 'spends': False, 'twenty': False, 'bubble': False, 'bath': False, 'joined': False, 'four': False, 'features': False, 'settle': False, 'friday': False, 'cocktail': False, 'automatically': False, 'nights': False, 'trods': False, 'discover': False, 'silent': False, 'object': False, 'male': False, 'fantasies': False, 'thinks': False, 'recapture': False, 'youth': False, 'boyfriend': False, 'lets': False, 'wild': False, 'spying': False, 'outside': False, 'prepubescent': False, 'keyhole': False, 'aged': False, 'counterpart': False, 'asked': False, '200': False, 'pound': False, 'silk': False, 'teddy': False, 'fanatasies': False, 'realm': False, 'pg': False, 'imagine': False, 'cinemax': False, 'staple': False, 'absolutely': False, 'pointed': False, 'classify': False, 'mix': False, 'various': False, 'encounters': False, 'third': False, 'space': False, 'odyssey': False, 'apollo': False, 'contact': False, 'hope': False, 'melange': False, 'considering': False, 'disastrous': False, 'results': False, 'sucks': False, 'rescue': False, 'astronauts': False, 'sent': False, '2020': False, 'unknown': False, 'aviators': False, 'visit': False, 'underwhelming': False, 'describe': False, 'uneven': False, 'promise': False, 'buzz': False, 'neutral': False, 'cherry': False, 'colored': False, 'nerdies': False, 'techie': False}\n"
          ]
        }
      ],
      "source": [
        "# Identify the which one commonly positive and negative\n",
        "\n",
        "def find_features(document):\n",
        "    words = set(document)\n",
        "    features = {}\n",
        "    for w in word_features:\n",
        "        features[w] = (w in words)\n",
        "    return features\n",
        "\n",
        "print((find_features(movie_reviews.words('neg/cv000_29416.txt'))))\n",
        "\n",
        "feature_sets = [(find_features(rev), category) for (rev,category) in documents ]"
      ]
    },
    {
      "cell_type": "markdown",
      "id": "713eaf50",
      "metadata": {
        "papermill": {
          "duration": 0.105099,
          "end_time": "2022-04-28T06:46:19.106661",
          "exception": false,
          "start_time": "2022-04-28T06:46:19.001562",
          "status": "completed"
        },
        "tags": [],
        "id": "713eaf50"
      },
      "source": [
        "## **14.3 Apply Algorithm and predict output**"
      ]
    },
    {
      "cell_type": "code",
      "execution_count": null,
      "id": "46507b8b",
      "metadata": {
        "execution": {
          "iopub.execute_input": "2022-04-28T06:46:19.324006Z",
          "iopub.status.busy": "2022-04-28T06:46:19.323090Z",
          "iopub.status.idle": "2022-04-28T06:46:19.325490Z",
          "shell.execute_reply": "2022-04-28T06:46:19.324969Z",
          "shell.execute_reply.started": "2022-04-28T06:01:29.863568Z"
        },
        "papermill": {
          "duration": 0.113283,
          "end_time": "2022-04-28T06:46:19.325599",
          "exception": false,
          "start_time": "2022-04-28T06:46:19.212316",
          "status": "completed"
        },
        "tags": [],
        "id": "46507b8b"
      },
      "outputs": [],
      "source": [
        "#Feature separation(dont said category of data and predict the algo)\n",
        "\n",
        "train_set = feature_sets[:1900]\n",
        "test_set = feature_sets[1900:]"
      ]
    },
    {
      "cell_type": "code",
      "execution_count": null,
      "id": "1c5647dd",
      "metadata": {
        "_kg_hide-input": true,
        "execution": {
          "iopub.execute_input": "2022-04-28T06:46:19.578341Z",
          "iopub.status.busy": "2022-04-28T06:46:19.563002Z",
          "iopub.status.idle": "2022-04-28T06:46:27.810064Z",
          "shell.execute_reply": "2022-04-28T06:46:27.810674Z",
          "shell.execute_reply.started": "2022-04-28T06:01:29.934185Z"
        },
        "papermill": {
          "duration": 8.381053,
          "end_time": "2022-04-28T06:46:27.810868",
          "exception": false,
          "start_time": "2022-04-28T06:46:19.429815",
          "status": "completed"
        },
        "tags": [],
        "id": "1c5647dd",
        "outputId": "7784cf13-dac4-46ca-bbf8-620d0f533274"
      },
      "outputs": [
        {
          "name": "stdout",
          "output_type": "stream",
          "text": [
            "NaiveBayes Algorithm accuracy % : 81.0\n",
            "----------------------------------------------------------\n",
            "\n",
            "Most Informative Features\n",
            "                   sucks = True              neg : pos    =     10.1 : 1.0\n",
            "                  annual = True              pos : neg    =      8.4 : 1.0\n",
            "             silverstone = True              neg : pos    =      7.6 : 1.0\n",
            "           unimaginative = True              neg : pos    =      7.6 : 1.0\n",
            "                 idiotic = True              neg : pos    =      7.4 : 1.0\n",
            "              schumacher = True              neg : pos    =      7.3 : 1.0\n",
            "                 frances = True              pos : neg    =      7.1 : 1.0\n",
            "                  regard = True              pos : neg    =      7.1 : 1.0\n",
            "                  shoddy = True              neg : pos    =      6.9 : 1.0\n",
            "                  suvari = True              neg : pos    =      6.9 : 1.0\n",
            "                    mena = True              neg : pos    =      6.9 : 1.0\n",
            "                  turkey = True              neg : pos    =      6.7 : 1.0\n",
            "               atrocious = True              neg : pos    =      6.5 : 1.0\n",
            "                obstacle = True              pos : neg    =      6.4 : 1.0\n",
            "                 singers = True              pos : neg    =      5.7 : 1.0\n"
          ]
        }
      ],
      "source": [
        "#Naive bayes algo best\n",
        "\n",
        "classifier = nltk.NaiveBayesClassifier.train(train_set)\n",
        "print(\"NaiveBayes Algorithm accuracy % :\", (nltk.classify.accuracy(classifier,test_set))*100)\n",
        "print('----------------------------------------------------------')\n",
        "print('')\n",
        "classifier.show_most_informative_features(15)"
      ]
    },
    {
      "cell_type": "markdown",
      "id": "c8ea2ff6",
      "metadata": {
        "papermill": {
          "duration": 0.113901,
          "end_time": "2022-04-28T06:46:28.043334",
          "exception": false,
          "start_time": "2022-04-28T06:46:27.929433",
          "status": "completed"
        },
        "tags": [],
        "id": "c8ea2ff6"
      },
      "source": [
        "## **14.4 Save_Load the Pickle file**"
      ]
    },
    {
      "cell_type": "code",
      "execution_count": null,
      "id": "af0171d2",
      "metadata": {
        "_kg_hide-input": true,
        "execution": {
          "iopub.execute_input": "2022-04-28T06:46:28.285285Z",
          "iopub.status.busy": "2022-04-28T06:46:28.264739Z",
          "iopub.status.idle": "2022-04-28T06:46:29.622865Z",
          "shell.execute_reply": "2022-04-28T06:46:29.623375Z",
          "shell.execute_reply.started": "2022-04-28T06:01:38.083846Z"
        },
        "papermill": {
          "duration": 1.472765,
          "end_time": "2022-04-28T06:46:29.623537",
          "exception": false,
          "start_time": "2022-04-28T06:46:28.150772",
          "status": "completed"
        },
        "tags": [],
        "id": "af0171d2",
        "outputId": "e7eea77f-cacb-4fc7-d481-ac62268642d0"
      },
      "outputs": [
        {
          "name": "stdout",
          "output_type": "stream",
          "text": [
            "NaiveBayes Algorithm accuracy % : 81.0\n",
            "----------------------------------------------------------\n",
            "\n",
            "Most Informative Features\n",
            "                   sucks = True              neg : pos    =     10.1 : 1.0\n",
            "                  annual = True              pos : neg    =      8.4 : 1.0\n",
            "             silverstone = True              neg : pos    =      7.6 : 1.0\n",
            "           unimaginative = True              neg : pos    =      7.6 : 1.0\n",
            "                 idiotic = True              neg : pos    =      7.4 : 1.0\n",
            "              schumacher = True              neg : pos    =      7.3 : 1.0\n",
            "                 frances = True              pos : neg    =      7.1 : 1.0\n",
            "                  regard = True              pos : neg    =      7.1 : 1.0\n",
            "                  shoddy = True              neg : pos    =      6.9 : 1.0\n",
            "                  suvari = True              neg : pos    =      6.9 : 1.0\n",
            "                    mena = True              neg : pos    =      6.9 : 1.0\n",
            "                  turkey = True              neg : pos    =      6.7 : 1.0\n",
            "               atrocious = True              neg : pos    =      6.5 : 1.0\n",
            "                obstacle = True              pos : neg    =      6.4 : 1.0\n",
            "                 singers = True              pos : neg    =      5.7 : 1.0\n",
            "                 unravel = True              pos : neg    =      5.7 : 1.0\n",
            "                  stinks = True              neg : pos    =      5.7 : 1.0\n",
            "                bothered = True              neg : pos    =      5.7 : 1.0\n",
            "                     ugh = True              neg : pos    =      5.7 : 1.0\n",
            "                  justin = True              neg : pos    =      5.7 : 1.0\n",
            "                    lame = True              neg : pos    =      5.6 : 1.0\n",
            "               underwood = True              neg : pos    =      5.6 : 1.0\n",
            "            surveillance = True              neg : pos    =      5.6 : 1.0\n",
            "                 bronson = True              neg : pos    =      5.6 : 1.0\n",
            "                   waste = True              neg : pos    =      5.4 : 1.0\n",
            "                   awful = True              neg : pos    =      5.4 : 1.0\n",
            "                  wasted = True              neg : pos    =      5.2 : 1.0\n",
            "                 cunning = True              pos : neg    =      5.1 : 1.0\n",
            "                   worst = True              neg : pos    =      5.0 : 1.0\n",
            "                 saddled = True              neg : pos    =      4.9 : 1.0\n"
          ]
        }
      ],
      "source": [
        "import pickle\n",
        "#save the model\n",
        "\n",
        "save_class = open(\"naivebayes.pickle\",\"wb\")\n",
        "pickle.dump(classifier,save_class)\n",
        "save_class.close()\n",
        "\n",
        "classifier_f = open(\"./naivebayes.pickle\", \"rb\")\n",
        "classifier = pickle.load(classifier_f)\n",
        "classifier_f.close()\n",
        "\n",
        "print(\"NaiveBayes Algorithm accuracy % :\", (nltk.classify.accuracy(classifier,test_set))*100)\n",
        "print('----------------------------------------------------------')\n",
        "print('')\n",
        "classifier.show_most_informative_features(30)"
      ]
    },
    {
      "cell_type": "markdown",
      "id": "65a2d4b4",
      "metadata": {
        "papermill": {
          "duration": 0.10446,
          "end_time": "2022-04-28T06:46:29.832565",
          "exception": false,
          "start_time": "2022-04-28T06:46:29.728105",
          "status": "completed"
        },
        "tags": [],
        "id": "65a2d4b4"
      },
      "source": [
        "# **15. Text Representation**\n",
        "[Go back](#scrollTo=qQGn3HnPplKd)\n",
        "\n",
        " Text Representation is a way to convert text in its natural form to vector form  – Machines like it and understand it in this way only! The numbers/vectors form. This is the second step in an NLP pipeline after Text Pre-processing. Let’s get started with a sample corpus, pre-process\n",
        "\n",
        "<img src= 'https://github.com/practical-nlp/practical-nlp-figures/raw/master/figures/3-1.png'>"
      ]
    },
    {
      "cell_type": "markdown",
      "id": "6764396e",
      "metadata": {
        "papermill": {
          "duration": 0.104591,
          "end_time": "2022-04-28T06:46:30.040656",
          "exception": false,
          "start_time": "2022-04-28T06:46:29.936065",
          "status": "completed"
        },
        "tags": [],
        "id": "6764396e"
      },
      "source": [
        "## **15.1 One Hot Encoding of text (First manual function and using simple scikitlearn)**"
      ]
    },
    {
      "cell_type": "markdown",
      "source": [
        "### **15.1.1 Manual Function - OHE**"
      ],
      "metadata": {
        "id": "w-ehdUBTlM0v"
      },
      "id": "w-ehdUBTlM0v"
    },
    {
      "cell_type": "code",
      "execution_count": null,
      "id": "837bad6e",
      "metadata": {
        "execution": {
          "iopub.execute_input": "2022-04-28T06:46:30.290961Z",
          "iopub.status.busy": "2022-04-28T06:46:30.290304Z",
          "iopub.status.idle": "2022-04-28T06:46:30.293650Z",
          "shell.execute_reply": "2022-04-28T06:46:30.294061Z",
          "shell.execute_reply.started": "2022-04-28T06:01:39.752163Z"
        },
        "papermill": {
          "duration": 0.147158,
          "end_time": "2022-04-28T06:46:30.294209",
          "exception": false,
          "start_time": "2022-04-28T06:46:30.147051",
          "status": "completed"
        },
        "tags": [],
        "id": "837bad6e",
        "outputId": "31541939-b3c0-4a6d-90ec-8fd9fe9a0cfb"
      },
      "outputs": [
        {
          "data": {
            "text/plain": [
              "['dog bites man', 'man bites dog', 'dog eats meat', 'man eats food']"
            ]
          },
          "execution_count": 40,
          "metadata": {},
          "output_type": "execute_result"
        }
      ],
      "source": [
        "# take input text doc and remove puncuation,dot, cvt lower all input data\n",
        "\n",
        "documents = [\"Dog bites man.\", \"Man bites dog.\", \"Dog eats meat.\", \"Man eats food.\"]\n",
        "processed_docs = [doc.lower().replace(\".\",\"\") for doc in documents]\n",
        "processed_docs"
      ]
    },
    {
      "cell_type": "code",
      "execution_count": null,
      "id": "0119141a",
      "metadata": {
        "_kg_hide-input": true,
        "execution": {
          "iopub.execute_input": "2022-04-28T06:46:30.512640Z",
          "iopub.status.busy": "2022-04-28T06:46:30.511785Z",
          "iopub.status.idle": "2022-04-28T06:46:30.518814Z",
          "shell.execute_reply": "2022-04-28T06:46:30.519257Z",
          "shell.execute_reply.started": "2022-04-28T06:01:39.801247Z"
        },
        "papermill": {
          "duration": 0.119305,
          "end_time": "2022-04-28T06:46:30.519396",
          "exception": false,
          "start_time": "2022-04-28T06:46:30.400091",
          "status": "completed"
        },
        "tags": [],
        "id": "0119141a",
        "outputId": "d6f29509-00fe-44d1-add5-52426b50a47a"
      },
      "outputs": [
        {
          "name": "stdout",
          "output_type": "stream",
          "text": [
            "{'dog': 1, 'bites': 2, 'man': 3, 'eats': 4, 'meat': 5, 'food': 6}\n",
            "-------------------------------------------------\n",
            "man bites dog\n",
            "-------------------------------------------------\n",
            "[[0, 0, 1, 0, 0, 0], [0, 1, 0, 0, 0, 0], [1, 0, 0, 0, 0, 0]]\n",
            "---------------------------------------------------\n"
          ]
        },
        {
          "data": {
            "text/plain": [
              "[[0, 0, 1, 0, 0, 0],\n",
              " [0, 0, 0, 0, 0, 0],\n",
              " [0, 0, 1, 0, 0, 0],\n",
              " [0, 0, 0, 0, 0, 0],\n",
              " [0, 0, 0, 0, 0, 0]]"
            ]
          },
          "execution_count": 41,
          "metadata": {},
          "output_type": "execute_result"
        }
      ],
      "source": [
        "# build the vocabulary\n",
        "vocab = {}\n",
        "count = 0\n",
        "for doc in processed_docs:\n",
        "    for word in doc.split():\n",
        "        if word not in vocab:\n",
        "            count = count +1\n",
        "            vocab[word] = count\n",
        "print(vocab)\n",
        "\n",
        "#Get one hot representation for any string based on this vocabulary.\n",
        "#If the word exists in the vocabulary, its representation is returned.\n",
        "#If not, a list of zeroes is returned for that word.\n",
        "def get_onehot_vector(somestring):\n",
        "    onehot_encoded = []\n",
        "    for word in somestring.split():\n",
        "        temp = [0]*len(vocab)\n",
        "        if word in vocab:\n",
        "            temp[vocab[word]-1] = 1 # -1 is to take care of the fact indexing in array starts from 0 and not 1\n",
        "        onehot_encoded.append(temp)\n",
        "    return onehot_encoded\n",
        "\n",
        "\n",
        "print('-------------------------------------------------')\n",
        "print(processed_docs[1])\n",
        "print('-------------------------------------------------')\n",
        "print(get_onehot_vector(processed_docs[1])) #one hot representation for a text from our corpus.\n",
        "print('---------------------------------------------------')\n",
        "#try your own words\n",
        "get_onehot_vector(\"man and man are good\")"
      ]
    },
    {
      "cell_type": "markdown",
      "id": "ec73a188",
      "metadata": {
        "papermill": {
          "duration": 0.106463,
          "end_time": "2022-04-28T06:46:30.732548",
          "exception": false,
          "start_time": "2022-04-28T06:46:30.626085",
          "status": "completed"
        },
        "tags": [],
        "id": "ec73a188"
      },
      "source": [
        "### **15.1.2 Scikit-learn pack - OHE**"
      ]
    },
    {
      "cell_type": "code",
      "execution_count": null,
      "id": "4a7761f1",
      "metadata": {
        "execution": {
          "iopub.execute_input": "2022-04-28T06:46:30.951821Z",
          "iopub.status.busy": "2022-04-28T06:46:30.951282Z",
          "iopub.status.idle": "2022-04-28T06:46:30.958705Z",
          "shell.execute_reply": "2022-04-28T06:46:30.958291Z",
          "shell.execute_reply.started": "2022-04-28T06:01:39.819156Z"
        },
        "papermill": {
          "duration": 0.120045,
          "end_time": "2022-04-28T06:46:30.958822",
          "exception": false,
          "start_time": "2022-04-28T06:46:30.838777",
          "status": "completed"
        },
        "tags": [],
        "id": "4a7761f1",
        "outputId": "f8732a01-1505-4085-9593-ca02bc90384a"
      },
      "outputs": [
        {
          "name": "stdout",
          "output_type": "stream",
          "text": [
            "The data:  ['dog', 'bites', 'man', 'man', 'bites', 'dog', 'dog', 'eats', 'meat', 'man', 'eats', 'food']\n",
            "-------------------------------------------------\n",
            "Label Encoded: [1 0 4 4 0 1 1 2 5 4 2 3]\n",
            "----------------------------------------------------\n",
            "Onehot Encoded Matrix:\n",
            " [[1. 0. 1. 0. 0. 0. 1. 0.]\n",
            " [0. 1. 1. 0. 1. 0. 0. 0.]\n",
            " [1. 0. 0. 1. 0. 0. 0. 1.]\n",
            " [0. 1. 0. 1. 0. 1. 0. 0.]]\n"
          ]
        }
      ],
      "source": [
        "S1 = 'dog bites man'\n",
        "S2 = 'man bites dog'\n",
        "S3 = 'dog eats meat'\n",
        "S4 = 'man eats food'\n",
        "\n",
        "from sklearn.preprocessing import LabelEncoder, OneHotEncoder\n",
        "\n",
        "data = [S1.split(), S2.split(), S3.split(), S4.split()]\n",
        "values = data[0]+data[1]+data[2]+data[3]\n",
        "print(\"The data: \",values)\n",
        "print('-------------------------------------------------')\n",
        "\n",
        "#Label Encoding\n",
        "label_encoder = LabelEncoder()\n",
        "integer_encoded = label_encoder.fit_transform(values)\n",
        "print(\"Label Encoded:\",integer_encoded)\n",
        "print('----------------------------------------------------')\n",
        "\n",
        "#One-Hot Encoding\n",
        "onehot_encoder = OneHotEncoder()\n",
        "onehot_encoded = onehot_encoder.fit_transform(data).toarray()\n",
        "print(\"Onehot Encoded Matrix:\\n\",onehot_encoded)"
      ]
    },
    {
      "cell_type": "markdown",
      "id": "c55e9c34",
      "metadata": {
        "papermill": {
          "duration": 0.106627,
          "end_time": "2022-04-28T06:46:31.172289",
          "exception": false,
          "start_time": "2022-04-28T06:46:31.065662",
          "status": "completed"
        },
        "tags": [],
        "id": "c55e9c34"
      },
      "source": [
        "## **15.2. Bag of words**\n",
        "\n",
        "A bag of words is a representation of text that describes the occurrence of words within a document. We just keep track of word counts and disregard the grammatical details and the word order. It is called a “bag” of words because any information about the order or structure of words in the document is discarded. The model is only concerned with whether known words occur in the document, not where in the document.\n",
        "\n",
        "\n",
        "<img src='https://external-content.duckduckgo.com/iu/?u=https%3A%2F%2Feditor.analyticsvidhya.com%2Fuploads%2F34521bagofwords.jpg&f=1&nofb=1'>"
      ]
    },
    {
      "cell_type": "code",
      "execution_count": null,
      "id": "d73d7cc6",
      "metadata": {
        "execution": {
          "iopub.execute_input": "2022-04-28T06:46:31.396424Z",
          "iopub.status.busy": "2022-04-28T06:46:31.395837Z",
          "iopub.status.idle": "2022-04-28T06:46:31.399668Z",
          "shell.execute_reply": "2022-04-28T06:46:31.399194Z",
          "shell.execute_reply.started": "2022-04-28T06:01:39.834303Z"
        },
        "papermill": {
          "duration": 0.121894,
          "end_time": "2022-04-28T06:46:31.399790",
          "exception": false,
          "start_time": "2022-04-28T06:46:31.277896",
          "status": "completed"
        },
        "tags": [],
        "id": "d73d7cc6",
        "outputId": "8bceeee4-f095-426d-d295-4e419c672e66"
      },
      "outputs": [
        {
          "name": "stdout",
          "output_type": "stream",
          "text": [
            "Our corpus:  ['dog bites man', 'man bites dog', 'dog eats meat', 'man eats food']\n",
            "Our vocabulary:  {'dog': 1, 'bites': 0, 'man': 4, 'eats': 2, 'meat': 5, 'food': 3}\n",
            "BoW representation for 'dog bites man':  [[1 1 0 0 1 0]]\n",
            "BoW representation for 'man bites dog:  [[1 1 0 0 1 0]]\n",
            "Bow representation for 'dog bites are friends': [[0 1 0 0 1 0]]\n"
          ]
        }
      ],
      "source": [
        "#Now, let's do the main task of finding bag of words representation. We will use CountVectorizer from sklearn.\n",
        "\n",
        "from sklearn.feature_extraction.text import CountVectorizer\n",
        "\n",
        "#look at the documents list\n",
        "print(\"Our corpus: \", processed_docs)\n",
        "\n",
        "count_vect = CountVectorizer()\n",
        "#Build a BOW representation for the corpus\n",
        "bow_rep = count_vect.fit_transform(processed_docs)\n",
        "\n",
        "#Look at the vocabulary mapping\n",
        "print(\"Our vocabulary: \", count_vect.vocabulary_)\n",
        "\n",
        "#see the BOW rep for first 2 documents\n",
        "print(\"BoW representation for 'dog bites man': \", bow_rep[0].toarray())\n",
        "print(\"BoW representation for 'man bites dog: \",bow_rep[1].toarray())\n",
        "\n",
        "#Get the representation using this vocabulary, for a new text\n",
        "temp = count_vect.transform([\"dog and man are friends\"])\n",
        "print(\"Bow representation for 'dog bites are friends':\", temp.toarray())\n"
      ]
    },
    {
      "cell_type": "code",
      "execution_count": null,
      "id": "2dedd09a",
      "metadata": {
        "execution": {
          "iopub.execute_input": "2022-04-28T06:46:31.625282Z",
          "iopub.status.busy": "2022-04-28T06:46:31.624658Z",
          "iopub.status.idle": "2022-04-28T06:46:31.627453Z",
          "shell.execute_reply": "2022-04-28T06:46:31.627855Z",
          "shell.execute_reply.started": "2022-04-28T06:01:39.84955Z"
        },
        "papermill": {
          "duration": 0.119097,
          "end_time": "2022-04-28T06:46:31.627986",
          "exception": false,
          "start_time": "2022-04-28T06:46:31.508889",
          "status": "completed"
        },
        "tags": [],
        "id": "2dedd09a",
        "outputId": "b482271a-ee4a-4abc-cdfd-ee9a73d4d0b3"
      },
      "outputs": [
        {
          "name": "stdout",
          "output_type": "stream",
          "text": [
            "Bow representation for 'dog bites man are friends': [[0 1 0 0 1 0]]\n"
          ]
        }
      ],
      "source": [
        "#In the above code, we represented the text considering the frequency of words into account. However, sometimes, we don't care about frequency much, but only want to know whether a word appeared in a text or not. That is, each document is represented as a vector of 0s and 1s. We will use the option binary=True in CountVectorizer for this purpose.\n",
        "#BoW with binary vectors\n",
        "count_vect = CountVectorizer(binary=True)\n",
        "count_vect.fit(processed_docs)\n",
        "temp = count_vect.transform([\"dog man are friends\"])\n",
        "print(\"Bow representation for 'dog bites man are friends':\", temp.toarray())\n"
      ]
    },
    {
      "cell_type": "markdown",
      "id": "41009069",
      "metadata": {
        "papermill": {
          "duration": 0.112831,
          "end_time": "2022-04-28T06:46:31.856263",
          "exception": false,
          "start_time": "2022-04-28T06:46:31.743432",
          "status": "completed"
        },
        "tags": [],
        "id": "41009069"
      },
      "source": [
        "## **15.3 Bag of N-Gram**\n",
        "\n",
        "One hot encoding, BoW and TF-IDF treat words as independent units. There is no notion of phrases or word ordering. Bag of Ngrams (BoN) approach tries to remedy this. It does so by breaking text into chunks of n countigous words/tokens. This can help us capture some context, which earlier approaches could not do\n",
        "\n",
        "Example:\n",
        "\n",
        "So, the respective vectors for these sentences are:\n",
        "\n",
        "“This is a good job. I will not miss it for anything”=[1,1,1,1,0]\n",
        "\n",
        "”This is not good at all”=[1,0,0,1,1]\n",
        "\n",
        "Can you guess what is the problem here? Sentence 2 is a negative sentence and sentence 1 is a positive sentence. Does this reflect in any way in the vectors above? Not at all. So how can we solve this problem? Here come the N-grams to our rescue.\n",
        "\n",
        "An N-gram is an N-token sequence of words: a 2-gram (more commonly called a bigram) is a two-word sequence of words like “really good”, “not good”, or “your homework”, and a 3-gram (more commonly called a trigram) is a three-word sequence of words like “not at all”, or “turn off light”.\n",
        "\n",
        "<img src = 'https://external-content.duckduckgo.com/iu/?u=http%3A%2F%2Fconglang.github.io%2Fimg%2Fml_feature_extraction_ngram.png&f=1&nofb=1'>"
      ]
    },
    {
      "cell_type": "code",
      "execution_count": null,
      "id": "40b0b9e0",
      "metadata": {
        "execution": {
          "iopub.execute_input": "2022-04-28T06:46:32.097319Z",
          "iopub.status.busy": "2022-04-28T06:46:32.096686Z",
          "iopub.status.idle": "2022-04-28T06:46:32.102433Z",
          "shell.execute_reply": "2022-04-28T06:46:32.101944Z",
          "shell.execute_reply.started": "2022-04-28T06:01:39.859495Z"
        },
        "papermill": {
          "duration": 0.129242,
          "end_time": "2022-04-28T06:46:32.102552",
          "exception": false,
          "start_time": "2022-04-28T06:46:31.973310",
          "status": "completed"
        },
        "tags": [],
        "id": "40b0b9e0",
        "outputId": "5e964d11-8c34-4324-ea81-f7bfd6f8b0fd"
      },
      "outputs": [
        {
          "name": "stdout",
          "output_type": "stream",
          "text": [
            "Our vocabulary:  {'dog': 3, 'bites': 0, 'man': 12, 'dog bites': 4, 'bites man': 2, 'dog bites man': 5, 'man bites': 13, 'bites dog': 1, 'man bites dog': 14, 'eats': 8, 'meat': 17, 'dog eats': 6, 'eats meat': 10, 'dog eats meat': 7, 'food': 11, 'man eats': 15, 'eats food': 9, 'man eats food': 16}\n",
            "BoW representation for 'dog bites man':  [[1 0 1 1 1 1 0 0 0 0 0 0 1 0 0 0 0 0]]\n",
            "BoW representation for 'man bites dog:  [[1 1 0 1 0 0 0 0 0 0 0 0 1 1 1 0 0 0]]\n",
            "Bow representation for 'dog and dog are friends': [[0 0 0 2 0 0 0 0 0 0 0 0 0 0 0 0 0 0]]\n"
          ]
        }
      ],
      "source": [
        "from sklearn.feature_extraction.text import CountVectorizer\n",
        "\n",
        "#Ngram vectorization example with count vectorizer and uni, bi, trigrams\n",
        "count_vect = CountVectorizer(ngram_range=(1,3))\n",
        "\n",
        "#Build a BOW representation for the corpus\n",
        "bow_rep = count_vect.fit_transform(processed_docs)\n",
        "\n",
        "#Look at the vocabulary mapping\n",
        "print(\"Our vocabulary: \", count_vect.vocabulary_)\n",
        "\n",
        "#see the BOW rep for first 2 documents\n",
        "print(\"BoW representation for 'dog bites man': \", bow_rep[0].toarray())\n",
        "print(\"BoW representation for 'man bites dog: \",bow_rep[1].toarray())\n",
        "\n",
        "#Get the representation using this vocabulary, for a new text\n",
        "temp = count_vect.transform([\"dog and dog are friends\"])\n",
        "\n",
        "print(\"Bow representation for 'dog and dog are friends':\", temp.toarray())\n",
        "\n",
        "#Note that the number of features (and hence the size of the feature vector) increased a lot for the same data, compared to the ther single word based representations!!"
      ]
    },
    {
      "cell_type": "markdown",
      "id": "56d7fd98",
      "metadata": {
        "papermill": {
          "duration": 0.110827,
          "end_time": "2022-04-28T06:46:32.325609",
          "exception": false,
          "start_time": "2022-04-28T06:46:32.214782",
          "status": "completed"
        },
        "tags": [],
        "id": "56d7fd98"
      },
      "source": [
        "## **15.4. TF-IDF**\n",
        "\n",
        "***In all the other approaches we saw so far, all the words in the text are treated equally important. There is no notion of some words in the document being more important than others. TF-IDF addresses this issue. It aims to quantify the importance of a given word relative to other words in the document and in the corpus. It was commonly used representation scheme for information retrieval systems, for extracting relevant documents from a corpus for given text query.***\n",
        "\n",
        "TF-IDF for a word in a document is calculated by multiplying two different metrics:\n",
        "\n",
        "**The term frequency (TF)** of a word in a document. There are several ways of calculating this frequency, with the simplest being a raw count of instances a word appears in a document. Then, there are other ways to adjust the frequency. For example, by dividing the raw count of instances of a word by either length of the document, or by the raw frequency of the most frequent word in the document. The formula to calculate Term-Frequency is\n",
        "\n",
        "**TF(i,j)=n(i,j)/Σ n(i,j)**\n",
        "\n",
        "Where,\n",
        "\n",
        "n(i,j )= number of times nth word  occurred in a document\n",
        "Σn(i,j) = total number of words in a document.\n",
        "\n",
        "**The inverse document frequency(IDF)** of the word across a set of documents. This suggests how common or rare a word is in the entire document set. The closer it is to 0, the more common is the word. This metric can be calculated by taking the total number of documents, dividing it by the number of documents that contain a word, and calculating the logarithm.\n",
        "\n",
        "<img align = 'center' src=\"https://mungingdata.files.wordpress.com/2017/11/equation.png?w=430&h=336\">"
      ]
    },
    {
      "cell_type": "code",
      "execution_count": null,
      "id": "a48ffadb",
      "metadata": {
        "execution": {
          "iopub.execute_input": "2022-04-28T06:46:32.561686Z",
          "iopub.status.busy": "2022-04-28T06:46:32.560402Z",
          "iopub.status.idle": "2022-04-28T06:46:32.568892Z",
          "shell.execute_reply": "2022-04-28T06:46:32.568461Z",
          "shell.execute_reply.started": "2022-04-28T06:01:39.874476Z"
        },
        "papermill": {
          "duration": 0.130838,
          "end_time": "2022-04-28T06:46:32.569012",
          "exception": false,
          "start_time": "2022-04-28T06:46:32.438174",
          "status": "completed"
        },
        "tags": [],
        "id": "a48ffadb",
        "outputId": "8dffa5ac-0264-42b8-ceb3-e6a770716ebb"
      },
      "outputs": [
        {
          "name": "stdout",
          "output_type": "stream",
          "text": [
            "processed_docs: ['vk hit bat', 'vk ran street', 'dog eats carrot', 'vk dog love very much in vk']\n",
            "-----------------------------------------------------\n",
            "\n",
            "IDF for all words in the vocabulary [1.91629073 1.91629073 1.51082562 1.91629073 1.91629073 1.91629073\n",
            " 1.91629073 1.91629073 1.91629073 1.91629073 1.91629073 1.22314355]\n",
            "----------\n",
            "All words in the vocabulary ['bat', 'carrot', 'dog', 'eats', 'hit', 'in', 'love', 'much', 'ran', 'street', 'very', 'vk']\n",
            "----------\n",
            "TFIDF representation for all documents in our corpus\n",
            " [[0.64450299 0.         0.         0.         0.64450299 0.\n",
            "  0.         0.         0.         0.         0.         0.41137791]\n",
            " [0.         0.         0.         0.         0.         0.\n",
            "  0.         0.         0.64450299 0.64450299 0.         0.41137791]\n",
            " [0.         0.61761437 0.48693426 0.61761437 0.         0.\n",
            "  0.         0.         0.         0.         0.         0.        ]\n",
            " [0.         0.         0.31533346 0.         0.         0.39996052\n",
            "  0.39996052 0.39996052 0.         0.         0.39996052 0.51057923]]\n",
            "----------\n",
            "Tfidf representation for 'dog and vk are friends':\n",
            " [[0.         0.         0.77722116 0.         0.         0.\n",
            "  0.         0.         0.         0.         0.         0.62922751]]\n"
          ]
        },
        {
          "name": "stderr",
          "output_type": "stream",
          "text": [
            "/opt/conda/lib/python3.7/site-packages/sklearn/utils/deprecation.py:87: FutureWarning: Function get_feature_names is deprecated; get_feature_names is deprecated in 1.0 and will be removed in 1.2. Please use get_feature_names_out instead.\n",
            "  warnings.warn(msg, category=FutureWarning)\n"
          ]
        }
      ],
      "source": [
        "from sklearn.feature_extraction.text import TfidfVectorizer\n",
        "\n",
        "documents = [\"vk hit bat.\", \"vk ran street.\", \"Dog eats carrot.\", \"vk dog love very much in vk.\"]\n",
        "processed_docs = [doc.lower().replace(\".\",\"\") for doc in documents]\n",
        "print(\"processed_docs:\",processed_docs)\n",
        "print('-----------------------------------------------------')\n",
        "print('')\n",
        "#Initialize the TFIDF\n",
        "tfidf = TfidfVectorizer()\n",
        "bow_rep_tfidf = tfidf.fit_transform(processed_docs)\n",
        "\n",
        "#IDF for all words in the vocabulary\n",
        "print(\"IDF for all words in the vocabulary\",tfidf.idf_)\n",
        "print(\"-\"*10)\n",
        "#All words in the vocabulary.\n",
        "print(\"All words in the vocabulary\",tfidf.get_feature_names())\n",
        "print(\"-\"*10)\n",
        "\n",
        "#TFIDF representation for all documents in our corpus\n",
        "print(\"TFIDF representation for all documents in our corpus\\n\",bow_rep_tfidf.toarray())\n",
        "print(\"-\"*10)\n",
        "\n",
        "temp = tfidf.transform([\"vk and dog are friends\"])\n",
        "print(\"Tfidf representation for 'dog and vk are friends':\\n\", temp.toarray())\n"
      ]
    },
    {
      "cell_type": "markdown",
      "id": "028903e8",
      "metadata": {
        "papermill": {
          "duration": 0.107049,
          "end_time": "2022-04-28T06:46:32.786061",
          "exception": false,
          "start_time": "2022-04-28T06:46:32.679012",
          "status": "completed"
        },
        "tags": [],
        "id": "028903e8"
      },
      "source": [
        "## **15.5. Word Embedding**\n",
        "\n",
        "Word embeddings are an approach to representing text in NLP. In this notebook we will demonstrate how to train embeddings using Genism.\n",
        "\n",
        "one of the great reference: https://towardsdatascience.com/word2vec-explained-49c52b4ccb71"
      ]
    },
    {
      "cell_type": "code",
      "execution_count": null,
      "id": "562d7597",
      "metadata": {
        "_kg_hide-input": true,
        "_kg_hide-output": true,
        "execution": {
          "iopub.execute_input": "2022-04-28T06:46:33.011564Z",
          "iopub.status.busy": "2022-04-28T06:46:33.010980Z",
          "iopub.status.idle": "2022-04-28T06:47:27.273058Z",
          "shell.execute_reply": "2022-04-28T06:47:27.273753Z",
          "shell.execute_reply.started": "2022-04-28T06:01:39.894356Z"
        },
        "papermill": {
          "duration": 54.380619,
          "end_time": "2022-04-28T06:47:27.273911",
          "exception": false,
          "start_time": "2022-04-28T06:46:32.893292",
          "status": "completed"
        },
        "tags": [],
        "id": "562d7597",
        "outputId": "8366de75-82ff-48f5-aa35-ce42ff532602"
      },
      "outputs": [
        {
          "name": "stdout",
          "output_type": "stream",
          "text": [
            "Collecting gensim==3.6.0\r\n",
            "  Downloading gensim-3.6.0.tar.gz (23.1 MB)\r\n",
            "     |████████████████████████████████| 23.1 MB 12.0 MB/s            \r\n",
            "\u001b[?25h  Preparing metadata (setup.py) ... \u001b[?25l-\b \b\\\b \bdone\r\n",
            "\u001b[?25hRequirement already satisfied: numpy>=1.11.3 in /opt/conda/lib/python3.7/site-packages (from gensim==3.6.0) (1.20.3)\r\n",
            "Requirement already satisfied: scipy>=0.18.1 in /opt/conda/lib/python3.7/site-packages (from gensim==3.6.0) (1.7.3)\r\n",
            "Requirement already satisfied: six>=1.5.0 in /opt/conda/lib/python3.7/site-packages (from gensim==3.6.0) (1.16.0)\r\n",
            "Requirement already satisfied: smart_open>=1.2.1 in /opt/conda/lib/python3.7/site-packages (from gensim==3.6.0) (5.2.1)\r\n",
            "Building wheels for collected packages: gensim\r\n",
            "  Building wheel for gensim (setup.py) ... \u001b[?25l-\b \b\\\b \b|\b \b/\b \b-\b \b\\\b \b|\b \b/\b \b-\b \b\\\b \b|\b \b/\b \b-\b \b\\\b \b|\b \b/\b \b-\b \b\\\b \b|\b \b/\b \b-\b \b\\\b \b|\b \b/\b \b-\b \b\\\b \b|\b \b/\b \b-\b \b\\\b \b|\b \b/\b \b-\b \bdone\r\n",
            "\u001b[?25h  Created wheel for gensim: filename=gensim-3.6.0-cp37-cp37m-linux_x86_64.whl size=24612907 sha256=d7a35561991ed1bd04e39bf169b97275f6babbf06c025d4e366b498649949feb\r\n",
            "  Stored in directory: /root/.cache/pip/wheels/53/c8/f9/afb722099bdb5d73e5807019ce1512fd065502ccc15ea2b5bd\r\n",
            "Successfully built gensim\r\n",
            "Installing collected packages: gensim\r\n",
            "  Attempting uninstall: gensim\r\n",
            "    Found existing installation: gensim 4.0.1\r\n",
            "    Uninstalling gensim-4.0.1:\r\n",
            "      Successfully uninstalled gensim-4.0.1\r\n",
            "\u001b[31mERROR: pip's dependency resolver does not currently take into account all the packages that are installed. This behaviour is the source of the following dependency conflicts.\r\n",
            "scattertext 0.1.5 requires gensim>=4.0.0, but you have gensim 3.6.0 which is incompatible.\u001b[0m\r\n",
            "Successfully installed gensim-3.6.0\r\n",
            "\u001b[33mWARNING: Running pip as the 'root' user can result in broken permissions and conflicting behaviour with the system package manager. It is recommended to use a virtual environment instead: https://pip.pypa.io/warnings/venv\u001b[0m\r\n",
            "Collecting requests==2.23.0\r\n",
            "  Downloading requests-2.23.0-py2.py3-none-any.whl (58 kB)\r\n",
            "     |████████████████████████████████| 58 kB 262 kB/s            \r\n",
            "\u001b[?25hCollecting chardet<4,>=3.0.2\r\n",
            "  Downloading chardet-3.0.4-py2.py3-none-any.whl (133 kB)\r\n",
            "     |████████████████████████████████| 133 kB 486 kB/s            \r\n",
            "\u001b[?25hCollecting urllib3!=1.25.0,!=1.25.1,<1.26,>=1.21.1\r\n",
            "  Downloading urllib3-1.25.11-py2.py3-none-any.whl (127 kB)\r\n",
            "     |████████████████████████████████| 127 kB 2.0 MB/s            \r\n",
            "\u001b[?25hCollecting idna<3,>=2.5\r\n",
            "  Downloading idna-2.10-py2.py3-none-any.whl (58 kB)\r\n",
            "     |████████████████████████████████| 58 kB 2.0 MB/s            \r\n",
            "\u001b[?25hRequirement already satisfied: certifi>=2017.4.17 in /opt/conda/lib/python3.7/site-packages (from requests==2.23.0) (2021.10.8)\r\n",
            "Installing collected packages: urllib3, idna, chardet, requests\r\n",
            "  Attempting uninstall: urllib3\r\n",
            "    Found existing installation: urllib3 1.26.7\r\n",
            "    Uninstalling urllib3-1.26.7:\r\n",
            "      Successfully uninstalled urllib3-1.26.7\r\n",
            "  Attempting uninstall: idna\r\n",
            "    Found existing installation: idna 3.1\r\n",
            "    Uninstalling idna-3.1:\r\n",
            "      Successfully uninstalled idna-3.1\r\n",
            "  Attempting uninstall: chardet\r\n",
            "    Found existing installation: chardet 4.0.0\r\n",
            "    Uninstalling chardet-4.0.0:\r\n",
            "      Successfully uninstalled chardet-4.0.0\r\n",
            "  Attempting uninstall: requests\r\n",
            "    Found existing installation: requests 2.26.0\r\n",
            "    Uninstalling requests-2.26.0:\r\n",
            "      Successfully uninstalled requests-2.26.0\r\n",
            "\u001b[31mERROR: pip's dependency resolver does not currently take into account all the packages that are installed. This behaviour is the source of the following dependency conflicts.\r\n",
            "explainable-ai-sdk 1.3.2 requires xai-image-widget, which is not installed.\r\n",
            "beatrix-jupyterlab 3.1.6 requires google-cloud-bigquery-storage, which is not installed.\r\n",
            "spacy 3.2.3 requires typing-extensions<4.0.0.0,>=3.7.4; python_version < \"3.8\", but you have typing-extensions 4.1.1 which is incompatible.\r\n",
            "pandas-profiling 3.0.0 requires requests>=2.24.0, but you have requests 2.23.0 which is incompatible.\r\n",
            "osmnx 1.1.1 requires requests>=2.25, but you have requests 2.23.0 which is incompatible.\r\n",
            "gcsfs 2021.11.1 requires fsspec==2021.11.1, but you have fsspec 2022.2.0 which is incompatible.\r\n",
            "apache-beam 2.34.0 requires dill<0.3.2,>=0.3.1.1, but you have dill 0.3.4 which is incompatible.\r\n",
            "apache-beam 2.34.0 requires httplib2<0.20.0,>=0.8, but you have httplib2 0.20.2 which is incompatible.\r\n",
            "apache-beam 2.34.0 requires pyarrow<6.0.0,>=0.15.1, but you have pyarrow 6.0.1 which is incompatible.\r\n",
            "apache-beam 2.34.0 requires requests<3.0.0,>=2.24.0, but you have requests 2.23.0 which is incompatible.\r\n",
            "apache-beam 2.34.0 requires typing-extensions<4,>=3.7.0, but you have typing-extensions 4.1.1 which is incompatible.\r\n",
            "aiobotocore 2.1.2 requires botocore<1.23.25,>=1.23.24, but you have botocore 1.24.20 which is incompatible.\u001b[0m\r\n",
            "Successfully installed chardet-3.0.4 idna-2.10 requests-2.23.0 urllib3-1.25.11\r\n",
            "\u001b[33mWARNING: Running pip as the 'root' user can result in broken permissions and conflicting behaviour with the system package manager. It is recommended to use a virtual environment instead: https://pip.pypa.io/warnings/venv\u001b[0m\r\n"
          ]
        }
      ],
      "source": [
        "!pip install gensim==3.6.0\n",
        "!pip install requests==2.23.0\n"
      ]
    },
    {
      "cell_type": "code",
      "execution_count": null,
      "id": "bd9963f3",
      "metadata": {
        "execution": {
          "iopub.execute_input": "2022-04-28T06:47:27.575751Z",
          "iopub.status.busy": "2022-04-28T06:47:27.574919Z",
          "iopub.status.idle": "2022-04-28T06:47:27.684625Z",
          "shell.execute_reply": "2022-04-28T06:47:27.684102Z",
          "shell.execute_reply.started": "2022-04-28T06:01:56.828591Z"
        },
        "papermill": {
          "duration": 0.261272,
          "end_time": "2022-04-28T06:47:27.684758",
          "exception": false,
          "start_time": "2022-04-28T06:47:27.423486",
          "status": "completed"
        },
        "tags": [],
        "id": "bd9963f3"
      },
      "outputs": [],
      "source": [
        "from gensim.models import Word2Vec\n",
        "import warnings\n",
        "warnings.filterwarnings('ignore')"
      ]
    },
    {
      "cell_type": "code",
      "execution_count": null,
      "id": "e265fae9",
      "metadata": {
        "execution": {
          "iopub.execute_input": "2022-04-28T06:47:28.007611Z",
          "iopub.status.busy": "2022-04-28T06:47:28.006754Z",
          "iopub.status.idle": "2022-04-28T06:47:28.034925Z",
          "shell.execute_reply": "2022-04-28T06:47:28.033905Z",
          "shell.execute_reply.started": "2022-04-28T06:01:56.836958Z"
        },
        "papermill": {
          "duration": 0.195218,
          "end_time": "2022-04-28T06:47:28.035071",
          "exception": false,
          "start_time": "2022-04-28T06:47:27.839853",
          "status": "completed"
        },
        "tags": [],
        "id": "e265fae9"
      },
      "outputs": [],
      "source": [
        "# define training data\n",
        "#Genism word2vec requires that a format of ‘list of lists’ be provided for training where every document contained in a list.\n",
        "#Every list contains lists of tokens of that document.\n",
        "corpus = [['vk','birds','dog','bites','man'], [\"man\", \"bites\" ,\"dog\",\"love\"],[\"dog\",\"eats\",\"meat\",\"cat\"],[\"man\", \"eats\",\"food\"]]\n",
        "\n",
        "#Training the model\n",
        "model_cbow = Word2Vec(corpus, min_count=1,sg=0) #using CBOW Architecture for trainnig\n",
        "model_skipgram = Word2Vec(corpus, min_count=1,sg=1)#using skipGram Architecture for training\n"
      ]
    },
    {
      "cell_type": "markdown",
      "id": "6cc39c16",
      "metadata": {
        "papermill": {
          "duration": 0.15237,
          "end_time": "2022-04-28T06:47:28.340668",
          "exception": false,
          "start_time": "2022-04-28T06:47:28.188298",
          "status": "completed"
        },
        "tags": [],
        "id": "6cc39c16"
      },
      "source": [
        "\n",
        "### **15.5.1 CBOW (Continuous BOW)**\n",
        "### ***There are two main architectures which yield the success of word2vec. The skip-gram and CBOW architectures***\n",
        "\n",
        "This architecture is very similar to a feed forward neural network. This model architecture essentially tries to predict a target word from a list of context words.\n",
        "\n",
        "<img src='https://miro.medium.com/max/392/1*_8Ul4ICaCtmZWPrWqH32Ow.png'>"
      ]
    },
    {
      "cell_type": "code",
      "execution_count": null,
      "id": "11af218f",
      "metadata": {
        "execution": {
          "iopub.execute_input": "2022-04-28T06:47:28.649234Z",
          "iopub.status.busy": "2022-04-28T06:47:28.648363Z",
          "iopub.status.idle": "2022-04-28T06:47:28.655077Z",
          "shell.execute_reply": "2022-04-28T06:47:28.654504Z",
          "shell.execute_reply.started": "2022-04-28T06:01:56.892741Z"
        },
        "papermill": {
          "duration": 0.164078,
          "end_time": "2022-04-28T06:47:28.655251",
          "exception": false,
          "start_time": "2022-04-28T06:47:28.491173",
          "status": "completed"
        },
        "tags": [],
        "id": "11af218f",
        "outputId": "d417dae0-e1fe-4f19-d368-1f8ce70f24e9"
      },
      "outputs": [
        {
          "name": "stdout",
          "output_type": "stream",
          "text": [
            "Word2Vec(vocab=10, size=100, alpha=0.025)\n",
            "['vk', 'birds', 'dog', 'bites', 'man', 'love', 'eats', 'meat', 'cat', 'food']\n",
            "[ 4.4421563e-03  5.0031254e-04  2.1874199e-03 -1.7874196e-04\n",
            " -4.8876327e-04  4.4075600e-03  4.5982287e-03 -7.4065651e-04\n",
            " -1.3625002e-03 -1.2386045e-03  4.6841740e-03  4.6488717e-03\n",
            " -6.2830746e-04 -2.3405380e-03 -4.6466137e-03  1.6173124e-03\n",
            " -1.3913236e-03  1.6864489e-03  3.9221451e-04 -3.8251807e-03\n",
            "  1.4289407e-03 -3.9932528e-03 -3.3686385e-03  3.8415071e-04\n",
            "  3.0855476e-03  3.9184825e-03 -2.5819575e-03  1.0269854e-04\n",
            " -4.2368635e-03 -3.4625980e-03  1.9937567e-03 -4.1161543e-03\n",
            "  4.6429690e-03 -4.5976872e-03  1.5646806e-04 -5.8872107e-04\n",
            "  3.6454064e-04 -3.8884052e-03 -3.1044222e-03 -3.2441865e-03\n",
            "  2.8666279e-03 -3.2246339e-03 -1.1299312e-03 -4.6734046e-03\n",
            " -1.5727016e-03  1.5706285e-03  4.0425691e-03 -1.0899088e-03\n",
            "  4.2865123e-03  4.4226311e-03  3.4470513e-04 -3.9148545e-03\n",
            "  4.3941862e-03 -6.5185341e-05  9.9279196e-04 -1.1793834e-03\n",
            "  3.9703948e-03 -3.3832309e-03  3.3652869e-03  3.0130751e-03\n",
            "  4.4710678e-03 -4.4378517e-03 -2.2052771e-03 -9.0501475e-04\n",
            " -1.4748779e-04 -2.6918156e-03  1.9736874e-03 -1.3920404e-03\n",
            " -1.6457097e-03 -2.1640593e-03 -2.5595631e-03  2.9041774e-03\n",
            " -4.0563024e-03 -1.6244398e-03  3.5839935e-03 -3.9141355e-03\n",
            " -1.9747294e-03  2.4095892e-03 -3.1511313e-03 -9.9834497e-04\n",
            "  3.5393579e-04 -4.7716848e-03  3.5771017e-03  3.3206039e-04\n",
            "  4.8299190e-03 -1.8905042e-03  4.7403523e-03  4.1731796e-03\n",
            " -4.1454225e-03 -4.3805619e-03 -3.8499821e-03 -1.7455450e-03\n",
            " -2.7126181e-03 -5.9728610e-04  3.3144287e-03 -3.3044564e-03\n",
            "  2.6222072e-03  3.7593250e-03 -8.4288645e-04 -1.6764882e-03]\n"
          ]
        }
      ],
      "source": [
        "#Summarize the loaded model\n",
        "print(model_cbow)\n",
        "\n",
        "#Summarize vocabulary\n",
        "words = list(model_cbow.wv.vocab)\n",
        "print(words)\n",
        "\n",
        "#Acess vector for one word\n",
        "print(model_cbow['dog'])\n"
      ]
    },
    {
      "cell_type": "code",
      "execution_count": null,
      "id": "8cd852d0",
      "metadata": {
        "execution": {
          "iopub.execute_input": "2022-04-28T06:47:29.013699Z",
          "iopub.status.busy": "2022-04-28T06:47:29.012695Z",
          "iopub.status.idle": "2022-04-28T06:47:29.026828Z",
          "shell.execute_reply": "2022-04-28T06:47:29.027867Z",
          "shell.execute_reply.started": "2022-04-28T06:01:56.90237Z"
        },
        "papermill": {
          "duration": 0.216772,
          "end_time": "2022-04-28T06:47:29.028290",
          "exception": false,
          "start_time": "2022-04-28T06:47:28.811518",
          "status": "completed"
        },
        "tags": [],
        "id": "8cd852d0",
        "outputId": "a422d271-1caa-4006-b6f5-8d81a53932b5"
      },
      "outputs": [
        {
          "name": "stdout",
          "output_type": "stream",
          "text": [
            "Similarity between eats and bites,vk: -0.099480726\n",
            "Similarity between eats and man, dog: 0.014543362\n",
            "------------------------------------\n",
            "\n",
            "[('man', 0.05110204592347145), ('bites', 0.03858581930398941), ('birds', 0.012295424938201904), ('eats', 0.007103875279426575), ('vk', -0.011911973357200623), ('food', -0.03586287051439285), ('cat', -0.040716830641031265), ('dog', -0.041916705667972565), ('love', -0.0924641340970993)]\n",
            "-----------------------------------\n",
            "\n",
            "---------------------------------------\n",
            "\n",
            "Word2Vec(vocab=10, size=100, alpha=0.025)\n"
          ]
        }
      ],
      "source": [
        "#Compute similarity\n",
        "print(\"Similarity between eats and bites,vk:\",model_cbow.similarity('eats',\"dog\"))\n",
        "print(\"Similarity between eats and man, dog:\",model_cbow.similarity('eats','vk'))\n",
        "print('------------------------------------')\n",
        "print('')\n",
        "#Most similarity\n",
        "print(model_cbow.most_similar('meat'))\n",
        "print('-----------------------------------')\n",
        "print('')\n",
        "\n",
        "# save model\n",
        "model_cbow.save('model_cbow.bin')\n",
        "print('---------------------------------------')\n",
        "print('')\n",
        "# load model\n",
        "new_model_cbow = Word2Vec.load('model_cbow.bin')\n",
        "print(new_model_cbow)\n"
      ]
    },
    {
      "cell_type": "markdown",
      "id": "6dadbf79",
      "metadata": {
        "papermill": {
          "duration": 0.232987,
          "end_time": "2022-04-28T06:47:29.537738",
          "exception": false,
          "start_time": "2022-04-28T06:47:29.304751",
          "status": "completed"
        },
        "tags": [],
        "id": "6dadbf79"
      },
      "source": [
        "### **15.5.2.Skipgram**\n",
        "\n",
        "In skipgram, the task is to predict the context words from the center word.\n",
        "\n",
        "'This model essentially tries to learn and predict the context words around the specified input word'\n",
        "\n",
        "\n",
        "<img src='https://miro.medium.com/max/700/1*M6UxaLSbNMeoDFWRN_kPeQ.png'>"
      ]
    },
    {
      "cell_type": "code",
      "execution_count": null,
      "id": "b03842fc",
      "metadata": {
        "execution": {
          "iopub.execute_input": "2022-04-28T06:47:29.845359Z",
          "iopub.status.busy": "2022-04-28T06:47:29.844489Z",
          "iopub.status.idle": "2022-04-28T06:47:29.855766Z",
          "shell.execute_reply": "2022-04-28T06:47:29.856490Z",
          "shell.execute_reply.started": "2022-04-28T06:01:56.923405Z"
        },
        "papermill": {
          "duration": 0.170385,
          "end_time": "2022-04-28T06:47:29.856701",
          "exception": false,
          "start_time": "2022-04-28T06:47:29.686316",
          "status": "completed"
        },
        "tags": [],
        "id": "b03842fc",
        "outputId": "17749437-724e-45ea-99ed-1b0185ec7132"
      },
      "outputs": [
        {
          "name": "stdout",
          "output_type": "stream",
          "text": [
            "Word2Vec(vocab=10, size=100, alpha=0.025)\n",
            "-------------------------------------------------\n",
            "\n",
            "['vk', 'birds', 'dog', 'bites', 'man', 'love', 'eats', 'meat', 'cat', 'food']\n",
            "-------------------------------------------------\n",
            "\n",
            "[ 4.4421563e-03  5.0031254e-04  2.1874199e-03 -1.7874196e-04\n",
            " -4.8876327e-04  4.4075600e-03  4.5982287e-03 -7.4065651e-04\n",
            " -1.3625002e-03 -1.2386045e-03  4.6841740e-03  4.6488717e-03\n",
            " -6.2830746e-04 -2.3405380e-03 -4.6466137e-03  1.6173124e-03\n",
            " -1.3913236e-03  1.6864489e-03  3.9221451e-04 -3.8251807e-03\n",
            "  1.4289407e-03 -3.9932528e-03 -3.3686385e-03  3.8415071e-04\n",
            "  3.0855476e-03  3.9184825e-03 -2.5819575e-03  1.0269854e-04\n",
            " -4.2368635e-03 -3.4625980e-03  1.9937567e-03 -4.1161543e-03\n",
            "  4.6429690e-03 -4.5976872e-03  1.5646806e-04 -5.8872107e-04\n",
            "  3.6454064e-04 -3.8884052e-03 -3.1044222e-03 -3.2441865e-03\n",
            "  2.8666279e-03 -3.2246339e-03 -1.1299312e-03 -4.6734046e-03\n",
            " -1.5727016e-03  1.5706285e-03  4.0425691e-03 -1.0899088e-03\n",
            "  4.2865123e-03  4.4226311e-03  3.4470513e-04 -3.9148545e-03\n",
            "  4.3941862e-03 -6.5185341e-05  9.9279196e-04 -1.1793834e-03\n",
            "  3.9703948e-03 -3.3832309e-03  3.3652869e-03  3.0130751e-03\n",
            "  4.4710678e-03 -4.4378517e-03 -2.2052771e-03 -9.0501475e-04\n",
            " -1.4748779e-04 -2.6918156e-03  1.9736874e-03 -1.3920404e-03\n",
            " -1.6457097e-03 -2.1640593e-03 -2.5595631e-03  2.9041774e-03\n",
            " -4.0563024e-03 -1.6244398e-03  3.5839935e-03 -3.9141355e-03\n",
            " -1.9747294e-03  2.4095892e-03 -3.1511313e-03 -9.9834497e-04\n",
            "  3.5393579e-04 -4.7716848e-03  3.5771017e-03  3.3206039e-04\n",
            "  4.8299190e-03 -1.8905042e-03  4.7403523e-03  4.1731796e-03\n",
            " -4.1454225e-03 -4.3805619e-03 -3.8499821e-03 -1.7455450e-03\n",
            " -2.7126181e-03 -5.9728610e-04  3.3144287e-03 -3.3044564e-03\n",
            "  2.6222072e-03  3.7593250e-03 -8.4288645e-04 -1.6764882e-03]\n",
            "-------------------------------------------------\n",
            "\n",
            "Similarity between eats and bites: 0.101282865\n",
            "Similarity between eats and man: 0.074797295\n",
            "-------------------------------------------------\n",
            "\n",
            "[('man', 0.05110204592347145), ('bites', 0.03858581930398941), ('birds', 0.012295424938201904), ('eats', 0.007103875279426575), ('vk', -0.011911973357200623), ('food', -0.03586287051439285), ('cat', -0.040716830641031265), ('dog', -0.041916705667972565), ('love', -0.0924641340970993)]\n",
            "-------------------------------------------------\n",
            "\n",
            "Word2Vec(vocab=10, size=100, alpha=0.025)\n"
          ]
        }
      ],
      "source": [
        "#Summarize the loaded model\n",
        "print(model_skipgram)\n",
        "print('-------------------------------------------------')\n",
        "print('')\n",
        "#Summarize vocabulary\n",
        "words = list(model_skipgram.wv.vocab)\n",
        "print(words)\n",
        "print('-------------------------------------------------')\n",
        "print('')\n",
        "\n",
        "#Acess vector for one word\n",
        "print(model_skipgram['dog'])\n",
        "print('-------------------------------------------------')\n",
        "print('')\n",
        "\n",
        "#Compute similarity\n",
        "print(\"Similarity between eats and bites:\",model_skipgram.similarity('eats', 'bites'))\n",
        "print(\"Similarity between eats and man:\",model_skipgram.similarity('eats', 'man'))\n",
        "print('-------------------------------------------------')\n",
        "print('')\n",
        "#Most similarity\n",
        "print(model_skipgram.most_similar('meat'))\n",
        "print('-------------------------------------------------')\n",
        "print('')\n",
        "\n",
        "# save model\n",
        "model_skipgram.save('model_skipgram.bin')\n",
        "\n",
        "# load model\n",
        "new_model_skipgram = Word2Vec.load('model_skipgram.bin')\n",
        "print(new_model_skipgram)"
      ]
    },
    {
      "cell_type": "markdown",
      "id": "d5cb330d",
      "metadata": {
        "papermill": {
          "duration": 0.156386,
          "end_time": "2022-04-28T06:47:30.180704",
          "exception": false,
          "start_time": "2022-04-28T06:47:30.024318",
          "status": "completed"
        },
        "tags": [],
        "id": "d5cb330d"
      },
      "source": [
        "### **15.5.3 DOC2VEC**\n",
        "\n",
        "**Everyone got onedoubt in doc2vec and word2vec! same thing happen me! this pic easily know what happen in two process i think**\n",
        "\n",
        "Doc2Vec is another widely used technique that creates an embedding of a document irrespective to its length. While Word2Vec computes a feature vector for every word in the corpus, Doc2Vec computes a feature vector for every document in the corpus\n",
        "\n",
        "<img src='https://media.springernature.com/full/springer-static/image/art%3A10.1186%2Fs40537-018-0139-2/MediaObjects/40537_2018_139_Fig8_HTML.png'>"
      ]
    },
    {
      "cell_type": "code",
      "execution_count": null,
      "id": "70ba0a2a",
      "metadata": {
        "_kg_hide-input": true,
        "execution": {
          "iopub.execute_input": "2022-04-28T06:47:30.494717Z",
          "iopub.status.busy": "2022-04-28T06:47:30.493888Z",
          "iopub.status.idle": "2022-04-28T06:47:30.826752Z",
          "shell.execute_reply": "2022-04-28T06:47:30.827169Z",
          "shell.execute_reply.started": "2022-04-28T06:01:56.948102Z"
        },
        "papermill": {
          "duration": 0.493856,
          "end_time": "2022-04-28T06:47:30.827316",
          "exception": false,
          "start_time": "2022-04-28T06:47:30.333460",
          "status": "completed"
        },
        "tags": [],
        "id": "70ba0a2a",
        "outputId": "22e02bd3-3ca7-4af3-d470-1361e0fdf525"
      },
      "outputs": [
        {
          "name": "stdout",
          "output_type": "stream",
          "text": [
            "[nltk_data] Downloading package punkt to /usr/share/nltk_data...\n",
            "[nltk_data]   Package punkt is already up-to-date!\n"
          ]
        },
        {
          "data": {
            "text/plain": [
              "True"
            ]
          },
          "execution_count": 53,
          "metadata": {},
          "output_type": "execute_result"
        }
      ],
      "source": [
        "import warnings\n",
        "warnings.filterwarnings('ignore')\n",
        "from gensim.models.doc2vec import Doc2Vec, TaggedDocument\n",
        "from nltk.tokenize import word_tokenize\n",
        "from pprint import pprint\n",
        "import nltk\n",
        "nltk.download('punkt')"
      ]
    },
    {
      "cell_type": "code",
      "execution_count": null,
      "id": "331aae3b",
      "metadata": {
        "_kg_hide-input": true,
        "execution": {
          "iopub.execute_input": "2022-04-28T06:47:31.136520Z",
          "iopub.status.busy": "2022-04-28T06:47:31.135786Z",
          "iopub.status.idle": "2022-04-28T06:47:31.138605Z",
          "shell.execute_reply": "2022-04-28T06:47:31.139004Z",
          "shell.execute_reply.started": "2022-04-28T06:01:56.96116Z"
        },
        "papermill": {
          "duration": 0.160188,
          "end_time": "2022-04-28T06:47:31.139169",
          "exception": false,
          "start_time": "2022-04-28T06:47:30.978981",
          "status": "completed"
        },
        "tags": [],
        "id": "331aae3b",
        "outputId": "44551481-c70f-415e-a168-2b653b81d431"
      },
      "outputs": [
        {
          "data": {
            "text/plain": [
              "[TaggedDocument(words=['vk', 'love', 'nature'], tags=['0']),\n",
              " TaggedDocument(words=['vk', 'love', 'dogs'], tags=['1']),\n",
              " TaggedDocument(words=['dog', 'eats', 'carrot'], tags=['2']),\n",
              " TaggedDocument(words=['vk', 'eats', 'food'], tags=['3'])]"
            ]
          },
          "execution_count": 54,
          "metadata": {},
          "output_type": "execute_result"
        }
      ],
      "source": [
        "data = [\"vk love nature\",\n",
        "        \"vk love dogs\",\n",
        "        \"dog eats carrot\",\n",
        "        \"vk eats food\"]\n",
        "tagged_data = [TaggedDocument(words=word_tokenize(word.lower()), tags=[str(i)]) for i, word in enumerate(data)]\n",
        "tagged_data"
      ]
    },
    {
      "cell_type": "code",
      "execution_count": null,
      "id": "b540b034",
      "metadata": {
        "execution": {
          "iopub.execute_input": "2022-04-28T06:47:31.451321Z",
          "iopub.status.busy": "2022-04-28T06:47:31.450546Z",
          "iopub.status.idle": "2022-04-28T06:47:31.463962Z",
          "shell.execute_reply": "2022-04-28T06:47:31.463488Z",
          "shell.execute_reply.started": "2022-04-28T06:01:56.972783Z"
        },
        "papermill": {
          "duration": 0.171143,
          "end_time": "2022-04-28T06:47:31.464102",
          "exception": false,
          "start_time": "2022-04-28T06:47:31.292959",
          "status": "completed"
        },
        "tags": [],
        "id": "b540b034",
        "outputId": "09faa252-ebd5-4d9a-f508-239b1549bc83"
      },
      "outputs": [
        {
          "name": "stdout",
          "output_type": "stream",
          "text": [
            "[ 0.01867182  0.01285588  0.02138079  0.0020042   0.01909028  0.00298063\n",
            " -0.02147736 -0.00272689 -0.01265647 -0.00339002  0.01465895 -0.00506356\n",
            " -0.00179825  0.02163719 -0.00908265 -0.02434245 -0.01052806 -0.02393608\n",
            " -0.00518888  0.00994495]\n"
          ]
        }
      ],
      "source": [
        "#dbow\n",
        "model_dbow = Doc2Vec(tagged_data,vector_size=20, min_count=1, epochs=2,dm=0)\n",
        "print(model_dbow.infer_vector(['vk','eats','meat']))#feature vector of man eats food\n"
      ]
    },
    {
      "cell_type": "code",
      "execution_count": null,
      "id": "fb4d3dbe",
      "metadata": {
        "execution": {
          "iopub.execute_input": "2022-04-28T06:47:31.779887Z",
          "iopub.status.busy": "2022-04-28T06:47:31.779042Z",
          "iopub.status.idle": "2022-04-28T06:47:31.785724Z",
          "shell.execute_reply": "2022-04-28T06:47:31.785210Z",
          "shell.execute_reply.started": "2022-04-28T06:01:56.997859Z"
        },
        "papermill": {
          "duration": 0.165095,
          "end_time": "2022-04-28T06:47:31.785854",
          "exception": false,
          "start_time": "2022-04-28T06:47:31.620759",
          "status": "completed"
        },
        "tags": [],
        "id": "fb4d3dbe",
        "outputId": "a887d8d2-2f5c-42a9-e022-e0981637df1a"
      },
      "outputs": [
        {
          "data": {
            "text/plain": [
              "[('eats', 0.46856099367141724),\n",
              " ('carrot', 0.38956567645072937),\n",
              " ('food', 0.31175780296325684),\n",
              " ('love', 0.09795141220092773),\n",
              " ('dog', 0.06311880052089691)]"
            ]
          },
          "execution_count": 56,
          "metadata": {},
          "output_type": "execute_result"
        }
      ],
      "source": [
        "model_dbow.wv.most_similar(\"vk\",topn=5)#top 5 most simlar words."
      ]
    },
    {
      "cell_type": "code",
      "execution_count": null,
      "id": "6a8a7089",
      "metadata": {
        "execution": {
          "iopub.execute_input": "2022-04-28T06:47:32.119865Z",
          "iopub.status.busy": "2022-04-28T06:47:32.119173Z",
          "iopub.status.idle": "2022-04-28T06:47:32.122140Z",
          "shell.execute_reply": "2022-04-28T06:47:32.122596Z",
          "shell.execute_reply.started": "2022-04-28T06:01:57.008371Z"
        },
        "papermill": {
          "duration": 0.175618,
          "end_time": "2022-04-28T06:47:32.122743",
          "exception": false,
          "start_time": "2022-04-28T06:47:31.947125",
          "status": "completed"
        },
        "tags": [],
        "id": "6a8a7089",
        "outputId": "a3dcee3b-67dd-48ab-853f-856f78037d82"
      },
      "outputs": [
        {
          "data": {
            "text/plain": [
              "0.06311879"
            ]
          },
          "execution_count": 57,
          "metadata": {},
          "output_type": "execute_result"
        }
      ],
      "source": [
        "model_dbow.wv.n_similarity([\"dog\"],[\"vk\"])"
      ]
    },
    {
      "cell_type": "code",
      "execution_count": null,
      "id": "367fedaa",
      "metadata": {
        "execution": {
          "iopub.execute_input": "2022-04-28T06:47:32.436296Z",
          "iopub.status.busy": "2022-04-28T06:47:32.435347Z",
          "iopub.status.idle": "2022-04-28T06:47:32.453300Z",
          "shell.execute_reply": "2022-04-28T06:47:32.452598Z",
          "shell.execute_reply.started": "2022-04-28T06:01:57.017916Z"
        },
        "papermill": {
          "duration": 0.177286,
          "end_time": "2022-04-28T06:47:32.453495",
          "exception": false,
          "start_time": "2022-04-28T06:47:32.276209",
          "status": "completed"
        },
        "tags": [],
        "id": "367fedaa",
        "outputId": "e5a59aef-89c9-449a-f99a-e65db4e61984"
      },
      "outputs": [
        {
          "name": "stdout",
          "output_type": "stream",
          "text": [
            "Inference Vector of vk eats food\n",
            "  [-0.00530227  0.01404284 -0.02200413 -0.02490245  0.01965713 -0.00191752\n",
            "  0.01787436  0.00909174 -0.0230707   0.02330242  0.00063306  0.0186566\n",
            "  0.02244592 -0.00460527  0.01751856  0.0199687   0.01106936 -0.0110997\n",
            " -0.00348328 -0.00719659]\n",
            "Most similar words to vk in our corpus\n",
            " [('eats', 0.46856099367141724), ('carrot', 0.38956567645072937), ('food', 0.31175780296325684), ('love', 0.09795141220092773), ('dog', 0.06311880052089691)]\n",
            "Similarity between vk and dog:  0.06311879\n"
          ]
        }
      ],
      "source": [
        "#dm\n",
        "model_dm = Doc2Vec(tagged_data, min_count=1, vector_size=20, epochs=2,dm=1)\n",
        "\n",
        "print(\"Inference Vector of vk eats food\\n \",model_dm.infer_vector(['vk','eats','food']))\n",
        "\n",
        "print(\"Most similar words to vk in our corpus\\n\",model_dm.wv.most_similar(\"vk\",topn=5))\n",
        "print(\"Similarity between vk and dog: \",model_dm.wv.n_similarity([\"dog\"],[\"vk\"]))\n"
      ]
    },
    {
      "cell_type": "markdown",
      "id": "859fcb29",
      "metadata": {
        "papermill": {
          "duration": 0.153437,
          "end_time": "2022-04-28T06:47:32.772712",
          "exception": false,
          "start_time": "2022-04-28T06:47:32.619275",
          "status": "completed"
        },
        "tags": [],
        "id": "859fcb29"
      },
      "source": [
        "### **15.5.4 T-SNE visualize embedding**\n",
        "\n",
        "T-SNE algorithm to visualize embeddings. This is a nice cheap technique for understanding the nature of your embeddings.\n",
        "\n",
        "\n",
        "### ***I am taking competition data and visualize***\n",
        "\n",
        "Reference:\n",
        "1. https://www.kaggle.com/code/colinmorris/visualizing-embeddings-with-t-sne/notebook\n",
        "\n",
        "2. https://www.kaggle.com/code/jeffd23/visualizing-word-vectors-with-t-sne/notebook"
      ]
    },
    {
      "cell_type": "code",
      "execution_count": null,
      "id": "5c0df94c",
      "metadata": {
        "_kg_hide-input": true,
        "execution": {
          "iopub.execute_input": "2022-04-28T06:47:33.100836Z",
          "iopub.status.busy": "2022-04-28T06:47:33.100104Z",
          "iopub.status.idle": "2022-04-28T06:47:33.198517Z",
          "shell.execute_reply": "2022-04-28T06:47:33.198922Z",
          "shell.execute_reply.started": "2022-04-28T06:01:57.048315Z"
        },
        "papermill": {
          "duration": 0.262895,
          "end_time": "2022-04-28T06:47:33.199080",
          "exception": false,
          "start_time": "2022-04-28T06:47:32.936185",
          "status": "completed"
        },
        "tags": [],
        "id": "5c0df94c"
      },
      "outputs": [],
      "source": [
        "import pandas as pd\n",
        "pd.options.mode.chained_assignment = None\n",
        "import numpy as np\n",
        "import re\n",
        "import nltk\n",
        "\n",
        "from gensim.models import word2vec\n",
        "\n",
        "from sklearn.manifold import TSNE\n",
        "import matplotlib.pyplot as plt\n",
        "%matplotlib inline\n",
        "\n",
        "# import zipfile\n",
        "# with zipfile.ZipFile('../input/quora-question-pairs/train.csv.zip', 'r') as zip_ref:\n",
        "#     zip_ref.extractall()\n",
        "\n",
        "\n",
        "# data = pd.read_csv('./train.csv').sample(50000, random_state=23)\n",
        "data = pd.read_csv('../input/us-patent-phrase-to-phrase-matching/train.csv')"
      ]
    },
    {
      "cell_type": "code",
      "execution_count": null,
      "id": "ea145a7c",
      "metadata": {
        "_kg_hide-input": true,
        "execution": {
          "iopub.execute_input": "2022-04-28T06:47:33.512088Z",
          "iopub.status.busy": "2022-04-28T06:47:33.511411Z",
          "iopub.status.idle": "2022-04-28T06:47:43.525648Z",
          "shell.execute_reply": "2022-04-28T06:47:43.525218Z",
          "shell.execute_reply.started": "2022-04-28T06:01:57.119847Z"
        },
        "papermill": {
          "duration": 10.171672,
          "end_time": "2022-04-28T06:47:43.525771",
          "exception": false,
          "start_time": "2022-04-28T06:47:33.354099",
          "status": "completed"
        },
        "tags": [],
        "id": "ea145a7c",
        "outputId": "845ffc82-e596-4d8a-c725-318c0054c440"
      },
      "outputs": [
        {
          "data": {
            "text/html": [
              "<div>\n",
              "<style scoped>\n",
              "    .dataframe tbody tr th:only-of-type {\n",
              "        vertical-align: middle;\n",
              "    }\n",
              "\n",
              "    .dataframe tbody tr th {\n",
              "        vertical-align: top;\n",
              "    }\n",
              "\n",
              "    .dataframe thead th {\n",
              "        text-align: right;\n",
              "    }\n",
              "</style>\n",
              "<table border=\"1\" class=\"dataframe\">\n",
              "  <thead>\n",
              "    <tr style=\"text-align: right;\">\n",
              "      <th></th>\n",
              "      <th>id</th>\n",
              "      <th>anchor</th>\n",
              "      <th>target</th>\n",
              "      <th>context</th>\n",
              "      <th>score</th>\n",
              "    </tr>\n",
              "  </thead>\n",
              "  <tbody>\n",
              "    <tr>\n",
              "      <th>0</th>\n",
              "      <td>37d61fd2272659b1</td>\n",
              "      <td>abatement</td>\n",
              "      <td>abatement pollution</td>\n",
              "      <td>a47</td>\n",
              "      <td>0.50</td>\n",
              "    </tr>\n",
              "    <tr>\n",
              "      <th>1</th>\n",
              "      <td>7b9652b17b68b7a4</td>\n",
              "      <td>abatement</td>\n",
              "      <td>act abating</td>\n",
              "      <td>a47</td>\n",
              "      <td>0.75</td>\n",
              "    </tr>\n",
              "    <tr>\n",
              "      <th>2</th>\n",
              "      <td>36d72442aefd8232</td>\n",
              "      <td>abatement</td>\n",
              "      <td>active catalyst</td>\n",
              "      <td>a47</td>\n",
              "      <td>0.25</td>\n",
              "    </tr>\n",
              "    <tr>\n",
              "      <th>3</th>\n",
              "      <td>5296b0c19e1ce60e</td>\n",
              "      <td>abatement</td>\n",
              "      <td>eliminating process</td>\n",
              "      <td>a47</td>\n",
              "      <td>0.50</td>\n",
              "    </tr>\n",
              "    <tr>\n",
              "      <th>4</th>\n",
              "      <td>54c1e3b9184cb5b6</td>\n",
              "      <td>abatement</td>\n",
              "      <td>forest region</td>\n",
              "      <td>a47</td>\n",
              "      <td>0.00</td>\n",
              "    </tr>\n",
              "  </tbody>\n",
              "</table>\n",
              "</div>"
            ],
            "text/plain": [
              "                 id     anchor               target context  score\n",
              "0  37d61fd2272659b1  abatement  abatement pollution     a47   0.50\n",
              "1  7b9652b17b68b7a4  abatement          act abating     a47   0.75\n",
              "2  36d72442aefd8232  abatement      active catalyst     a47   0.25\n",
              "3  5296b0c19e1ce60e  abatement  eliminating process     a47   0.50\n",
              "4  54c1e3b9184cb5b6  abatement        forest region     a47   0.00"
            ]
          },
          "execution_count": 60,
          "metadata": {},
          "output_type": "execute_result"
        }
      ],
      "source": [
        "STOP_WORDS = nltk.corpus.stopwords.words()\n",
        "\n",
        "def clean_sentence(val):\n",
        "    \"remove chars that are not letters or numbers, downcase, then remove stop words\"\n",
        "    regex = re.compile('([^\\s\\w]|_)+')\n",
        "    sentence = regex.sub('', val).lower()\n",
        "    sentence = sentence.split(\" \")\n",
        "\n",
        "    for word in list(sentence):\n",
        "        if word in STOP_WORDS:\n",
        "            sentence.remove(word)\n",
        "\n",
        "    sentence = \" \".join(sentence)\n",
        "    return sentence\n",
        "\n",
        "def clean_dataframe(data):\n",
        "    \"drop nans, then apply 'clean_sentence' function to question1 and 2\"\n",
        "    data = data.dropna(how=\"any\")\n",
        "\n",
        "    for col in ['context', 'target']:\n",
        "        data[col] = data[col].apply(clean_sentence)\n",
        "\n",
        "    return data\n",
        "\n",
        "data = clean_dataframe(data)\n",
        "data.head(5)"
      ]
    },
    {
      "cell_type": "code",
      "execution_count": null,
      "id": "8d37d4a8",
      "metadata": {
        "_kg_hide-input": true,
        "execution": {
          "iopub.execute_input": "2022-04-28T06:47:43.847328Z",
          "iopub.status.busy": "2022-04-28T06:47:43.846545Z",
          "iopub.status.idle": "2022-04-28T06:47:43.896450Z",
          "shell.execute_reply": "2022-04-28T06:47:43.896866Z",
          "shell.execute_reply.started": "2022-04-28T06:02:07.22697Z"
        },
        "papermill": {
          "duration": 0.216635,
          "end_time": "2022-04-28T06:47:43.897007",
          "exception": false,
          "start_time": "2022-04-28T06:47:43.680372",
          "status": "completed"
        },
        "tags": [],
        "id": "8d37d4a8",
        "outputId": "8744f857-411e-4299-be4b-38784dd049ba"
      },
      "outputs": [
        {
          "data": {
            "text/plain": [
              "[['a47'], ['a47']]"
            ]
          },
          "execution_count": 61,
          "metadata": {},
          "output_type": "execute_result"
        }
      ],
      "source": [
        "def build_corpus(data):\n",
        "    \"Creates a list of lists containing words from each sentence\"\n",
        "    corpus = []\n",
        "    for col in ['context','target']:\n",
        "        for sentence in data[col].iteritems():\n",
        "            word_list = sentence[1].split(\" \")\n",
        "            corpus.append(word_list)\n",
        "\n",
        "    return corpus\n",
        "\n",
        "corpus = build_corpus(data)\n",
        "corpus[0:2]"
      ]
    },
    {
      "cell_type": "code",
      "execution_count": null,
      "id": "1a032f43",
      "metadata": {
        "_kg_hide-input": true,
        "execution": {
          "iopub.execute_input": "2022-04-28T06:47:44.255896Z",
          "iopub.status.busy": "2022-04-28T06:47:44.250809Z",
          "iopub.status.idle": "2022-04-28T06:47:44.870532Z",
          "shell.execute_reply": "2022-04-28T06:47:44.870021Z",
          "shell.execute_reply.started": "2022-04-28T06:02:07.52532Z"
        },
        "papermill": {
          "duration": 0.804562,
          "end_time": "2022-04-28T06:47:44.870672",
          "exception": false,
          "start_time": "2022-04-28T06:47:44.066110",
          "status": "completed"
        },
        "tags": [],
        "id": "1a032f43",
        "outputId": "a50d1116-eb89-4636-fc55-7804856c0712"
      },
      "outputs": [
        {
          "data": {
            "text/plain": [
              "array([-2.7084923e-03, -2.6899988e-03,  3.1392893e-04,  1.7473634e-03,\n",
              "       -2.7288592e-03, -2.4806522e-03,  1.0203072e-03,  4.1274461e-03,\n",
              "        2.8227139e-03, -4.6376083e-03,  2.5448734e-03, -1.9153790e-04,\n",
              "       -3.4029749e-03,  2.4707250e-03,  1.5015852e-03, -2.3008895e-03,\n",
              "        5.0489097e-03,  4.4738669e-03, -3.1986309e-04,  3.0342748e-03,\n",
              "        3.9631221e-03, -1.5193323e-03, -4.6092906e-04, -1.5953648e-03,\n",
              "       -2.1868837e-03,  1.0207123e-03, -1.9465426e-04, -1.2704600e-03,\n",
              "       -3.6759209e-03,  2.9671036e-03,  1.0577018e-04, -4.9530845e-03,\n",
              "        3.4962448e-03,  3.5136570e-03, -1.4664576e-03, -6.8959570e-04,\n",
              "        3.3728925e-03,  1.4590878e-03, -3.6315913e-03,  4.6034208e-03,\n",
              "       -3.5205504e-04,  2.5480657e-03, -3.9393809e-03, -2.8187996e-03,\n",
              "       -3.6952854e-03, -2.7699778e-03, -5.0002658e-03,  4.7614165e-05,\n",
              "        2.3730011e-03, -4.2331829e-03,  1.1909030e-03,  3.2257475e-03,\n",
              "       -3.2448862e-03,  3.1222962e-03,  1.2051837e-03,  2.7320727e-03,\n",
              "       -1.1834006e-04,  2.1174818e-04,  2.3663582e-03, -3.7205343e-03,\n",
              "        2.6470302e-03,  1.8558577e-03,  1.1658209e-03, -3.8693750e-03,\n",
              "        1.5838441e-03,  3.4515464e-03, -3.9331745e-03,  1.3012820e-03,\n",
              "       -1.2858245e-03, -2.2224649e-03,  3.7772045e-03,  4.6183290e-03,\n",
              "       -3.1029128e-03,  4.5795152e-03,  1.5762099e-03, -2.7586857e-04,\n",
              "        2.2212917e-03,  4.2736172e-03,  3.2046044e-03,  2.9410424e-03,\n",
              "       -4.2797313e-03,  1.7453179e-04, -3.3267376e-03, -2.3127976e-04,\n",
              "        5.2073832e-05,  2.6903197e-03, -5.6204339e-04,  4.0081642e-03,\n",
              "        4.7553699e-03, -5.0707990e-03,  4.8015174e-03, -3.0811478e-03,\n",
              "        5.0115562e-03, -3.6991031e-03,  4.4905208e-03,  8.9027768e-04,\n",
              "        3.7203939e-04, -1.7040817e-04, -8.1261748e-04, -3.3885872e-04],\n",
              "      dtype=float32)"
            ]
          },
          "execution_count": 62,
          "metadata": {},
          "output_type": "execute_result"
        }
      ],
      "source": [
        "model = word2vec.Word2Vec(corpus, size=100, window=20, min_count=200, workers=4)\n",
        "model.wv['material']"
      ]
    },
    {
      "cell_type": "code",
      "execution_count": null,
      "id": "b2775268",
      "metadata": {
        "_kg_hide-input": true,
        "execution": {
          "iopub.execute_input": "2022-04-28T06:47:45.210679Z",
          "iopub.status.busy": "2022-04-28T06:47:45.209874Z",
          "iopub.status.idle": "2022-04-28T06:47:45.211820Z",
          "shell.execute_reply": "2022-04-28T06:47:45.212254Z",
          "shell.execute_reply.started": "2022-04-28T06:02:08.16476Z"
        },
        "papermill": {
          "duration": 0.166899,
          "end_time": "2022-04-28T06:47:45.212397",
          "exception": false,
          "start_time": "2022-04-28T06:47:45.045498",
          "status": "completed"
        },
        "tags": [],
        "id": "b2775268"
      },
      "outputs": [],
      "source": [
        "def tsne_plot(model):\n",
        "    \"Creates and TSNE model and plots it\"\n",
        "    labels = []\n",
        "    tokens = []\n",
        "\n",
        "    for word in model.wv.vocab:\n",
        "        tokens.append(model[word])\n",
        "        labels.append(word)\n",
        "\n",
        "    tsne_model = TSNE(perplexity=40, n_components=2, init='pca', n_iter=2500, random_state=23)\n",
        "    new_values = tsne_model.fit_transform(tokens)\n",
        "\n",
        "    x = []\n",
        "    y = []\n",
        "    for value in new_values:\n",
        "        x.append(value[0])\n",
        "        y.append(value[1])\n",
        "\n",
        "    plt.figure(figsize=(16, 16))\n",
        "    for i in range(len(x)):\n",
        "        plt.scatter(x[i],y[i])\n",
        "        plt.annotate(labels[i],\n",
        "                     xy=(x[i], y[i]),\n",
        "                     xytext=(5, 2),\n",
        "                     textcoords='offset points',\n",
        "                     ha='right',\n",
        "                     va='bottom')\n",
        "    plt.show()"
      ]
    },
    {
      "cell_type": "code",
      "execution_count": null,
      "id": "c7b3a083",
      "metadata": {
        "_kg_hide-input": true,
        "execution": {
          "iopub.execute_input": "2022-04-28T06:47:45.532679Z",
          "iopub.status.busy": "2022-04-28T06:47:45.531754Z",
          "iopub.status.idle": "2022-04-28T06:47:47.684184Z",
          "shell.execute_reply": "2022-04-28T06:47:47.683678Z",
          "shell.execute_reply.started": "2022-04-28T06:02:08.175508Z"
        },
        "papermill": {
          "duration": 2.314584,
          "end_time": "2022-04-28T06:47:47.684303",
          "exception": false,
          "start_time": "2022-04-28T06:47:45.369719",
          "status": "completed"
        },
        "tags": [],
        "id": "c7b3a083",
        "outputId": "5927bd13-6296-4b9f-cdf9-3779f501255b"
      },
      "outputs": [
        {
          "data": {
            "image/png": "[encoded data removed]",
            "text/plain": [
              "<Figure size 1152x1152 with 1 Axes>"
            ]
          },
          "metadata": {
            "needs_background": "light"
          },
          "output_type": "display_data"
        }
      ],
      "source": [
        "tsne_plot(model)"
      ]
    },
    {
      "cell_type": "code",
      "execution_count": null,
      "id": "41547bf3",
      "metadata": {
        "_kg_hide-input": true,
        "execution": {
          "iopub.execute_input": "2022-04-28T06:47:48.011456Z",
          "iopub.status.busy": "2022-04-28T06:47:48.010644Z",
          "iopub.status.idle": "2022-04-28T06:47:49.502108Z",
          "shell.execute_reply": "2022-04-28T06:47:49.502539Z",
          "shell.execute_reply.started": "2022-04-28T06:02:10.257502Z"
        },
        "papermill": {
          "duration": 1.662258,
          "end_time": "2022-04-28T06:47:49.502684",
          "exception": false,
          "start_time": "2022-04-28T06:47:47.840426",
          "status": "completed"
        },
        "tags": [],
        "id": "41547bf3",
        "outputId": "d275dd6f-d8be-4991-8884-34e51d809174"
      },
      "outputs": [
        {
          "data": {
            "image/png": "[encoded data removed]",
            "text/plain": [
              "<Figure size 1152x1152 with 1 Axes>"
            ]
          },
          "metadata": {
            "needs_background": "light"
          },
          "output_type": "display_data"
        }
      ],
      "source": [
        "# A more selective model\n",
        "model = word2vec.Word2Vec(corpus, size=100, window=20, min_count=500, workers=4)\n",
        "tsne_plot(model)"
      ]
    },
    {
      "cell_type": "code",
      "execution_count": null,
      "id": "46390098",
      "metadata": {
        "_kg_hide-input": true,
        "execution": {
          "iopub.execute_input": "2022-04-28T06:47:50.021938Z",
          "iopub.status.busy": "2022-04-28T06:47:50.018988Z",
          "iopub.status.idle": "2022-04-28T06:47:55.351150Z",
          "shell.execute_reply": "2022-04-28T06:47:55.351632Z",
          "shell.execute_reply.started": "2022-04-28T06:02:11.714017Z"
        },
        "papermill": {
          "duration": 5.601479,
          "end_time": "2022-04-28T06:47:55.351781",
          "exception": false,
          "start_time": "2022-04-28T06:47:49.750302",
          "status": "completed"
        },
        "tags": [],
        "id": "46390098",
        "outputId": "3ef53484-cc15-465f-fc69-65b9942e178b"
      },
      "outputs": [
        {
          "data": {
            "image/png": "[encoded data removed]",
            "text/plain": [
              "<Figure size 1152x1152 with 1 Axes>"
            ]
          },
          "metadata": {
            "needs_background": "light"
          },
          "output_type": "display_data"
        }
      ],
      "source": [
        "# A less selective model\n",
        "model = word2vec.Word2Vec(corpus, size=100, window=20, min_count=100, workers=4)\n",
        "tsne_plot(model)"
      ]
    },
    {
      "cell_type": "code",
      "execution_count": null,
      "id": "3e640880",
      "metadata": {
        "execution": {
          "iopub.execute_input": "2022-04-28T06:47:55.676367Z",
          "iopub.status.busy": "2022-04-28T06:47:55.675754Z",
          "iopub.status.idle": "2022-04-28T06:47:55.684272Z",
          "shell.execute_reply": "2022-04-28T06:47:55.684977Z",
          "shell.execute_reply.started": "2022-04-28T06:02:16.813796Z"
        },
        "papermill": {
          "duration": 0.174452,
          "end_time": "2022-04-28T06:47:55.685236",
          "exception": false,
          "start_time": "2022-04-28T06:47:55.510784",
          "status": "completed"
        },
        "tags": [],
        "id": "3e640880",
        "outputId": "4265cdbd-d1e9-4905-8a72-1f4374314178"
      },
      "outputs": [
        {
          "data": {
            "text/plain": [
              "[('information', 0.9936055541038513),\n",
              " ('layer', 0.9935668706893921),\n",
              " ('device', 0.9934806823730469),\n",
              " ('display', 0.9934799671173096),\n",
              " ('fluid', 0.9934332370758057),\n",
              " ('type', 0.993412971496582),\n",
              " ('liquid', 0.9933050870895386),\n",
              " ('path', 0.993303656578064),\n",
              " ('source', 0.9932242035865784),\n",
              " ('light', 0.9932038187980652)]"
            ]
          },
          "execution_count": 67,
          "metadata": {},
          "output_type": "execute_result"
        }
      ],
      "source": [
        "model.most_similar('material')"
      ]
    },
    {
      "cell_type": "markdown",
      "id": "3dcf4dd6",
      "metadata": {
        "papermill": {
          "duration": 0.16009,
          "end_time": "2022-04-28T06:47:56.077838",
          "exception": false,
          "start_time": "2022-04-28T06:47:55.917748",
          "status": "completed"
        },
        "tags": [],
        "id": "3dcf4dd6"
      },
      "source": [
        "### **15.5.5 FastText**\n",
        "\n",
        "FastText create Facebook research team, One of best embedded method\n",
        "\n",
        "As Word2Vec and Doc2Vec models rely on the vocabulary they had been trained on if the new text data that we want to vectorized contains words that were not previously present in the training vocabulary then these models fail to vectorized the unseen words accurately. FastText overcomes this problem.\n",
        "\n",
        "FastText does this by vectorizing each word as a combination of character n-grams. The keyword to remember when working with FastText is character n-grams. If you don’t know what n-grams are, they are a number of words taken into consideration when working with text.\n",
        "\n",
        "### ***Uses of FastText:***\n",
        "\n",
        "- Very useful for finding semantic similarities\n",
        "- Large datasets can be trained in minutes\n",
        "- Can be used for the purpose of text classification.\n",
        "\n",
        "<img src='https://kavita-ganesan.com/wp-content/uploads/fastText-vs.-Word2Vec.png'>\n",
        "\n",
        "Thus the biggest advantage of using FastText over other models such as Word2Vec is that FastText can generate embeddings for sentences with words not present in the training vocabulary with the help of character n-grams whereas other models fail to do so.\n",
        "\n",
        "Full credit-Reference: https://pythonwife.com/fasttext-in-nlp/"
      ]
    },
    {
      "cell_type": "code",
      "execution_count": null,
      "id": "5ce01c68",
      "metadata": {
        "_kg_hide-output": true,
        "execution": {
          "iopub.execute_input": "2022-04-28T06:47:56.403945Z",
          "iopub.status.busy": "2022-04-28T06:47:56.403186Z",
          "iopub.status.idle": "2022-04-28T06:48:09.488151Z",
          "shell.execute_reply": "2022-04-28T06:48:09.486943Z",
          "shell.execute_reply.started": "2022-04-28T06:02:16.824138Z"
        },
        "papermill": {
          "duration": 13.25046,
          "end_time": "2022-04-28T06:48:09.488316",
          "exception": false,
          "start_time": "2022-04-28T06:47:56.237856",
          "status": "completed"
        },
        "tags": [],
        "id": "5ce01c68",
        "outputId": "2cda89ba-c42d-4bd1-930c-ee1c45099242"
      },
      "outputs": [
        {
          "name": "stdout",
          "output_type": "stream",
          "text": [
            "Collecting gensim==4.0.1\r\n",
            "  Downloading gensim-4.0.1-cp37-cp37m-manylinux1_x86_64.whl (23.9 MB)\r\n",
            "     |████████████████████████████████| 23.9 MB 12.5 MB/s            \r\n",
            "\u001b[?25hRequirement already satisfied: numpy>=1.11.3 in /opt/conda/lib/python3.7/site-packages (from gensim==4.0.1) (1.20.3)\r\n",
            "Requirement already satisfied: scipy>=0.18.1 in /opt/conda/lib/python3.7/site-packages (from gensim==4.0.1) (1.7.3)\r\n",
            "Requirement already satisfied: smart-open>=1.8.1 in /opt/conda/lib/python3.7/site-packages (from gensim==4.0.1) (5.2.1)\r\n",
            "Installing collected packages: gensim\r\n",
            "  Attempting uninstall: gensim\r\n",
            "    Found existing installation: gensim 3.6.0\r\n",
            "    Uninstalling gensim-3.6.0:\r\n",
            "      Successfully uninstalled gensim-3.6.0\r\n",
            "Successfully installed gensim-4.0.1\r\n",
            "\u001b[33mWARNING: Running pip as the 'root' user can result in broken permissions and conflicting behaviour with the system package manager. It is recommended to use a virtual environment instead: https://pip.pypa.io/warnings/venv\u001b[0m\r\n"
          ]
        }
      ],
      "source": [
        "!pip install gensim==4.0.1\n",
        "from gensim.models import FastText\n",
        "from gensim.test.utils import common_texts"
      ]
    },
    {
      "cell_type": "code",
      "execution_count": null,
      "id": "bdf887c2",
      "metadata": {
        "execution": {
          "iopub.execute_input": "2022-04-28T06:48:09.858849Z",
          "iopub.status.busy": "2022-04-28T06:48:09.858244Z",
          "iopub.status.idle": "2022-04-28T06:48:09.860927Z",
          "shell.execute_reply": "2022-04-28T06:48:09.861346Z",
          "shell.execute_reply.started": "2022-04-28T06:02:25.970142Z"
        },
        "papermill": {
          "duration": 0.190031,
          "end_time": "2022-04-28T06:48:09.861476",
          "exception": false,
          "start_time": "2022-04-28T06:48:09.671445",
          "status": "completed"
        },
        "tags": [],
        "id": "bdf887c2",
        "outputId": "a767903f-11ed-43c0-d3c8-0e5fddea4401"
      },
      "outputs": [
        {
          "data": {
            "text/plain": [
              "[['human', 'interface', 'computer'],\n",
              " ['survey', 'user', 'computer', 'system', 'response', 'time'],\n",
              " ['eps', 'user', 'interface', 'system'],\n",
              " ['system', 'human', 'system', 'eps'],\n",
              " ['user', 'response', 'time'],\n",
              " ['trees'],\n",
              " ['graph', 'trees'],\n",
              " ['graph', 'minors', 'trees'],\n",
              " ['graph', 'minors', 'survey']]"
            ]
          },
          "execution_count": 69,
          "metadata": {},
          "output_type": "execute_result"
        }
      ],
      "source": [
        "common_texts"
      ]
    },
    {
      "cell_type": "code",
      "execution_count": null,
      "id": "0a0040c2",
      "metadata": {
        "execution": {
          "iopub.execute_input": "2022-04-28T06:48:10.232372Z",
          "iopub.status.busy": "2022-04-28T06:48:10.231501Z",
          "iopub.status.idle": "2022-04-28T06:48:10.233236Z",
          "shell.execute_reply": "2022-04-28T06:48:10.233739Z",
          "shell.execute_reply.started": "2022-04-28T06:02:25.980373Z"
        },
        "papermill": {
          "duration": 0.189301,
          "end_time": "2022-04-28T06:48:10.233872",
          "exception": false,
          "start_time": "2022-04-28T06:48:10.044571",
          "status": "completed"
        },
        "tags": [],
        "id": "0a0040c2"
      },
      "outputs": [],
      "source": [
        "#build the model\n",
        "model1 = FastText(size=5, window=3, min_count=1)"
      ]
    },
    {
      "cell_type": "code",
      "execution_count": null,
      "id": "5498a0e1",
      "metadata": {
        "execution": {
          "iopub.execute_input": "2022-04-28T06:48:10.604111Z",
          "iopub.status.busy": "2022-04-28T06:48:10.603600Z",
          "iopub.status.idle": "2022-04-28T06:48:10.640568Z",
          "shell.execute_reply": "2022-04-28T06:48:10.639965Z",
          "shell.execute_reply.started": "2022-04-28T06:02:25.994086Z"
        },
        "papermill": {
          "duration": 0.2246,
          "end_time": "2022-04-28T06:48:10.640705",
          "exception": false,
          "start_time": "2022-04-28T06:48:10.416105",
          "status": "completed"
        },
        "tags": [],
        "id": "5498a0e1"
      },
      "outputs": [],
      "source": [
        "model1.build_vocab(common_texts)\n",
        "model1.train(common_texts, total_examples=len(common_texts), epochs=10)\n"
      ]
    },
    {
      "cell_type": "code",
      "execution_count": null,
      "id": "38d2e252",
      "metadata": {
        "execution": {
          "iopub.execute_input": "2022-04-28T06:48:11.026352Z",
          "iopub.status.busy": "2022-04-28T06:48:11.023755Z",
          "iopub.status.idle": "2022-04-28T06:48:11.029414Z",
          "shell.execute_reply": "2022-04-28T06:48:11.030052Z",
          "shell.execute_reply.started": "2022-04-28T06:02:26.047718Z"
        },
        "papermill": {
          "duration": 0.195126,
          "end_time": "2022-04-28T06:48:11.030269",
          "exception": false,
          "start_time": "2022-04-28T06:48:10.835143",
          "status": "completed"
        },
        "tags": [],
        "id": "38d2e252",
        "outputId": "cff53daa-6abb-4a9e-f75a-94b44b389e5e"
      },
      "outputs": [
        {
          "name": "stdout",
          "output_type": "stream",
          "text": [
            "Predict one word: [-0.01132617  0.01409284  0.04774407  0.01412516  0.00770461]\n",
            "---------------------------\n",
            "\n",
            "[('user', 0.8905642628669739), ('trees', 0.629560649394989), ('survey', 0.44253167510032654), ('eps', 0.41045570373535156), ('minors', 0.21103718876838684), ('time', 0.16884131729602814), ('response', 0.01697589084506035), ('graph', -0.057804279029369354), ('system', -0.2032489776611328)]\n"
          ]
        }
      ],
      "source": [
        "print('Predict one word:',model1.wv['human'])\n",
        "print('---------------------------')\n",
        "print('')\n",
        "print(model1.wv.most_similar(positive=['computer','interface'], negative=['human']))"
      ]
    },
    {
      "cell_type": "markdown",
      "id": "e7a1e5a2",
      "metadata": {
        "papermill": {
          "duration": 0.186197,
          "end_time": "2022-04-28T06:48:11.410390",
          "exception": false,
          "start_time": "2022-04-28T06:48:11.224193",
          "status": "completed"
        },
        "tags": [],
        "id": "e7a1e5a2"
      },
      "source": [
        "### **15.5.6 Glove**\n",
        "\n",
        "@Ruchi Bhatia (Reference: https://www.kaggle.com/discussions/getting-started/164408)\n",
        "\n",
        "GloVe: GloVe is based on matrix factorization techniques on the word-context matrix. It first constructs a large matrix of (words x context) co-occurrence information, i.e. for each “word” (the rows), you count how frequently we see this word in some “context” (the columns) in a large corpus. The number of “contexts” is of course large, since it is essentially combinatorial in size. So then we factorize this matrix to yield a lower-dimensional (word x features) matrix, where each row now yields a vector representation for each word. In general, this is done by minimizing a “reconstruction loss”. This loss tries to find the lower-dimensional representations which can explain most of the variance in the high-dimensional data.\n",
        "\n",
        "### **Why GloVe is better than Word2Vec?**\n",
        "\n",
        "### **Rather than using a window to define local context, GloVe constructs an explicit word-context or word co-occurrence matrix using statistics across the whole text corpus. The result is a learning model that may result in generally better word embeddings.**\n",
        "\n",
        "<img src='https://miro.medium.com/max/1400/1*gcC7b_v7OKWutYN1NAHyMQ.png'>\n",
        "\n",
        "Reference: https://edumunozsala.github.io/BlogEms/jupyter/nlp/classification/embeddings/python/2020/08/15/Intro_NLP_WordEmbeddings_Classification.html"
      ]
    },
    {
      "cell_type": "markdown",
      "id": "1e997c06",
      "metadata": {
        "papermill": {
          "duration": 0.180501,
          "end_time": "2022-04-28T06:48:11.772145",
          "exception": false,
          "start_time": "2022-04-28T06:48:11.591644",
          "status": "completed"
        },
        "tags": [],
        "id": "1e997c06"
      },
      "source": [
        "# **16. Trying Glove embed, Build lstm model and predict output**\n",
        "[Go back](#scrollTo=qQGn3HnPplKd)\n",
        "\n",
        "### **Features selection: I'm simply take x is target and y is score**\n"
      ]
    },
    {
      "cell_type": "code",
      "execution_count": null,
      "id": "f59a9301",
      "metadata": {
        "_kg_hide-input": true,
        "execution": {
          "iopub.execute_input": "2022-04-28T06:48:12.153666Z",
          "iopub.status.busy": "2022-04-28T06:48:12.150356Z",
          "iopub.status.idle": "2022-04-28T06:48:16.521434Z",
          "shell.execute_reply": "2022-04-28T06:48:16.520984Z",
          "shell.execute_reply.started": "2022-04-28T06:02:26.059862Z"
        },
        "papermill": {
          "duration": 4.563615,
          "end_time": "2022-04-28T06:48:16.521559",
          "exception": false,
          "start_time": "2022-04-28T06:48:11.957944",
          "status": "completed"
        },
        "tags": [],
        "id": "f59a9301",
        "outputId": "3423364e-65a9-4046-8e28-004e806a33b1"
      },
      "outputs": [
        {
          "name": "stdout",
          "output_type": "stream",
          "text": [
            "['us-patent-phrase-to-phrase-matching', 'glove840b300dtxt']\n"
          ]
        },
        {
          "data": {
            "text/html": [
              "<div>\n",
              "<style scoped>\n",
              "    .dataframe tbody tr th:only-of-type {\n",
              "        vertical-align: middle;\n",
              "    }\n",
              "\n",
              "    .dataframe tbody tr th {\n",
              "        vertical-align: top;\n",
              "    }\n",
              "\n",
              "    .dataframe thead th {\n",
              "        text-align: right;\n",
              "    }\n",
              "</style>\n",
              "<table border=\"1\" class=\"dataframe\">\n",
              "  <thead>\n",
              "    <tr style=\"text-align: right;\">\n",
              "      <th></th>\n",
              "      <th>id</th>\n",
              "      <th>anchor</th>\n",
              "      <th>target</th>\n",
              "      <th>context</th>\n",
              "      <th>score</th>\n",
              "    </tr>\n",
              "  </thead>\n",
              "  <tbody>\n",
              "    <tr>\n",
              "      <th>7035</th>\n",
              "      <td>55a948636ae83cd0</td>\n",
              "      <td>connect to common conductor</td>\n",
              "      <td>connecting electrical conductors</td>\n",
              "      <td>B66</td>\n",
              "      <td>0.50</td>\n",
              "    </tr>\n",
              "    <tr>\n",
              "      <th>35310</th>\n",
              "      <td>ad780358b8f34e30</td>\n",
              "      <td>voltage values</td>\n",
              "      <td>suitable of supplies</td>\n",
              "      <td>B41</td>\n",
              "      <td>0.25</td>\n",
              "    </tr>\n",
              "  </tbody>\n",
              "</table>\n",
              "</div>"
            ],
            "text/plain": [
              "                     id                       anchor  \\\n",
              "7035   55a948636ae83cd0  connect to common conductor   \n",
              "35310  ad780358b8f34e30               voltage values   \n",
              "\n",
              "                                 target context  score  \n",
              "7035   connecting electrical conductors     B66   0.50  \n",
              "35310              suitable of supplies     B41   0.25  "
            ]
          },
          "execution_count": 73,
          "metadata": {},
          "output_type": "execute_result"
        }
      ],
      "source": [
        "#Here we will use GloVe pretrained corpus model to represent our words.It is available in 3 varieties :50D ,100D and 200 Dimentional.We will try 100 D here.\n",
        "\n",
        "import numpy as np\n",
        "import pandas as pd\n",
        "\n",
        "\n",
        "import os\n",
        "print(os.listdir(\"../input\"))\n",
        "\n",
        "from keras.models import Sequential\n",
        "from keras.layers import LSTM,Dense,Dropout,Embedding,CuDNNLSTM,Bidirectional\n",
        "from keras.preprocessing.text import Tokenizer\n",
        "from keras.preprocessing.sequence import pad_sequences\n",
        "from tqdm import tqdm\n",
        "import matplotlib.pyplot as plt\n",
        "import seaborn as sns\n",
        "%matplotlib inline\n",
        "\n",
        "df = pd.read_csv('../input/us-patent-phrase-to-phrase-matching/train.csv')\n",
        "df.sample(2)"
      ]
    },
    {
      "cell_type": "markdown",
      "id": "b0843e67",
      "metadata": {
        "papermill": {
          "duration": 0.190439,
          "end_time": "2022-04-28T06:48:16.893299",
          "exception": false,
          "start_time": "2022-04-28T06:48:16.702860",
          "status": "completed"
        },
        "tags": [],
        "id": "b0843e67"
      },
      "source": [
        "## **16.1 Count the score attribute**"
      ]
    },
    {
      "cell_type": "code",
      "execution_count": null,
      "id": "de0a562e",
      "metadata": {
        "execution": {
          "iopub.execute_input": "2022-04-28T06:48:17.283693Z",
          "iopub.status.busy": "2022-04-28T06:48:17.282802Z",
          "iopub.status.idle": "2022-04-28T06:48:17.471933Z",
          "shell.execute_reply": "2022-04-28T06:48:17.472367Z",
          "shell.execute_reply.started": "2022-04-28T06:02:28.736481Z"
        },
        "papermill": {
          "duration": 0.382173,
          "end_time": "2022-04-28T06:48:17.472536",
          "exception": false,
          "start_time": "2022-04-28T06:48:17.090363",
          "status": "completed"
        },
        "tags": [],
        "id": "de0a562e",
        "outputId": "55bf5cd1-2441-4ff1-ef00-5a9b6e4cf27d"
      },
      "outputs": [
        {
          "name": "stdout",
          "output_type": "stream",
          "text": [
            "0.50    12300\n",
            "0.25    11519\n",
            "0.00     7471\n",
            "0.75     4029\n",
            "1.00     1154\n",
            "Name: score, dtype: int64\n"
          ]
        },
        {
          "data": {
            "text/plain": [
              "<AxesSubplot:xlabel='score', ylabel='count'>"
            ]
          },
          "execution_count": 74,
          "metadata": {},
          "output_type": "execute_result"
        },
        {
          "data": {
            "image/png": "[encoded data removed]",
            "text/plain": [
              "<Figure size 432x288 with 1 Axes>"
            ]
          },
          "metadata": {
            "needs_background": "light"
          },
          "output_type": "display_data"
        }
      ],
      "source": [
        "print(df['score'].value_counts())\n",
        "sns.countplot(df['score'])"
      ]
    },
    {
      "cell_type": "markdown",
      "id": "3744dac2",
      "metadata": {
        "papermill": {
          "duration": 0.183118,
          "end_time": "2022-04-28T06:48:17.838620",
          "exception": false,
          "start_time": "2022-04-28T06:48:17.655502",
          "status": "completed"
        },
        "tags": [],
        "id": "3744dac2"
      },
      "source": [
        "## **16.2 Feature selection**"
      ]
    },
    {
      "cell_type": "code",
      "execution_count": null,
      "id": "42276a04",
      "metadata": {
        "execution": {
          "iopub.execute_input": "2022-04-28T06:48:18.222295Z",
          "iopub.status.busy": "2022-04-28T06:48:18.220725Z",
          "iopub.status.idle": "2022-04-28T06:48:18.222865Z",
          "shell.execute_reply": "2022-04-28T06:48:18.223282Z",
          "shell.execute_reply.started": "2022-04-28T06:02:28.927713Z"
        },
        "papermill": {
          "duration": 0.191049,
          "end_time": "2022-04-28T06:48:18.223419",
          "exception": false,
          "start_time": "2022-04-28T06:48:18.032370",
          "status": "completed"
        },
        "tags": [],
        "id": "42276a04"
      },
      "outputs": [],
      "source": [
        "x = df['target']\n",
        "y = df['score']"
      ]
    },
    {
      "cell_type": "markdown",
      "id": "02caed36",
      "metadata": {
        "papermill": {
          "duration": 0.182821,
          "end_time": "2022-04-28T06:48:18.593635",
          "exception": false,
          "start_time": "2022-04-28T06:48:18.410814",
          "status": "completed"
        },
        "tags": [],
        "id": "02caed36"
      },
      "source": [
        "## **16.3 Tokenize,pad,vocb the input**"
      ]
    },
    {
      "cell_type": "code",
      "execution_count": null,
      "id": "ac36c2b7",
      "metadata": {
        "execution": {
          "iopub.execute_input": "2022-04-28T06:48:19.001797Z",
          "iopub.status.busy": "2022-04-28T06:48:18.967056Z",
          "iopub.status.idle": "2022-04-28T06:48:19.556922Z",
          "shell.execute_reply": "2022-04-28T06:48:19.556414Z",
          "shell.execute_reply.started": "2022-04-28T06:02:28.934583Z"
        },
        "papermill": {
          "duration": 0.779807,
          "end_time": "2022-04-28T06:48:19.557055",
          "exception": false,
          "start_time": "2022-04-28T06:48:18.777248",
          "status": "completed"
        },
        "tags": [],
        "id": "ac36c2b7"
      },
      "outputs": [],
      "source": [
        "token = Tokenizer()\n",
        "token.fit_on_texts(x)\n",
        "seq = token.texts_to_sequences(x)"
      ]
    },
    {
      "cell_type": "code",
      "execution_count": null,
      "id": "f7400349",
      "metadata": {
        "execution": {
          "iopub.execute_input": "2022-04-28T06:48:19.995510Z",
          "iopub.status.busy": "2022-04-28T06:48:19.994270Z",
          "iopub.status.idle": "2022-04-28T06:48:20.151569Z",
          "shell.execute_reply": "2022-04-28T06:48:20.151002Z",
          "shell.execute_reply.started": "2022-04-28T06:02:29.532697Z"
        },
        "papermill": {
          "duration": 0.385616,
          "end_time": "2022-04-28T06:48:20.151718",
          "exception": false,
          "start_time": "2022-04-28T06:48:19.766102",
          "status": "completed"
        },
        "tags": [],
        "id": "f7400349"
      },
      "outputs": [],
      "source": [
        "pad_seq = pad_sequences(seq,maxlen=300)"
      ]
    },
    {
      "cell_type": "code",
      "execution_count": null,
      "id": "08a86965",
      "metadata": {
        "execution": {
          "iopub.execute_input": "2022-04-28T06:48:20.529710Z",
          "iopub.status.busy": "2022-04-28T06:48:20.528849Z",
          "iopub.status.idle": "2022-04-28T06:48:20.530574Z",
          "shell.execute_reply": "2022-04-28T06:48:20.531057Z",
          "shell.execute_reply.started": "2022-04-28T06:02:29.693513Z"
        },
        "papermill": {
          "duration": 0.191818,
          "end_time": "2022-04-28T06:48:20.531224",
          "exception": false,
          "start_time": "2022-04-28T06:48:20.339406",
          "status": "completed"
        },
        "tags": [],
        "id": "08a86965"
      },
      "outputs": [],
      "source": [
        "vocab_size = len(token.word_index)+1"
      ]
    },
    {
      "cell_type": "markdown",
      "id": "700bcd07",
      "metadata": {
        "papermill": {
          "duration": 0.184048,
          "end_time": "2022-04-28T06:48:20.901535",
          "exception": false,
          "start_time": "2022-04-28T06:48:20.717487",
          "status": "completed"
        },
        "tags": [],
        "id": "700bcd07"
      },
      "source": [
        "##**16.4 Initialize the glove 300d input txt file and apply the input data**"
      ]
    },
    {
      "cell_type": "code",
      "execution_count": null,
      "id": "dfda9bc8",
      "metadata": {
        "execution": {
          "iopub.execute_input": "2022-04-28T06:48:21.276310Z",
          "iopub.status.busy": "2022-04-28T06:48:21.275719Z",
          "iopub.status.idle": "2022-04-28T06:51:22.880934Z",
          "shell.execute_reply": "2022-04-28T06:51:22.881654Z"
        },
        "papermill": {
          "duration": 181.794901,
          "end_time": "2022-04-28T06:51:22.881910",
          "exception": false,
          "start_time": "2022-04-28T06:48:21.087009",
          "status": "completed"
        },
        "tags": [],
        "id": "dfda9bc8",
        "outputId": "b599bdbb-3c55-4ae1-bfb9-6de6cb55e8fc"
      },
      "outputs": [
        {
          "name": "stderr",
          "output_type": "stream",
          "text": [
            "2196018it [03:01, 12093.03it/s]\n"
          ]
        }
      ],
      "source": [
        "embedding_vector = {}\n",
        "f = open('../input/glove840b300dtxt/glove.840B.300d.txt')\n",
        "for line in tqdm(f):\n",
        "    value = line.split(' ')\n",
        "    word = value[0]\n",
        "    coef = np.array(value[1:],dtype = 'float32')\n",
        "    embedding_vector[word] = coef"
      ]
    },
    {
      "cell_type": "code",
      "execution_count": null,
      "id": "b2dd56bb",
      "metadata": {
        "execution": {
          "iopub.execute_input": "2022-04-28T06:51:24.533132Z",
          "iopub.status.busy": "2022-04-28T06:51:24.532007Z",
          "iopub.status.idle": "2022-04-28T06:51:24.580162Z",
          "shell.execute_reply": "2022-04-28T06:51:24.580845Z"
        },
        "papermill": {
          "duration": 0.875883,
          "end_time": "2022-04-28T06:51:24.581056",
          "exception": false,
          "start_time": "2022-04-28T06:51:23.705173",
          "status": "completed"
        },
        "tags": [],
        "id": "b2dd56bb",
        "outputId": "42c76dfb-87e1-47cf-b705-6b8b75f001ad"
      },
      "outputs": [
        {
          "name": "stderr",
          "output_type": "stream",
          "text": [
            "100%|██████████| 8906/8906 [00:00<00:00, 217564.22it/s]\n"
          ]
        }
      ],
      "source": [
        "embedding_matrix = np.zeros((vocab_size,300))\n",
        "for word,i in tqdm(token.word_index.items()):\n",
        "    embedding_value = embedding_vector.get(word)\n",
        "    if embedding_value is not None:\n",
        "        embedding_matrix[i] = embedding_value"
      ]
    },
    {
      "cell_type": "markdown",
      "id": "eee6f93e",
      "metadata": {
        "papermill": {
          "duration": 0.773126,
          "end_time": "2022-04-28T06:51:26.187813",
          "exception": false,
          "start_time": "2022-04-28T06:51:25.414687",
          "status": "completed"
        },
        "tags": [],
        "id": "eee6f93e"
      },
      "source": [
        "## **16.5 Build the model**"
      ]
    },
    {
      "cell_type": "code",
      "execution_count": null,
      "id": "81516986",
      "metadata": {
        "execution": {
          "iopub.execute_input": "2022-04-28T06:51:27.651551Z",
          "iopub.status.busy": "2022-04-28T06:51:27.650890Z",
          "iopub.status.idle": "2022-04-28T07:18:33.818891Z",
          "shell.execute_reply": "2022-04-28T07:18:33.819359Z"
        },
        "papermill": {
          "duration": 1626.914987,
          "end_time": "2022-04-28T07:18:33.819552",
          "exception": false,
          "start_time": "2022-04-28T06:51:26.904565",
          "status": "completed"
        },
        "tags": [],
        "id": "81516986",
        "outputId": "a3a4d4bd-6e8c-492b-dcaf-f8cc14bc9476"
      },
      "outputs": [
        {
          "name": "stderr",
          "output_type": "stream",
          "text": [
            "2022-04-28 06:51:27.719894: I tensorflow/stream_executor/cuda/cuda_gpu_executor.cc:937] successful NUMA node read from SysFS had negative value (-1), but there must be at least one NUMA node, so returning NUMA node zero\n",
            "2022-04-28 06:51:27.811729: I tensorflow/stream_executor/cuda/cuda_gpu_executor.cc:937] successful NUMA node read from SysFS had negative value (-1), but there must be at least one NUMA node, so returning NUMA node zero\n",
            "2022-04-28 06:51:27.812457: I tensorflow/stream_executor/cuda/cuda_gpu_executor.cc:937] successful NUMA node read from SysFS had negative value (-1), but there must be at least one NUMA node, so returning NUMA node zero\n",
            "2022-04-28 06:51:27.813653: I tensorflow/core/platform/cpu_feature_guard.cc:142] This TensorFlow binary is optimized with oneAPI Deep Neural Network Library (oneDNN) to use the following CPU instructions in performance-critical operations:  AVX2 AVX512F FMA\n",
            "To enable them in other operations, rebuild TensorFlow with the appropriate compiler flags.\n",
            "2022-04-28 06:51:27.814604: I tensorflow/stream_executor/cuda/cuda_gpu_executor.cc:937] successful NUMA node read from SysFS had negative value (-1), but there must be at least one NUMA node, so returning NUMA node zero\n",
            "2022-04-28 06:51:27.815276: I tensorflow/stream_executor/cuda/cuda_gpu_executor.cc:937] successful NUMA node read from SysFS had negative value (-1), but there must be at least one NUMA node, so returning NUMA node zero\n",
            "2022-04-28 06:51:27.815898: I tensorflow/stream_executor/cuda/cuda_gpu_executor.cc:937] successful NUMA node read from SysFS had negative value (-1), but there must be at least one NUMA node, so returning NUMA node zero\n",
            "2022-04-28 06:51:29.539921: I tensorflow/stream_executor/cuda/cuda_gpu_executor.cc:937] successful NUMA node read from SysFS had negative value (-1), but there must be at least one NUMA node, so returning NUMA node zero\n",
            "2022-04-28 06:51:29.540877: I tensorflow/stream_executor/cuda/cuda_gpu_executor.cc:937] successful NUMA node read from SysFS had negative value (-1), but there must be at least one NUMA node, so returning NUMA node zero\n",
            "2022-04-28 06:51:29.541608: I tensorflow/stream_executor/cuda/cuda_gpu_executor.cc:937] successful NUMA node read from SysFS had negative value (-1), but there must be at least one NUMA node, so returning NUMA node zero\n",
            "2022-04-28 06:51:29.542230: I tensorflow/core/common_runtime/gpu/gpu_device.cc:1510] Created device /job:localhost/replica:0/task:0/device:GPU:0 with 15403 MB memory:  -> device: 0, name: Tesla P100-PCIE-16GB, pci bus id: 0000:00:04.0, compute capability: 6.0\n",
            "2022-04-28 06:51:30.155668: W tensorflow/core/framework/cpu_allocator_impl.cc:80] Allocation of 43767600 exceeds 10% of free system memory.\n",
            "2022-04-28 06:51:30.281612: I tensorflow/compiler/mlir/mlir_graph_optimization_pass.cc:185] None of the MLIR Optimization Passes are enabled (registered 2)\n"
          ]
        },
        {
          "name": "stdout",
          "output_type": "stream",
          "text": [
            "Epoch 1/50\n"
          ]
        },
        {
          "name": "stderr",
          "output_type": "stream",
          "text": [
            "2022-04-28 06:51:32.776696: I tensorflow/stream_executor/cuda/cuda_dnn.cc:369] Loaded cuDNN version 8005\n"
          ]
        },
        {
          "name": "stdout",
          "output_type": "stream",
          "text": [
            "1140/1140 [==============================] - 35s 27ms/step - loss: 0.0593\n",
            "Epoch 2/50\n",
            "1140/1140 [==============================] - 32s 28ms/step - loss: 0.0484\n",
            "Epoch 3/50\n",
            "1140/1140 [==============================] - 32s 28ms/step - loss: 0.0416\n",
            "Epoch 4/50\n",
            "1140/1140 [==============================] - 32s 28ms/step - loss: 0.0362\n",
            "Epoch 5/50\n",
            "1140/1140 [==============================] - 32s 28ms/step - loss: 0.0320\n",
            "Epoch 6/50\n",
            "1140/1140 [==============================] - 32s 28ms/step - loss: 0.0284\n",
            "Epoch 7/50\n",
            "1140/1140 [==============================] - 32s 28ms/step - loss: 0.0254\n",
            "Epoch 8/50\n",
            "1140/1140 [==============================] - 32s 28ms/step - loss: 0.0229\n",
            "Epoch 9/50\n",
            "1140/1140 [==============================] - 32s 28ms/step - loss: 0.0208\n",
            "Epoch 10/50\n",
            "1140/1140 [==============================] - 32s 28ms/step - loss: 0.0190\n",
            "Epoch 11/50\n",
            "1140/1140 [==============================] - 32s 28ms/step - loss: 0.0174\n",
            "Epoch 12/50\n",
            "1140/1140 [==============================] - 32s 28ms/step - loss: 0.0161\n",
            "Epoch 13/50\n",
            "1140/1140 [==============================] - 32s 28ms/step - loss: 0.0149\n",
            "Epoch 14/50\n",
            "1140/1140 [==============================] - 32s 28ms/step - loss: 0.0140\n",
            "Epoch 15/50\n",
            "1140/1140 [==============================] - 32s 28ms/step - loss: 0.0132\n",
            "Epoch 16/50\n",
            "1140/1140 [==============================] - 32s 28ms/step - loss: 0.0125\n",
            "Epoch 17/50\n",
            "1140/1140 [==============================] - 33s 29ms/step - loss: 0.0119\n",
            "Epoch 18/50\n",
            "1140/1140 [==============================] - 33s 29ms/step - loss: 0.0114\n",
            "Epoch 19/50\n",
            "1140/1140 [==============================] - 32s 28ms/step - loss: 0.0109\n",
            "Epoch 20/50\n",
            "1140/1140 [==============================] - 32s 28ms/step - loss: 0.0105\n",
            "Epoch 21/50\n",
            "1140/1140 [==============================] - 32s 28ms/step - loss: 0.0103\n",
            "Epoch 22/50\n",
            "1140/1140 [==============================] - 32s 28ms/step - loss: 0.0098\n",
            "Epoch 23/50\n",
            "1140/1140 [==============================] - 32s 28ms/step - loss: 0.0095\n",
            "Epoch 24/50\n",
            "1140/1140 [==============================] - 32s 28ms/step - loss: 0.0093\n",
            "Epoch 25/50\n",
            "1140/1140 [==============================] - 32s 28ms/step - loss: 0.0091\n",
            "Epoch 26/50\n",
            "1140/1140 [==============================] - 32s 28ms/step - loss: 0.0088\n",
            "Epoch 27/50\n",
            "1140/1140 [==============================] - 33s 29ms/step - loss: 0.0087\n",
            "Epoch 28/50\n",
            "1140/1140 [==============================] - 32s 28ms/step - loss: 0.0085\n",
            "Epoch 29/50\n",
            "1140/1140 [==============================] - 33s 29ms/step - loss: 0.0083\n",
            "Epoch 30/50\n",
            "1140/1140 [==============================] - 32s 28ms/step - loss: 0.0082\n",
            "Epoch 31/50\n",
            "1140/1140 [==============================] - 33s 29ms/step - loss: 0.0081\n",
            "Epoch 32/50\n",
            "1140/1140 [==============================] - 32s 28ms/step - loss: 0.0079\n",
            "Epoch 33/50\n",
            "1140/1140 [==============================] - 33s 29ms/step - loss: 0.0078\n",
            "Epoch 34/50\n",
            "1140/1140 [==============================] - 32s 28ms/step - loss: 0.0077\n",
            "Epoch 35/50\n",
            "1140/1140 [==============================] - 33s 29ms/step - loss: 0.0076\n",
            "Epoch 36/50\n",
            "1140/1140 [==============================] - 32s 28ms/step - loss: 0.0075\n",
            "Epoch 37/50\n",
            "1140/1140 [==============================] - 33s 29ms/step - loss: 0.0074\n",
            "Epoch 38/50\n",
            "1140/1140 [==============================] - 33s 29ms/step - loss: 0.0076\n",
            "Epoch 39/50\n",
            "1140/1140 [==============================] - 32s 28ms/step - loss: 0.0073\n",
            "Epoch 40/50\n",
            "1140/1140 [==============================] - 33s 29ms/step - loss: 0.0072\n",
            "Epoch 41/50\n",
            "1140/1140 [==============================] - 32s 28ms/step - loss: 0.0072\n",
            "Epoch 42/50\n",
            "1140/1140 [==============================] - 33s 29ms/step - loss: 0.0071\n",
            "Epoch 43/50\n",
            "1140/1140 [==============================] - 33s 29ms/step - loss: 0.0197\n",
            "Epoch 44/50\n",
            "1140/1140 [==============================] - 33s 29ms/step - loss: 0.0076\n",
            "Epoch 45/50\n",
            "1140/1140 [==============================] - 33s 29ms/step - loss: 0.0071\n",
            "Epoch 46/50\n",
            "1140/1140 [==============================] - 32s 28ms/step - loss: 0.0070\n",
            "Epoch 47/50\n",
            "1140/1140 [==============================] - 32s 28ms/step - loss: 0.0069\n",
            "Epoch 48/50\n",
            "1140/1140 [==============================] - 32s 28ms/step - loss: 0.0068\n",
            "Epoch 49/50\n",
            "1140/1140 [==============================] - 33s 29ms/step - loss: 0.0070\n",
            "Epoch 50/50\n",
            "1140/1140 [==============================] - 32s 28ms/step - loss: 0.0068\n"
          ]
        }
      ],
      "source": [
        "model = Sequential()\n",
        "model.add(Embedding(vocab_size,300,weights = [embedding_matrix],input_length=300,trainable = False))\n",
        "model.add(Bidirectional(CuDNNLSTM(75)))\n",
        "model.add(Dense(32,activation = 'relu'))\n",
        "model.add(Dense(1))\n",
        "model.compile(loss='mse', optimizer='rmsprop')\n",
        "history = model.fit(pad_seq,y,epochs = 50,batch_size=32)"
      ]
    },
    {
      "cell_type": "markdown",
      "id": "0e29f5ac",
      "metadata": {
        "papermill": {
          "duration": 9.894214,
          "end_time": "2022-04-28T07:18:54.129624",
          "exception": false,
          "start_time": "2022-04-28T07:18:44.235410",
          "status": "completed"
        },
        "tags": [],
        "id": "0e29f5ac"
      },
      "source": [
        "## **16.6 Save the model**"
      ]
    },
    {
      "cell_type": "code",
      "execution_count": null,
      "id": "f32674ac",
      "metadata": {
        "execution": {
          "iopub.execute_input": "2022-04-28T07:19:14.379045Z",
          "iopub.status.busy": "2022-04-28T07:19:14.378229Z",
          "iopub.status.idle": "2022-04-28T07:19:14.442765Z",
          "shell.execute_reply": "2022-04-28T07:19:14.442172Z"
        },
        "papermill": {
          "duration": 10.47275,
          "end_time": "2022-04-28T07:19:14.442917",
          "exception": false,
          "start_time": "2022-04-28T07:19:03.970167",
          "status": "completed"
        },
        "tags": [],
        "id": "f32674ac"
      },
      "outputs": [],
      "source": [
        "from keras.models import load_model\n",
        "model.save(\"My_Glove_LSTM_Model.h5\")\n",
        "#del model  # deletes the existing model\n",
        "\n",
        "# returns a compiled model\n",
        "# identical to the previous one\n",
        "#model = load_model('my_model.h5')"
      ]
    },
    {
      "cell_type": "markdown",
      "id": "bf48f82c",
      "metadata": {
        "papermill": {
          "duration": 10.105745,
          "end_time": "2022-04-28T07:19:34.608091",
          "exception": false,
          "start_time": "2022-04-28T07:19:24.502346",
          "status": "completed"
        },
        "tags": [],
        "id": "bf48f82c"
      },
      "source": [
        "## **16.7 Apply test data and Predict Output**"
      ]
    },
    {
      "cell_type": "code",
      "execution_count": null,
      "id": "91b297ad",
      "metadata": {
        "_kg_hide-input": true,
        "execution": {
          "iopub.execute_input": "2022-04-28T07:19:54.703290Z",
          "iopub.status.busy": "2022-04-28T07:19:54.702581Z",
          "iopub.status.idle": "2022-04-28T07:19:54.729608Z",
          "shell.execute_reply": "2022-04-28T07:19:54.730014Z"
        },
        "papermill": {
          "duration": 9.988879,
          "end_time": "2022-04-28T07:19:54.730185",
          "exception": false,
          "start_time": "2022-04-28T07:19:44.741306",
          "status": "completed"
        },
        "tags": [],
        "id": "91b297ad",
        "outputId": "a0f0dedf-4ce6-400b-8e9e-95b46680e748"
      },
      "outputs": [
        {
          "name": "stdout",
          "output_type": "stream",
          "text": [
            "sample_shape (36, 2)\n"
          ]
        },
        {
          "data": {
            "text/html": [
              "<div>\n",
              "<style scoped>\n",
              "    .dataframe tbody tr th:only-of-type {\n",
              "        vertical-align: middle;\n",
              "    }\n",
              "\n",
              "    .dataframe tbody tr th {\n",
              "        vertical-align: top;\n",
              "    }\n",
              "\n",
              "    .dataframe thead th {\n",
              "        text-align: right;\n",
              "    }\n",
              "</style>\n",
              "<table border=\"1\" class=\"dataframe\">\n",
              "  <thead>\n",
              "    <tr style=\"text-align: right;\">\n",
              "      <th></th>\n",
              "      <th>id</th>\n",
              "      <th>anchor</th>\n",
              "      <th>target</th>\n",
              "      <th>context</th>\n",
              "    </tr>\n",
              "  </thead>\n",
              "  <tbody>\n",
              "    <tr>\n",
              "      <th>18</th>\n",
              "      <td>2a619016908bfa45</td>\n",
              "      <td>el display</td>\n",
              "      <td>electroluminescent</td>\n",
              "      <td>C23</td>\n",
              "    </tr>\n",
              "    <tr>\n",
              "      <th>32</th>\n",
              "      <td>9f2279ce667b21dc</td>\n",
              "      <td>clocked storage</td>\n",
              "      <td>clocked storage device</td>\n",
              "      <td>G01</td>\n",
              "    </tr>\n",
              "  </tbody>\n",
              "</table>\n",
              "</div>"
            ],
            "text/plain": [
              "                  id           anchor                  target context\n",
              "18  2a619016908bfa45       el display      electroluminescent     C23\n",
              "32  9f2279ce667b21dc  clocked storage  clocked storage device     G01"
            ]
          },
          "execution_count": 83,
          "metadata": {},
          "output_type": "execute_result"
        }
      ],
      "source": [
        "testing = pd.read_csv('../input/us-patent-phrase-to-phrase-matching/test.csv')\n",
        "sample = pd.read_csv('../input/us-patent-phrase-to-phrase-matching/sample_submission.csv')\n",
        "print('sample_shape',sample.shape)\n",
        "testing.sample(2)\n"
      ]
    },
    {
      "cell_type": "code",
      "execution_count": null,
      "id": "51113feb",
      "metadata": {
        "_kg_hide-input": true,
        "execution": {
          "iopub.execute_input": "2022-04-28T07:20:15.047212Z",
          "iopub.status.busy": "2022-04-28T07:20:15.045497Z",
          "iopub.status.idle": "2022-04-28T07:20:15.047785Z",
          "shell.execute_reply": "2022-04-28T07:20:15.048207Z"
        },
        "papermill": {
          "duration": 10.392907,
          "end_time": "2022-04-28T07:20:15.048354",
          "exception": false,
          "start_time": "2022-04-28T07:20:04.655447",
          "status": "completed"
        },
        "tags": [],
        "id": "51113feb"
      },
      "outputs": [],
      "source": [
        "x_test = testing['target']\n",
        "x_test = token.texts_to_sequences(x_test)\n",
        "testing_seq = pad_sequences(x_test,maxlen=300)"
      ]
    },
    {
      "cell_type": "code",
      "execution_count": null,
      "id": "c882deb7",
      "metadata": {
        "execution": {
          "iopub.execute_input": "2022-04-28T07:20:55.057411Z",
          "iopub.status.busy": "2022-04-28T07:20:55.056586Z",
          "iopub.status.idle": "2022-04-28T07:20:55.429346Z",
          "shell.execute_reply": "2022-04-28T07:20:55.429767Z"
        },
        "papermill": {
          "duration": 10.790632,
          "end_time": "2022-04-28T07:20:55.429915",
          "exception": false,
          "start_time": "2022-04-28T07:20:44.639283",
          "status": "completed"
        },
        "tags": [],
        "id": "c882deb7",
        "outputId": "40c232bc-0cdc-4a65-d39b-3028c6eedcd3"
      },
      "outputs": [
        {
          "data": {
            "text/html": [
              "<div>\n",
              "<style scoped>\n",
              "    .dataframe tbody tr th:only-of-type {\n",
              "        vertical-align: middle;\n",
              "    }\n",
              "\n",
              "    .dataframe tbody tr th {\n",
              "        vertical-align: top;\n",
              "    }\n",
              "\n",
              "    .dataframe thead th {\n",
              "        text-align: right;\n",
              "    }\n",
              "</style>\n",
              "<table border=\"1\" class=\"dataframe\">\n",
              "  <thead>\n",
              "    <tr style=\"text-align: right;\">\n",
              "      <th></th>\n",
              "      <th>id</th>\n",
              "      <th>anchor</th>\n",
              "      <th>target</th>\n",
              "      <th>context</th>\n",
              "      <th>label</th>\n",
              "    </tr>\n",
              "  </thead>\n",
              "  <tbody>\n",
              "    <tr>\n",
              "      <th>0</th>\n",
              "      <td>4112d61851461f60</td>\n",
              "      <td>opc drum</td>\n",
              "      <td>inorganic photoconductor drum</td>\n",
              "      <td>G02</td>\n",
              "      <td>0.292932</td>\n",
              "    </tr>\n",
              "    <tr>\n",
              "      <th>1</th>\n",
              "      <td>09e418c93a776564</td>\n",
              "      <td>adjust gas flow</td>\n",
              "      <td>altering gas flow</td>\n",
              "      <td>F23</td>\n",
              "      <td>0.522929</td>\n",
              "    </tr>\n",
              "    <tr>\n",
              "      <th>2</th>\n",
              "      <td>36baf228038e314b</td>\n",
              "      <td>lower trunnion</td>\n",
              "      <td>lower locating</td>\n",
              "      <td>B60</td>\n",
              "      <td>0.514190</td>\n",
              "    </tr>\n",
              "    <tr>\n",
              "      <th>3</th>\n",
              "      <td>1f37ead645e7f0c8</td>\n",
              "      <td>cap component</td>\n",
              "      <td>upper portion</td>\n",
              "      <td>D06</td>\n",
              "      <td>0.219744</td>\n",
              "    </tr>\n",
              "    <tr>\n",
              "      <th>4</th>\n",
              "      <td>71a5b6ad068d531f</td>\n",
              "      <td>neural stimulation</td>\n",
              "      <td>artificial neural network</td>\n",
              "      <td>H04</td>\n",
              "      <td>0.057094</td>\n",
              "    </tr>\n",
              "  </tbody>\n",
              "</table>\n",
              "</div>"
            ],
            "text/plain": [
              "                 id              anchor                         target  \\\n",
              "0  4112d61851461f60            opc drum  inorganic photoconductor drum   \n",
              "1  09e418c93a776564     adjust gas flow              altering gas flow   \n",
              "2  36baf228038e314b      lower trunnion                 lower locating   \n",
              "3  1f37ead645e7f0c8       cap component                  upper portion   \n",
              "4  71a5b6ad068d531f  neural stimulation      artificial neural network   \n",
              "\n",
              "  context     label  \n",
              "0     G02  0.292932  \n",
              "1     F23  0.522929  \n",
              "2     B60  0.514190  \n",
              "3     D06  0.219744  \n",
              "4     H04  0.057094  "
            ]
          },
          "execution_count": 85,
          "metadata": {},
          "output_type": "execute_result"
        }
      ],
      "source": [
        "predict = model.predict(testing_seq)\n",
        "testing['label'] = predict\n",
        "testing.head()"
      ]
    },
    {
      "cell_type": "markdown",
      "id": "a0eb4669",
      "metadata": {
        "papermill": {
          "duration": 9.918609,
          "end_time": "2022-04-28T07:21:15.243351",
          "exception": false,
          "start_time": "2022-04-28T07:21:05.324742",
          "status": "completed"
        },
        "tags": [],
        "id": "a0eb4669"
      },
      "source": [
        "## **16.8 Generate Output_Submission CSV file**"
      ]
    },
    {
      "cell_type": "code",
      "execution_count": null,
      "id": "0d5e8cb7",
      "metadata": {
        "execution": {
          "iopub.execute_input": "2022-04-28T07:21:35.704829Z",
          "iopub.status.busy": "2022-04-28T07:21:35.704203Z",
          "iopub.status.idle": "2022-04-28T07:21:35.711971Z",
          "shell.execute_reply": "2022-04-28T07:21:35.712509Z"
        },
        "papermill": {
          "duration": 9.830051,
          "end_time": "2022-04-28T07:21:35.712658",
          "exception": false,
          "start_time": "2022-04-28T07:21:25.882607",
          "status": "completed"
        },
        "tags": [],
        "id": "0d5e8cb7",
        "outputId": "fb8bd8ee-18f4-4c73-d431-0b7c79aa4847"
      },
      "outputs": [
        {
          "name": "stdout",
          "output_type": "stream",
          "text": [
            "Final achieve to send Glove_Predict output data\n"
          ]
        }
      ],
      "source": [
        "final_predict = testing.label\n",
        "sample['score'] = final_predict\n",
        "sample.to_csv(\"submission.csv\",index=False)\n",
        "print(\"Final achieve to send Glove_Predict output data\")"
      ]
    },
    {
      "cell_type": "code",
      "execution_count": null,
      "id": "06d0842d",
      "metadata": {
        "papermill": {
          "duration": 10.436476,
          "end_time": "2022-04-28T07:21:55.746990",
          "exception": false,
          "start_time": "2022-04-28T07:21:45.310514",
          "status": "completed"
        },
        "tags": [],
        "id": "06d0842d"
      },
      "outputs": [],
      "source": []
    },
    {
      "cell_type": "markdown",
      "id": "0e2dd790",
      "metadata": {
        "papermill": {
          "duration": 9.83964,
          "end_time": "2022-04-28T07:22:15.487740",
          "exception": false,
          "start_time": "2022-04-28T07:22:05.648100",
          "status": "completed"
        },
        "tags": [],
        "id": "0e2dd790"
      },
      "source": [
        "\n",
        "\n",
        "**This Notebook is first step to learn NLP (different basic concepts and how to apply the text data)**\n",
        "\n",
        "**My next step is move forward in Transformer concept**\n",
        "(https://www.kaggle.com/competitions/us-patent-phrase-to-phrase-matching/discussion/320962)"
      ]
    },
    {
      "cell_type": "markdown",
      "id": "c535d5ab",
      "metadata": {
        "papermill": {
          "duration": 10.363492,
          "end_time": "2022-04-28T07:22:35.796667",
          "exception": false,
          "start_time": "2022-04-28T07:22:25.433175",
          "status": "completed"
        },
        "tags": [],
        "id": "c535d5ab"
      },
      "source": [
        "# **17. References**\n",
        "[Go back](#scrollTo=qQGn3HnPplKd)\n",
        "\n",
        " Full credits -----> Sendex_NLTK video series, Nlp practical book, more resourse like blog,articles,research paper & my team member\n",
        "\n",
        "**1. https://pythonprogramming.net/tokenizing-words-sentences-nltk-tutorial/**\n",
        "\n",
        "**2. https://youtube.com/playlist?list=PLQVvvaa0QuDf2JswnfiGkliBInZnIC4HL**\n",
        "\n",
        "**3. https://github.com/practical-nlp/practical-nlp-code/blob/master/**\n",
        "\n",
        "**4. https://www.mygreatlearning.com/blog/bag-of-words/**\n",
        "\n",
        "**5. https://towardsdatascience.com/word2vec-explained-49c52b4ccb71**\n",
        "\n",
        "**6. https://www.kaggle.com/code/shahules/basic-eda-cleaning-and-glove#GloVe-for-Vectorization**\n",
        "\n",
        "**7. https://medium.com/@sarin.samarth07/glove-word-embeddings-with-keras-python-code-52131b0c8b1d**\n",
        "\n",
        "  "
      ]
    },
    {
      "cell_type": "code",
      "source": [],
      "metadata": {
        "id": "HZXxPkE_9DFg"
      },
      "id": "HZXxPkE_9DFg",
      "execution_count": null,
      "outputs": []
    }
  ],
  "metadata": {
    "kernelspec": {
      "display_name": "Python 3",
      "language": "python",
      "name": "python3"
    },
    "language_info": {
      "codemirror_mode": {
        "name": "ipython",
        "version": 3
      },
      "file_extension": ".py",
      "mimetype": "text/x-python",
      "name": "python",
      "nbconvert_exporter": "python",
      "pygments_lexer": "ipython3",
      "version": "3.7.12"
    },
    "papermill": {
      "default_parameters": {},
      "duration": 2252.134003,
      "end_time": "2022-04-28T07:23:10.106907",
      "environment_variables": {},
      "exception": null,
      "input_path": "__notebook__.ipynb",
      "output_path": "__notebook__.ipynb",
      "parameters": {},
      "start_time": "2022-04-28T06:45:37.972904",
      "version": "2.3.3"
    },
    "colab": {
      "provenance": []
    }
  },
  "nbformat": 4,
  "nbformat_minor": 5
}